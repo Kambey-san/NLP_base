{
  "nbformat": 4,
  "nbformat_minor": 0,
  "metadata": {
    "colab": {
      "provenance": [],
      "gpuType": "T4",
      "authorship_tag": "ABX9TyPWY1yzgmMjK1BXYSZ3BKkE",
      "include_colab_link": true
    },
    "kernelspec": {
      "name": "python3",
      "display_name": "Python 3"
    },
    "language_info": {
      "name": "python"
    },
    "widgets": {
      "application/vnd.jupyter.widget-state+json": {
        "7ba7a52206d742a19e3babf4d6646827": {
          "model_module": "@jupyter-widgets/controls",
          "model_name": "HBoxModel",
          "model_module_version": "1.5.0",
          "state": {
            "_dom_classes": [],
            "_model_module": "@jupyter-widgets/controls",
            "_model_module_version": "1.5.0",
            "_model_name": "HBoxModel",
            "_view_count": null,
            "_view_module": "@jupyter-widgets/controls",
            "_view_module_version": "1.5.0",
            "_view_name": "HBoxView",
            "box_style": "",
            "children": [
              "IPY_MODEL_319d8df9fb4146d9bb1df9871ad4d78b",
              "IPY_MODEL_c94182c7b152484d931989c485275862",
              "IPY_MODEL_eeb6d96b4a254cff9370b2a5e4258cbb"
            ],
            "layout": "IPY_MODEL_c2cd314669c94a54871fbbc7674896c3"
          }
        },
        "319d8df9fb4146d9bb1df9871ad4d78b": {
          "model_module": "@jupyter-widgets/controls",
          "model_name": "HTMLModel",
          "model_module_version": "1.5.0",
          "state": {
            "_dom_classes": [],
            "_model_module": "@jupyter-widgets/controls",
            "_model_module_version": "1.5.0",
            "_model_name": "HTMLModel",
            "_view_count": null,
            "_view_module": "@jupyter-widgets/controls",
            "_view_module_version": "1.5.0",
            "_view_name": "HTMLView",
            "description": "",
            "description_tooltip": null,
            "layout": "IPY_MODEL_16ccaf3b364249528588f6f269a82632",
            "placeholder": "​",
            "style": "IPY_MODEL_01f06e3da56f4030a960a88d0f5c761f",
            "value": ""
          }
        },
        "c94182c7b152484d931989c485275862": {
          "model_module": "@jupyter-widgets/controls",
          "model_name": "FloatProgressModel",
          "model_module_version": "1.5.0",
          "state": {
            "_dom_classes": [],
            "_model_module": "@jupyter-widgets/controls",
            "_model_module_version": "1.5.0",
            "_model_name": "FloatProgressModel",
            "_view_count": null,
            "_view_module": "@jupyter-widgets/controls",
            "_view_module_version": "1.5.0",
            "_view_name": "ProgressView",
            "bar_style": "success",
            "description": "",
            "description_tooltip": null,
            "layout": "IPY_MODEL_29d85a9fff3e4919a0a4b3bf2d3aa64a",
            "max": 1,
            "min": 0,
            "orientation": "horizontal",
            "style": "IPY_MODEL_7256516e7dad48e5b61ef9011f02fe63",
            "value": 1
          }
        },
        "eeb6d96b4a254cff9370b2a5e4258cbb": {
          "model_module": "@jupyter-widgets/controls",
          "model_name": "HTMLModel",
          "model_module_version": "1.5.0",
          "state": {
            "_dom_classes": [],
            "_model_module": "@jupyter-widgets/controls",
            "_model_module_version": "1.5.0",
            "_model_name": "HTMLModel",
            "_view_count": null,
            "_view_module": "@jupyter-widgets/controls",
            "_view_module_version": "1.5.0",
            "_view_name": "HTMLView",
            "description": "",
            "description_tooltip": null,
            "layout": "IPY_MODEL_3bbb3e267e2e413fafba28d2a2e0be53",
            "placeholder": "​",
            "style": "IPY_MODEL_bb7c92b5030e4c45b402f013e21797b8",
            "value": " 7550926/? [00:25&lt;00:00, 415235.64it/s]"
          }
        },
        "c2cd314669c94a54871fbbc7674896c3": {
          "model_module": "@jupyter-widgets/base",
          "model_name": "LayoutModel",
          "model_module_version": "1.2.0",
          "state": {
            "_model_module": "@jupyter-widgets/base",
            "_model_module_version": "1.2.0",
            "_model_name": "LayoutModel",
            "_view_count": null,
            "_view_module": "@jupyter-widgets/base",
            "_view_module_version": "1.2.0",
            "_view_name": "LayoutView",
            "align_content": null,
            "align_items": null,
            "align_self": null,
            "border": null,
            "bottom": null,
            "display": null,
            "flex": null,
            "flex_flow": null,
            "grid_area": null,
            "grid_auto_columns": null,
            "grid_auto_flow": null,
            "grid_auto_rows": null,
            "grid_column": null,
            "grid_gap": null,
            "grid_row": null,
            "grid_template_areas": null,
            "grid_template_columns": null,
            "grid_template_rows": null,
            "height": null,
            "justify_content": null,
            "justify_items": null,
            "left": null,
            "margin": null,
            "max_height": null,
            "max_width": null,
            "min_height": null,
            "min_width": null,
            "object_fit": null,
            "object_position": null,
            "order": null,
            "overflow": null,
            "overflow_x": null,
            "overflow_y": null,
            "padding": null,
            "right": null,
            "top": null,
            "visibility": null,
            "width": null
          }
        },
        "16ccaf3b364249528588f6f269a82632": {
          "model_module": "@jupyter-widgets/base",
          "model_name": "LayoutModel",
          "model_module_version": "1.2.0",
          "state": {
            "_model_module": "@jupyter-widgets/base",
            "_model_module_version": "1.2.0",
            "_model_name": "LayoutModel",
            "_view_count": null,
            "_view_module": "@jupyter-widgets/base",
            "_view_module_version": "1.2.0",
            "_view_name": "LayoutView",
            "align_content": null,
            "align_items": null,
            "align_self": null,
            "border": null,
            "bottom": null,
            "display": null,
            "flex": null,
            "flex_flow": null,
            "grid_area": null,
            "grid_auto_columns": null,
            "grid_auto_flow": null,
            "grid_auto_rows": null,
            "grid_column": null,
            "grid_gap": null,
            "grid_row": null,
            "grid_template_areas": null,
            "grid_template_columns": null,
            "grid_template_rows": null,
            "height": null,
            "justify_content": null,
            "justify_items": null,
            "left": null,
            "margin": null,
            "max_height": null,
            "max_width": null,
            "min_height": null,
            "min_width": null,
            "object_fit": null,
            "object_position": null,
            "order": null,
            "overflow": null,
            "overflow_x": null,
            "overflow_y": null,
            "padding": null,
            "right": null,
            "top": null,
            "visibility": null,
            "width": null
          }
        },
        "01f06e3da56f4030a960a88d0f5c761f": {
          "model_module": "@jupyter-widgets/controls",
          "model_name": "DescriptionStyleModel",
          "model_module_version": "1.5.0",
          "state": {
            "_model_module": "@jupyter-widgets/controls",
            "_model_module_version": "1.5.0",
            "_model_name": "DescriptionStyleModel",
            "_view_count": null,
            "_view_module": "@jupyter-widgets/base",
            "_view_module_version": "1.2.0",
            "_view_name": "StyleView",
            "description_width": ""
          }
        },
        "29d85a9fff3e4919a0a4b3bf2d3aa64a": {
          "model_module": "@jupyter-widgets/base",
          "model_name": "LayoutModel",
          "model_module_version": "1.2.0",
          "state": {
            "_model_module": "@jupyter-widgets/base",
            "_model_module_version": "1.2.0",
            "_model_name": "LayoutModel",
            "_view_count": null,
            "_view_module": "@jupyter-widgets/base",
            "_view_module_version": "1.2.0",
            "_view_name": "LayoutView",
            "align_content": null,
            "align_items": null,
            "align_self": null,
            "border": null,
            "bottom": null,
            "display": null,
            "flex": null,
            "flex_flow": null,
            "grid_area": null,
            "grid_auto_columns": null,
            "grid_auto_flow": null,
            "grid_auto_rows": null,
            "grid_column": null,
            "grid_gap": null,
            "grid_row": null,
            "grid_template_areas": null,
            "grid_template_columns": null,
            "grid_template_rows": null,
            "height": null,
            "justify_content": null,
            "justify_items": null,
            "left": null,
            "margin": null,
            "max_height": null,
            "max_width": null,
            "min_height": null,
            "min_width": null,
            "object_fit": null,
            "object_position": null,
            "order": null,
            "overflow": null,
            "overflow_x": null,
            "overflow_y": null,
            "padding": null,
            "right": null,
            "top": null,
            "visibility": null,
            "width": "20px"
          }
        },
        "7256516e7dad48e5b61ef9011f02fe63": {
          "model_module": "@jupyter-widgets/controls",
          "model_name": "ProgressStyleModel",
          "model_module_version": "1.5.0",
          "state": {
            "_model_module": "@jupyter-widgets/controls",
            "_model_module_version": "1.5.0",
            "_model_name": "ProgressStyleModel",
            "_view_count": null,
            "_view_module": "@jupyter-widgets/base",
            "_view_module_version": "1.2.0",
            "_view_name": "StyleView",
            "bar_color": null,
            "description_width": ""
          }
        },
        "3bbb3e267e2e413fafba28d2a2e0be53": {
          "model_module": "@jupyter-widgets/base",
          "model_name": "LayoutModel",
          "model_module_version": "1.2.0",
          "state": {
            "_model_module": "@jupyter-widgets/base",
            "_model_module_version": "1.2.0",
            "_model_name": "LayoutModel",
            "_view_count": null,
            "_view_module": "@jupyter-widgets/base",
            "_view_module_version": "1.2.0",
            "_view_name": "LayoutView",
            "align_content": null,
            "align_items": null,
            "align_self": null,
            "border": null,
            "bottom": null,
            "display": null,
            "flex": null,
            "flex_flow": null,
            "grid_area": null,
            "grid_auto_columns": null,
            "grid_auto_flow": null,
            "grid_auto_rows": null,
            "grid_column": null,
            "grid_gap": null,
            "grid_row": null,
            "grid_template_areas": null,
            "grid_template_columns": null,
            "grid_template_rows": null,
            "height": null,
            "justify_content": null,
            "justify_items": null,
            "left": null,
            "margin": null,
            "max_height": null,
            "max_width": null,
            "min_height": null,
            "min_width": null,
            "object_fit": null,
            "object_position": null,
            "order": null,
            "overflow": null,
            "overflow_x": null,
            "overflow_y": null,
            "padding": null,
            "right": null,
            "top": null,
            "visibility": null,
            "width": null
          }
        },
        "bb7c92b5030e4c45b402f013e21797b8": {
          "model_module": "@jupyter-widgets/controls",
          "model_name": "DescriptionStyleModel",
          "model_module_version": "1.5.0",
          "state": {
            "_model_module": "@jupyter-widgets/controls",
            "_model_module_version": "1.5.0",
            "_model_name": "DescriptionStyleModel",
            "_view_count": null,
            "_view_module": "@jupyter-widgets/base",
            "_view_module_version": "1.2.0",
            "_view_name": "StyleView",
            "description_width": ""
          }
        },
        "c4891854b18b480bac8dd660c503239b": {
          "model_module": "@jupyter-widgets/controls",
          "model_name": "HBoxModel",
          "model_module_version": "1.5.0",
          "state": {
            "_dom_classes": [],
            "_model_module": "@jupyter-widgets/controls",
            "_model_module_version": "1.5.0",
            "_model_name": "HBoxModel",
            "_view_count": null,
            "_view_module": "@jupyter-widgets/controls",
            "_view_module_version": "1.5.0",
            "_view_name": "HBoxView",
            "box_style": "",
            "children": [
              "IPY_MODEL_beee6c02780c4665a5ba75530705640b",
              "IPY_MODEL_47131682e8b74f41ae82f2f1b9327aab",
              "IPY_MODEL_a15d2a237bd84b609380fa1aff62f17b"
            ],
            "layout": "IPY_MODEL_ae40130813bd465f94651d126f969bc4"
          }
        },
        "beee6c02780c4665a5ba75530705640b": {
          "model_module": "@jupyter-widgets/controls",
          "model_name": "HTMLModel",
          "model_module_version": "1.5.0",
          "state": {
            "_dom_classes": [],
            "_model_module": "@jupyter-widgets/controls",
            "_model_module_version": "1.5.0",
            "_model_name": "HTMLModel",
            "_view_count": null,
            "_view_module": "@jupyter-widgets/controls",
            "_view_module_version": "1.5.0",
            "_view_name": "HTMLView",
            "description": "",
            "description_tooltip": null,
            "layout": "IPY_MODEL_b56462d30f4a4e0d97faf3d9045f2711",
            "placeholder": "​",
            "style": "IPY_MODEL_06f8518502234f27ac286777debcd44d",
            "value": "100%"
          }
        },
        "47131682e8b74f41ae82f2f1b9327aab": {
          "model_module": "@jupyter-widgets/controls",
          "model_name": "FloatProgressModel",
          "model_module_version": "1.5.0",
          "state": {
            "_dom_classes": [],
            "_model_module": "@jupyter-widgets/controls",
            "_model_module_version": "1.5.0",
            "_model_name": "FloatProgressModel",
            "_view_count": null,
            "_view_module": "@jupyter-widgets/controls",
            "_view_module_version": "1.5.0",
            "_view_name": "ProgressView",
            "bar_style": "success",
            "description": "",
            "description_tooltip": null,
            "layout": "IPY_MODEL_293af16005d84f468c30b2bc43ab2751",
            "max": 1163342,
            "min": 0,
            "orientation": "horizontal",
            "style": "IPY_MODEL_3291201ab3cf4afd8c86b0899c5f5174",
            "value": 1163342
          }
        },
        "a15d2a237bd84b609380fa1aff62f17b": {
          "model_module": "@jupyter-widgets/controls",
          "model_name": "HTMLModel",
          "model_module_version": "1.5.0",
          "state": {
            "_dom_classes": [],
            "_model_module": "@jupyter-widgets/controls",
            "_model_module_version": "1.5.0",
            "_model_name": "HTMLModel",
            "_view_count": null,
            "_view_module": "@jupyter-widgets/controls",
            "_view_module_version": "1.5.0",
            "_view_name": "HTMLView",
            "description": "",
            "description_tooltip": null,
            "layout": "IPY_MODEL_88813c1b2d8e4dc4bea76fc0222dfeef",
            "placeholder": "​",
            "style": "IPY_MODEL_3fd8e67b716a4bdeafd1d32b736c02b6",
            "value": " 1163342/1163342 [5:24:44&lt;00:00, 74.22it/s]"
          }
        },
        "ae40130813bd465f94651d126f969bc4": {
          "model_module": "@jupyter-widgets/base",
          "model_name": "LayoutModel",
          "model_module_version": "1.2.0",
          "state": {
            "_model_module": "@jupyter-widgets/base",
            "_model_module_version": "1.2.0",
            "_model_name": "LayoutModel",
            "_view_count": null,
            "_view_module": "@jupyter-widgets/base",
            "_view_module_version": "1.2.0",
            "_view_name": "LayoutView",
            "align_content": null,
            "align_items": null,
            "align_self": null,
            "border": null,
            "bottom": null,
            "display": null,
            "flex": null,
            "flex_flow": null,
            "grid_area": null,
            "grid_auto_columns": null,
            "grid_auto_flow": null,
            "grid_auto_rows": null,
            "grid_column": null,
            "grid_gap": null,
            "grid_row": null,
            "grid_template_areas": null,
            "grid_template_columns": null,
            "grid_template_rows": null,
            "height": null,
            "justify_content": null,
            "justify_items": null,
            "left": null,
            "margin": null,
            "max_height": null,
            "max_width": null,
            "min_height": null,
            "min_width": null,
            "object_fit": null,
            "object_position": null,
            "order": null,
            "overflow": null,
            "overflow_x": null,
            "overflow_y": null,
            "padding": null,
            "right": null,
            "top": null,
            "visibility": null,
            "width": null
          }
        },
        "b56462d30f4a4e0d97faf3d9045f2711": {
          "model_module": "@jupyter-widgets/base",
          "model_name": "LayoutModel",
          "model_module_version": "1.2.0",
          "state": {
            "_model_module": "@jupyter-widgets/base",
            "_model_module_version": "1.2.0",
            "_model_name": "LayoutModel",
            "_view_count": null,
            "_view_module": "@jupyter-widgets/base",
            "_view_module_version": "1.2.0",
            "_view_name": "LayoutView",
            "align_content": null,
            "align_items": null,
            "align_self": null,
            "border": null,
            "bottom": null,
            "display": null,
            "flex": null,
            "flex_flow": null,
            "grid_area": null,
            "grid_auto_columns": null,
            "grid_auto_flow": null,
            "grid_auto_rows": null,
            "grid_column": null,
            "grid_gap": null,
            "grid_row": null,
            "grid_template_areas": null,
            "grid_template_columns": null,
            "grid_template_rows": null,
            "height": null,
            "justify_content": null,
            "justify_items": null,
            "left": null,
            "margin": null,
            "max_height": null,
            "max_width": null,
            "min_height": null,
            "min_width": null,
            "object_fit": null,
            "object_position": null,
            "order": null,
            "overflow": null,
            "overflow_x": null,
            "overflow_y": null,
            "padding": null,
            "right": null,
            "top": null,
            "visibility": null,
            "width": null
          }
        },
        "06f8518502234f27ac286777debcd44d": {
          "model_module": "@jupyter-widgets/controls",
          "model_name": "DescriptionStyleModel",
          "model_module_version": "1.5.0",
          "state": {
            "_model_module": "@jupyter-widgets/controls",
            "_model_module_version": "1.5.0",
            "_model_name": "DescriptionStyleModel",
            "_view_count": null,
            "_view_module": "@jupyter-widgets/base",
            "_view_module_version": "1.2.0",
            "_view_name": "StyleView",
            "description_width": ""
          }
        },
        "293af16005d84f468c30b2bc43ab2751": {
          "model_module": "@jupyter-widgets/base",
          "model_name": "LayoutModel",
          "model_module_version": "1.2.0",
          "state": {
            "_model_module": "@jupyter-widgets/base",
            "_model_module_version": "1.2.0",
            "_model_name": "LayoutModel",
            "_view_count": null,
            "_view_module": "@jupyter-widgets/base",
            "_view_module_version": "1.2.0",
            "_view_name": "LayoutView",
            "align_content": null,
            "align_items": null,
            "align_self": null,
            "border": null,
            "bottom": null,
            "display": null,
            "flex": null,
            "flex_flow": null,
            "grid_area": null,
            "grid_auto_columns": null,
            "grid_auto_flow": null,
            "grid_auto_rows": null,
            "grid_column": null,
            "grid_gap": null,
            "grid_row": null,
            "grid_template_areas": null,
            "grid_template_columns": null,
            "grid_template_rows": null,
            "height": null,
            "justify_content": null,
            "justify_items": null,
            "left": null,
            "margin": null,
            "max_height": null,
            "max_width": null,
            "min_height": null,
            "min_width": null,
            "object_fit": null,
            "object_position": null,
            "order": null,
            "overflow": null,
            "overflow_x": null,
            "overflow_y": null,
            "padding": null,
            "right": null,
            "top": null,
            "visibility": null,
            "width": null
          }
        },
        "3291201ab3cf4afd8c86b0899c5f5174": {
          "model_module": "@jupyter-widgets/controls",
          "model_name": "ProgressStyleModel",
          "model_module_version": "1.5.0",
          "state": {
            "_model_module": "@jupyter-widgets/controls",
            "_model_module_version": "1.5.0",
            "_model_name": "ProgressStyleModel",
            "_view_count": null,
            "_view_module": "@jupyter-widgets/base",
            "_view_module_version": "1.2.0",
            "_view_name": "StyleView",
            "bar_color": null,
            "description_width": ""
          }
        },
        "88813c1b2d8e4dc4bea76fc0222dfeef": {
          "model_module": "@jupyter-widgets/base",
          "model_name": "LayoutModel",
          "model_module_version": "1.2.0",
          "state": {
            "_model_module": "@jupyter-widgets/base",
            "_model_module_version": "1.2.0",
            "_model_name": "LayoutModel",
            "_view_count": null,
            "_view_module": "@jupyter-widgets/base",
            "_view_module_version": "1.2.0",
            "_view_name": "LayoutView",
            "align_content": null,
            "align_items": null,
            "align_self": null,
            "border": null,
            "bottom": null,
            "display": null,
            "flex": null,
            "flex_flow": null,
            "grid_area": null,
            "grid_auto_columns": null,
            "grid_auto_flow": null,
            "grid_auto_rows": null,
            "grid_column": null,
            "grid_gap": null,
            "grid_row": null,
            "grid_template_areas": null,
            "grid_template_columns": null,
            "grid_template_rows": null,
            "height": null,
            "justify_content": null,
            "justify_items": null,
            "left": null,
            "margin": null,
            "max_height": null,
            "max_width": null,
            "min_height": null,
            "min_width": null,
            "object_fit": null,
            "object_position": null,
            "order": null,
            "overflow": null,
            "overflow_x": null,
            "overflow_y": null,
            "padding": null,
            "right": null,
            "top": null,
            "visibility": null,
            "width": null
          }
        },
        "3fd8e67b716a4bdeafd1d32b736c02b6": {
          "model_module": "@jupyter-widgets/controls",
          "model_name": "DescriptionStyleModel",
          "model_module_version": "1.5.0",
          "state": {
            "_model_module": "@jupyter-widgets/controls",
            "_model_module_version": "1.5.0",
            "_model_name": "DescriptionStyleModel",
            "_view_count": null,
            "_view_module": "@jupyter-widgets/base",
            "_view_module_version": "1.2.0",
            "_view_name": "StyleView",
            "description_width": ""
          }
        },
        "4ee7b4daa7ea4e2caecf686f57844d21": {
          "model_module": "@jupyter-widgets/controls",
          "model_name": "HBoxModel",
          "model_module_version": "1.5.0",
          "state": {
            "_dom_classes": [],
            "_model_module": "@jupyter-widgets/controls",
            "_model_module_version": "1.5.0",
            "_model_name": "HBoxModel",
            "_view_count": null,
            "_view_module": "@jupyter-widgets/controls",
            "_view_module_version": "1.5.0",
            "_view_name": "HBoxView",
            "box_style": "",
            "children": [
              "IPY_MODEL_9ea2e06f8c95497591a127b15172e7e8",
              "IPY_MODEL_bf10d46944054156a914d7bad03079ce",
              "IPY_MODEL_442d08e31a844a7a80a943a8f2180cb8"
            ],
            "layout": "IPY_MODEL_f53a614f687d403c98a3ebb1c63c5109"
          }
        },
        "9ea2e06f8c95497591a127b15172e7e8": {
          "model_module": "@jupyter-widgets/controls",
          "model_name": "HTMLModel",
          "model_module_version": "1.5.0",
          "state": {
            "_dom_classes": [],
            "_model_module": "@jupyter-widgets/controls",
            "_model_module_version": "1.5.0",
            "_model_name": "HTMLModel",
            "_view_count": null,
            "_view_module": "@jupyter-widgets/controls",
            "_view_module_version": "1.5.0",
            "_view_name": "HTMLView",
            "description": "",
            "description_tooltip": null,
            "layout": "IPY_MODEL_b8b86495375b400996b2fcbaf7fe8dc9",
            "placeholder": "​",
            "style": "IPY_MODEL_3ba3b32c955949a18c6771448ad10745",
            "value": "100%"
          }
        },
        "bf10d46944054156a914d7bad03079ce": {
          "model_module": "@jupyter-widgets/controls",
          "model_name": "FloatProgressModel",
          "model_module_version": "1.5.0",
          "state": {
            "_dom_classes": [],
            "_model_module": "@jupyter-widgets/controls",
            "_model_module_version": "1.5.0",
            "_model_name": "FloatProgressModel",
            "_view_count": null,
            "_view_module": "@jupyter-widgets/controls",
            "_view_module_version": "1.5.0",
            "_view_name": "ProgressView",
            "bar_style": "success",
            "description": "",
            "description_tooltip": null,
            "layout": "IPY_MODEL_bd823d0bf9cc4a318f952ad0d0636bc2",
            "max": 1163342,
            "min": 0,
            "orientation": "horizontal",
            "style": "IPY_MODEL_e0c15522fe7b427884560d42d9d264b0",
            "value": 1163342
          }
        },
        "442d08e31a844a7a80a943a8f2180cb8": {
          "model_module": "@jupyter-widgets/controls",
          "model_name": "HTMLModel",
          "model_module_version": "1.5.0",
          "state": {
            "_dom_classes": [],
            "_model_module": "@jupyter-widgets/controls",
            "_model_module_version": "1.5.0",
            "_model_name": "HTMLModel",
            "_view_count": null,
            "_view_module": "@jupyter-widgets/controls",
            "_view_module_version": "1.5.0",
            "_view_name": "HTMLView",
            "description": "",
            "description_tooltip": null,
            "layout": "IPY_MODEL_b48593c8b8064d2ea49e6532cc2af0d2",
            "placeholder": "​",
            "style": "IPY_MODEL_207342e82b4842e3a8512ac58ce5dc90",
            "value": " 1163342/1163342 [00:20&lt;00:00, 79846.02it/s]"
          }
        },
        "f53a614f687d403c98a3ebb1c63c5109": {
          "model_module": "@jupyter-widgets/base",
          "model_name": "LayoutModel",
          "model_module_version": "1.2.0",
          "state": {
            "_model_module": "@jupyter-widgets/base",
            "_model_module_version": "1.2.0",
            "_model_name": "LayoutModel",
            "_view_count": null,
            "_view_module": "@jupyter-widgets/base",
            "_view_module_version": "1.2.0",
            "_view_name": "LayoutView",
            "align_content": null,
            "align_items": null,
            "align_self": null,
            "border": null,
            "bottom": null,
            "display": null,
            "flex": null,
            "flex_flow": null,
            "grid_area": null,
            "grid_auto_columns": null,
            "grid_auto_flow": null,
            "grid_auto_rows": null,
            "grid_column": null,
            "grid_gap": null,
            "grid_row": null,
            "grid_template_areas": null,
            "grid_template_columns": null,
            "grid_template_rows": null,
            "height": null,
            "justify_content": null,
            "justify_items": null,
            "left": null,
            "margin": null,
            "max_height": null,
            "max_width": null,
            "min_height": null,
            "min_width": null,
            "object_fit": null,
            "object_position": null,
            "order": null,
            "overflow": null,
            "overflow_x": null,
            "overflow_y": null,
            "padding": null,
            "right": null,
            "top": null,
            "visibility": null,
            "width": null
          }
        },
        "b8b86495375b400996b2fcbaf7fe8dc9": {
          "model_module": "@jupyter-widgets/base",
          "model_name": "LayoutModel",
          "model_module_version": "1.2.0",
          "state": {
            "_model_module": "@jupyter-widgets/base",
            "_model_module_version": "1.2.0",
            "_model_name": "LayoutModel",
            "_view_count": null,
            "_view_module": "@jupyter-widgets/base",
            "_view_module_version": "1.2.0",
            "_view_name": "LayoutView",
            "align_content": null,
            "align_items": null,
            "align_self": null,
            "border": null,
            "bottom": null,
            "display": null,
            "flex": null,
            "flex_flow": null,
            "grid_area": null,
            "grid_auto_columns": null,
            "grid_auto_flow": null,
            "grid_auto_rows": null,
            "grid_column": null,
            "grid_gap": null,
            "grid_row": null,
            "grid_template_areas": null,
            "grid_template_columns": null,
            "grid_template_rows": null,
            "height": null,
            "justify_content": null,
            "justify_items": null,
            "left": null,
            "margin": null,
            "max_height": null,
            "max_width": null,
            "min_height": null,
            "min_width": null,
            "object_fit": null,
            "object_position": null,
            "order": null,
            "overflow": null,
            "overflow_x": null,
            "overflow_y": null,
            "padding": null,
            "right": null,
            "top": null,
            "visibility": null,
            "width": null
          }
        },
        "3ba3b32c955949a18c6771448ad10745": {
          "model_module": "@jupyter-widgets/controls",
          "model_name": "DescriptionStyleModel",
          "model_module_version": "1.5.0",
          "state": {
            "_model_module": "@jupyter-widgets/controls",
            "_model_module_version": "1.5.0",
            "_model_name": "DescriptionStyleModel",
            "_view_count": null,
            "_view_module": "@jupyter-widgets/base",
            "_view_module_version": "1.2.0",
            "_view_name": "StyleView",
            "description_width": ""
          }
        },
        "bd823d0bf9cc4a318f952ad0d0636bc2": {
          "model_module": "@jupyter-widgets/base",
          "model_name": "LayoutModel",
          "model_module_version": "1.2.0",
          "state": {
            "_model_module": "@jupyter-widgets/base",
            "_model_module_version": "1.2.0",
            "_model_name": "LayoutModel",
            "_view_count": null,
            "_view_module": "@jupyter-widgets/base",
            "_view_module_version": "1.2.0",
            "_view_name": "LayoutView",
            "align_content": null,
            "align_items": null,
            "align_self": null,
            "border": null,
            "bottom": null,
            "display": null,
            "flex": null,
            "flex_flow": null,
            "grid_area": null,
            "grid_auto_columns": null,
            "grid_auto_flow": null,
            "grid_auto_rows": null,
            "grid_column": null,
            "grid_gap": null,
            "grid_row": null,
            "grid_template_areas": null,
            "grid_template_columns": null,
            "grid_template_rows": null,
            "height": null,
            "justify_content": null,
            "justify_items": null,
            "left": null,
            "margin": null,
            "max_height": null,
            "max_width": null,
            "min_height": null,
            "min_width": null,
            "object_fit": null,
            "object_position": null,
            "order": null,
            "overflow": null,
            "overflow_x": null,
            "overflow_y": null,
            "padding": null,
            "right": null,
            "top": null,
            "visibility": null,
            "width": null
          }
        },
        "e0c15522fe7b427884560d42d9d264b0": {
          "model_module": "@jupyter-widgets/controls",
          "model_name": "ProgressStyleModel",
          "model_module_version": "1.5.0",
          "state": {
            "_model_module": "@jupyter-widgets/controls",
            "_model_module_version": "1.5.0",
            "_model_name": "ProgressStyleModel",
            "_view_count": null,
            "_view_module": "@jupyter-widgets/base",
            "_view_module_version": "1.2.0",
            "_view_name": "StyleView",
            "bar_color": null,
            "description_width": ""
          }
        },
        "b48593c8b8064d2ea49e6532cc2af0d2": {
          "model_module": "@jupyter-widgets/base",
          "model_name": "LayoutModel",
          "model_module_version": "1.2.0",
          "state": {
            "_model_module": "@jupyter-widgets/base",
            "_model_module_version": "1.2.0",
            "_model_name": "LayoutModel",
            "_view_count": null,
            "_view_module": "@jupyter-widgets/base",
            "_view_module_version": "1.2.0",
            "_view_name": "LayoutView",
            "align_content": null,
            "align_items": null,
            "align_self": null,
            "border": null,
            "bottom": null,
            "display": null,
            "flex": null,
            "flex_flow": null,
            "grid_area": null,
            "grid_auto_columns": null,
            "grid_auto_flow": null,
            "grid_auto_rows": null,
            "grid_column": null,
            "grid_gap": null,
            "grid_row": null,
            "grid_template_areas": null,
            "grid_template_columns": null,
            "grid_template_rows": null,
            "height": null,
            "justify_content": null,
            "justify_items": null,
            "left": null,
            "margin": null,
            "max_height": null,
            "max_width": null,
            "min_height": null,
            "min_width": null,
            "object_fit": null,
            "object_position": null,
            "order": null,
            "overflow": null,
            "overflow_x": null,
            "overflow_y": null,
            "padding": null,
            "right": null,
            "top": null,
            "visibility": null,
            "width": null
          }
        },
        "207342e82b4842e3a8512ac58ce5dc90": {
          "model_module": "@jupyter-widgets/controls",
          "model_name": "DescriptionStyleModel",
          "model_module_version": "1.5.0",
          "state": {
            "_model_module": "@jupyter-widgets/controls",
            "_model_module_version": "1.5.0",
            "_model_name": "DescriptionStyleModel",
            "_view_count": null,
            "_view_module": "@jupyter-widgets/base",
            "_view_module_version": "1.2.0",
            "_view_name": "StyleView",
            "description_width": ""
          }
        },
        "b7be222d13e84c45a1a4f0fd34ca9c7d": {
          "model_module": "@jupyter-widgets/controls",
          "model_name": "HBoxModel",
          "model_module_version": "1.5.0",
          "state": {
            "_dom_classes": [],
            "_model_module": "@jupyter-widgets/controls",
            "_model_module_version": "1.5.0",
            "_model_name": "HBoxModel",
            "_view_count": null,
            "_view_module": "@jupyter-widgets/controls",
            "_view_module_version": "1.5.0",
            "_view_name": "HBoxView",
            "box_style": "",
            "children": [
              "IPY_MODEL_198e11c3623f4cf199b6f167da3c6ea0",
              "IPY_MODEL_1ba4516299634d25b85721261e47cc97",
              "IPY_MODEL_8db6d3972a00487cba331ea5306a563c"
            ],
            "layout": "IPY_MODEL_1fb096b3e8c4456d8b04e5be638498a2"
          }
        },
        "198e11c3623f4cf199b6f167da3c6ea0": {
          "model_module": "@jupyter-widgets/controls",
          "model_name": "HTMLModel",
          "model_module_version": "1.5.0",
          "state": {
            "_dom_classes": [],
            "_model_module": "@jupyter-widgets/controls",
            "_model_module_version": "1.5.0",
            "_model_name": "HTMLModel",
            "_view_count": null,
            "_view_module": "@jupyter-widgets/controls",
            "_view_module_version": "1.5.0",
            "_view_name": "HTMLView",
            "description": "",
            "description_tooltip": null,
            "layout": "IPY_MODEL_4b0b89b1bd6a42a18d262754c7a63a97",
            "placeholder": "​",
            "style": "IPY_MODEL_91fdd7dd67fb41a48e83748ff4e0d257",
            "value": "100%"
          }
        },
        "1ba4516299634d25b85721261e47cc97": {
          "model_module": "@jupyter-widgets/controls",
          "model_name": "FloatProgressModel",
          "model_module_version": "1.5.0",
          "state": {
            "_dom_classes": [],
            "_model_module": "@jupyter-widgets/controls",
            "_model_module_version": "1.5.0",
            "_model_name": "FloatProgressModel",
            "_view_count": null,
            "_view_module": "@jupyter-widgets/controls",
            "_view_module_version": "1.5.0",
            "_view_name": "ProgressView",
            "bar_style": "success",
            "description": "",
            "description_tooltip": null,
            "layout": "IPY_MODEL_a8ca7a0c920f404094ac9814b913f084",
            "max": 1163342,
            "min": 0,
            "orientation": "horizontal",
            "style": "IPY_MODEL_616e333183a247a6bfbb957f50fa5024",
            "value": 1163342
          }
        },
        "8db6d3972a00487cba331ea5306a563c": {
          "model_module": "@jupyter-widgets/controls",
          "model_name": "HTMLModel",
          "model_module_version": "1.5.0",
          "state": {
            "_dom_classes": [],
            "_model_module": "@jupyter-widgets/controls",
            "_model_module_version": "1.5.0",
            "_model_name": "HTMLModel",
            "_view_count": null,
            "_view_module": "@jupyter-widgets/controls",
            "_view_module_version": "1.5.0",
            "_view_name": "HTMLView",
            "description": "",
            "description_tooltip": null,
            "layout": "IPY_MODEL_764db0c7e6c34516983c2416d47378b3",
            "placeholder": "​",
            "style": "IPY_MODEL_5e7d4551f4594d07a17943ba9551c1e4",
            "value": " 1163342/1163342 [00:00&lt;00:00, 2534707.55it/s]"
          }
        },
        "1fb096b3e8c4456d8b04e5be638498a2": {
          "model_module": "@jupyter-widgets/base",
          "model_name": "LayoutModel",
          "model_module_version": "1.2.0",
          "state": {
            "_model_module": "@jupyter-widgets/base",
            "_model_module_version": "1.2.0",
            "_model_name": "LayoutModel",
            "_view_count": null,
            "_view_module": "@jupyter-widgets/base",
            "_view_module_version": "1.2.0",
            "_view_name": "LayoutView",
            "align_content": null,
            "align_items": null,
            "align_self": null,
            "border": null,
            "bottom": null,
            "display": null,
            "flex": null,
            "flex_flow": null,
            "grid_area": null,
            "grid_auto_columns": null,
            "grid_auto_flow": null,
            "grid_auto_rows": null,
            "grid_column": null,
            "grid_gap": null,
            "grid_row": null,
            "grid_template_areas": null,
            "grid_template_columns": null,
            "grid_template_rows": null,
            "height": null,
            "justify_content": null,
            "justify_items": null,
            "left": null,
            "margin": null,
            "max_height": null,
            "max_width": null,
            "min_height": null,
            "min_width": null,
            "object_fit": null,
            "object_position": null,
            "order": null,
            "overflow": null,
            "overflow_x": null,
            "overflow_y": null,
            "padding": null,
            "right": null,
            "top": null,
            "visibility": null,
            "width": null
          }
        },
        "4b0b89b1bd6a42a18d262754c7a63a97": {
          "model_module": "@jupyter-widgets/base",
          "model_name": "LayoutModel",
          "model_module_version": "1.2.0",
          "state": {
            "_model_module": "@jupyter-widgets/base",
            "_model_module_version": "1.2.0",
            "_model_name": "LayoutModel",
            "_view_count": null,
            "_view_module": "@jupyter-widgets/base",
            "_view_module_version": "1.2.0",
            "_view_name": "LayoutView",
            "align_content": null,
            "align_items": null,
            "align_self": null,
            "border": null,
            "bottom": null,
            "display": null,
            "flex": null,
            "flex_flow": null,
            "grid_area": null,
            "grid_auto_columns": null,
            "grid_auto_flow": null,
            "grid_auto_rows": null,
            "grid_column": null,
            "grid_gap": null,
            "grid_row": null,
            "grid_template_areas": null,
            "grid_template_columns": null,
            "grid_template_rows": null,
            "height": null,
            "justify_content": null,
            "justify_items": null,
            "left": null,
            "margin": null,
            "max_height": null,
            "max_width": null,
            "min_height": null,
            "min_width": null,
            "object_fit": null,
            "object_position": null,
            "order": null,
            "overflow": null,
            "overflow_x": null,
            "overflow_y": null,
            "padding": null,
            "right": null,
            "top": null,
            "visibility": null,
            "width": null
          }
        },
        "91fdd7dd67fb41a48e83748ff4e0d257": {
          "model_module": "@jupyter-widgets/controls",
          "model_name": "DescriptionStyleModel",
          "model_module_version": "1.5.0",
          "state": {
            "_model_module": "@jupyter-widgets/controls",
            "_model_module_version": "1.5.0",
            "_model_name": "DescriptionStyleModel",
            "_view_count": null,
            "_view_module": "@jupyter-widgets/base",
            "_view_module_version": "1.2.0",
            "_view_name": "StyleView",
            "description_width": ""
          }
        },
        "a8ca7a0c920f404094ac9814b913f084": {
          "model_module": "@jupyter-widgets/base",
          "model_name": "LayoutModel",
          "model_module_version": "1.2.0",
          "state": {
            "_model_module": "@jupyter-widgets/base",
            "_model_module_version": "1.2.0",
            "_model_name": "LayoutModel",
            "_view_count": null,
            "_view_module": "@jupyter-widgets/base",
            "_view_module_version": "1.2.0",
            "_view_name": "LayoutView",
            "align_content": null,
            "align_items": null,
            "align_self": null,
            "border": null,
            "bottom": null,
            "display": null,
            "flex": null,
            "flex_flow": null,
            "grid_area": null,
            "grid_auto_columns": null,
            "grid_auto_flow": null,
            "grid_auto_rows": null,
            "grid_column": null,
            "grid_gap": null,
            "grid_row": null,
            "grid_template_areas": null,
            "grid_template_columns": null,
            "grid_template_rows": null,
            "height": null,
            "justify_content": null,
            "justify_items": null,
            "left": null,
            "margin": null,
            "max_height": null,
            "max_width": null,
            "min_height": null,
            "min_width": null,
            "object_fit": null,
            "object_position": null,
            "order": null,
            "overflow": null,
            "overflow_x": null,
            "overflow_y": null,
            "padding": null,
            "right": null,
            "top": null,
            "visibility": null,
            "width": null
          }
        },
        "616e333183a247a6bfbb957f50fa5024": {
          "model_module": "@jupyter-widgets/controls",
          "model_name": "ProgressStyleModel",
          "model_module_version": "1.5.0",
          "state": {
            "_model_module": "@jupyter-widgets/controls",
            "_model_module_version": "1.5.0",
            "_model_name": "ProgressStyleModel",
            "_view_count": null,
            "_view_module": "@jupyter-widgets/base",
            "_view_module_version": "1.2.0",
            "_view_name": "StyleView",
            "bar_color": null,
            "description_width": ""
          }
        },
        "764db0c7e6c34516983c2416d47378b3": {
          "model_module": "@jupyter-widgets/base",
          "model_name": "LayoutModel",
          "model_module_version": "1.2.0",
          "state": {
            "_model_module": "@jupyter-widgets/base",
            "_model_module_version": "1.2.0",
            "_model_name": "LayoutModel",
            "_view_count": null,
            "_view_module": "@jupyter-widgets/base",
            "_view_module_version": "1.2.0",
            "_view_name": "LayoutView",
            "align_content": null,
            "align_items": null,
            "align_self": null,
            "border": null,
            "bottom": null,
            "display": null,
            "flex": null,
            "flex_flow": null,
            "grid_area": null,
            "grid_auto_columns": null,
            "grid_auto_flow": null,
            "grid_auto_rows": null,
            "grid_column": null,
            "grid_gap": null,
            "grid_row": null,
            "grid_template_areas": null,
            "grid_template_columns": null,
            "grid_template_rows": null,
            "height": null,
            "justify_content": null,
            "justify_items": null,
            "left": null,
            "margin": null,
            "max_height": null,
            "max_width": null,
            "min_height": null,
            "min_width": null,
            "object_fit": null,
            "object_position": null,
            "order": null,
            "overflow": null,
            "overflow_x": null,
            "overflow_y": null,
            "padding": null,
            "right": null,
            "top": null,
            "visibility": null,
            "width": null
          }
        },
        "5e7d4551f4594d07a17943ba9551c1e4": {
          "model_module": "@jupyter-widgets/controls",
          "model_name": "DescriptionStyleModel",
          "model_module_version": "1.5.0",
          "state": {
            "_model_module": "@jupyter-widgets/controls",
            "_model_module_version": "1.5.0",
            "_model_name": "DescriptionStyleModel",
            "_view_count": null,
            "_view_module": "@jupyter-widgets/base",
            "_view_module_version": "1.2.0",
            "_view_name": "StyleView",
            "description_width": ""
          }
        }
      }
    },
    "accelerator": "GPU"
  },
  "cells": [
    {
      "cell_type": "markdown",
      "metadata": {
        "id": "view-in-github",
        "colab_type": "text"
      },
      "source": [
        "<a href=\"https://colab.research.google.com/github/Kambey-san/NLP_base/blob/HW_lesson_16/KAA_NLP_HW_16_TCB_V4.ipynb\" target=\"_parent\"><img src=\"https://colab.research.google.com/assets/colab-badge.svg\" alt=\"Open In Colab\"/></a>"
      ]
    },
    {
      "cell_type": "markdown",
      "source": [
        "## Курсовой проект \"telegram chat-bot\"\n",
        "### Данные:\n",
        "<a href='https://drive.google.com/file/d/1t3ha_c-mkmWhfvtzc77GNUFOIXCH8ZOq/view?usp=drive_link'>Otvety.txt</a>,\n",
        "<a href='https://drive.google.com/file/d/1eLD7icgzaZhaUP9K58A41VblxgSFH2rp/view?usp=drive_link'>ProductsDataset</a>."
      ],
      "metadata": {
        "id": "W55iYEIjs0bg"
      }
    },
    {
      "cell_type": "code",
      "source": [
        "# Mounting drive\n",
        "\n",
        "import os, sys\n",
        "from google.colab import drive\n",
        "drive.mount('/content/drive')\n",
        "colab_path = '/content/notebooks'\n",
        "os.symlink('/content/drive/My Drive/Colab Notebooks', colab_path)\n",
        "sys.path.insert(0,colab_path)"
      ],
      "metadata": {
        "colab": {
          "base_uri": "https://localhost:8080/"
        },
        "id": "zt3Zbdb31yfs",
        "outputId": "c42257fc-8fb9-4053-9020-3e82c510dead"
      },
      "execution_count": null,
      "outputs": [
        {
          "output_type": "stream",
          "name": "stdout",
          "text": [
            "Mounted at /content/drive\n"
          ]
        }
      ]
    },
    {
      "cell_type": "code",
      "execution_count": null,
      "metadata": {
        "id": "KWKPa4ZhjBut",
        "colab": {
          "base_uri": "https://localhost:8080/"
        },
        "outputId": "a849e0b7-f360-4341-f4d1-77fac4e02149"
      },
      "outputs": [
        {
          "output_type": "stream",
          "name": "stdout",
          "text": [
            "\u001b[?25l     \u001b[90m━━━━━━━━━━━━━━━━━━━━━━━━━━━━━━━━━━━━━━━━\u001b[0m \u001b[32m0.0/355.6 kB\u001b[0m \u001b[31m?\u001b[0m eta \u001b[36m-:--:--\u001b[0m\r\u001b[2K     \u001b[91m━━━━━━━━━━━━━━━━━━━━━━━━━━━━━━━━━━━━━━━\u001b[0m\u001b[90m╺\u001b[0m \u001b[32m348.2/355.6 kB\u001b[0m \u001b[31m11.6 MB/s\u001b[0m eta \u001b[36m0:00:01\u001b[0m\r\u001b[2K     \u001b[90m━━━━━━━━━━━━━━━━━━━━━━━━━━━━━━━━━━━━━━━━\u001b[0m \u001b[32m355.6/355.6 kB\u001b[0m \u001b[31m9.4 MB/s\u001b[0m eta \u001b[36m0:00:00\u001b[0m\n",
            "\u001b[?25h\u001b[?25l     \u001b[90m━━━━━━━━━━━━━━━━━━━━━━━━━━━━━━━━━━━━━━━━\u001b[0m \u001b[32m0.0/647.5 kB\u001b[0m \u001b[31m?\u001b[0m eta \u001b[36m-:--:--\u001b[0m\r\u001b[2K     \u001b[90m━━━━━━━━━━━━━━━━━━━━━━━━━━━━━━━━━━━━━━━━\u001b[0m \u001b[32m647.5/647.5 kB\u001b[0m \u001b[31m48.2 MB/s\u001b[0m eta \u001b[36m0:00:00\u001b[0m\n",
            "\u001b[?25h  Preparing metadata (setup.py) ... \u001b[?25l\u001b[?25hdone\n",
            "  Preparing metadata (setup.py) ... \u001b[?25l\u001b[?25hdone\n",
            "\u001b[2K     \u001b[90m━━━━━━━━━━━━━━━━━━━━━━━━━━━━━━━━━━━━━━━━\u001b[0m \u001b[32m55.5/55.5 kB\u001b[0m \u001b[31m4.8 MB/s\u001b[0m eta \u001b[36m0:00:00\u001b[0m\n",
            "\u001b[2K     \u001b[90m━━━━━━━━━━━━━━━━━━━━━━━━━━━━━━━━━━━━━━━━\u001b[0m \u001b[32m120.2/120.2 kB\u001b[0m \u001b[31m14.0 MB/s\u001b[0m eta \u001b[36m0:00:00\u001b[0m\n",
            "\u001b[2K     \u001b[90m━━━━━━━━━━━━━━━━━━━━━━━━━━━━━━━━━━━━━━━━\u001b[0m \u001b[32m8.2/8.2 MB\u001b[0m \u001b[31m67.1 MB/s\u001b[0m eta \u001b[36m0:00:00\u001b[0m\n",
            "\u001b[?25h  Preparing metadata (setup.py) ... \u001b[?25l\u001b[?25hdone\n",
            "  Building wheel for annoy (setup.py) ... \u001b[?25l\u001b[?25hdone\n",
            "  Building wheel for stop_words (setup.py) ... \u001b[?25l\u001b[?25hdone\n",
            "  Building wheel for docopt (setup.py) ... \u001b[?25l\u001b[?25hdone\n",
            "\u001b[31mERROR: pip's dependency resolver does not currently take into account all the packages that are installed. This behaviour is the source of the following dependency conflicts.\n",
            "pandas-gbq 0.19.2 requires google-api-core<3.0.0dev,>=2.10.2, but you have google-api-core 1.34.0 which is incompatible.\u001b[0m\u001b[31m\n",
            "\u001b[0m"
          ]
        }
      ],
      "source": [
        "!pip install -q dialogflow gensim annoy tqdm stop_words pymorphy2"
      ]
    },
    {
      "cell_type": "code",
      "source": [
        "!pip install -q python-telegram-bot"
      ],
      "metadata": {
        "id": "jNddrls19l1g",
        "colab": {
          "base_uri": "https://localhost:8080/"
        },
        "outputId": "aad21f2e-a93f-4d67-c9c1-94f429d61606"
      },
      "execution_count": null,
      "outputs": [
        {
          "output_type": "stream",
          "name": "stdout",
          "text": [
            "\u001b[2K     \u001b[90m━━━━━━━━━━━━━━━━━━━━━━━━━━━━━━━━━━━━━━━━\u001b[0m \u001b[32m552.6/552.6 kB\u001b[0m \u001b[31m8.2 MB/s\u001b[0m eta \u001b[36m0:00:00\u001b[0m\n",
            "\u001b[2K     \u001b[90m━━━━━━━━━━━━━━━━━━━━━━━━━━━━━━━━━━━━━━━━\u001b[0m \u001b[32m75.0/75.0 kB\u001b[0m \u001b[31m9.3 MB/s\u001b[0m eta \u001b[36m0:00:00\u001b[0m\n",
            "\u001b[2K     \u001b[90m━━━━━━━━━━━━━━━━━━━━━━━━━━━━━━━━━━━━━━━━\u001b[0m \u001b[32m76.9/76.9 kB\u001b[0m \u001b[31m9.2 MB/s\u001b[0m eta \u001b[36m0:00:00\u001b[0m\n",
            "\u001b[2K     \u001b[90m━━━━━━━━━━━━━━━━━━━━━━━━━━━━━━━━━━━━━━━━\u001b[0m \u001b[32m58.3/58.3 kB\u001b[0m \u001b[31m7.4 MB/s\u001b[0m eta \u001b[36m0:00:00\u001b[0m\n",
            "\u001b[?25h"
          ]
        }
      ]
    },
    {
      "cell_type": "code",
      "source": [
        "!pip install -q pandarallel"
      ],
      "metadata": {
        "id": "3_qMrrqJj_6d",
        "colab": {
          "base_uri": "https://localhost:8080/"
        },
        "outputId": "cae3a2b8-250a-4417-8733-44f47ba4a6fd"
      },
      "execution_count": null,
      "outputs": [
        {
          "output_type": "stream",
          "name": "stdout",
          "text": [
            "  Preparing metadata (setup.py) ... \u001b[?25l\u001b[?25hdone\n",
            "\u001b[?25l     \u001b[90m━━━━━━━━━━━━━━━━━━━━━━━━━━━━━━━━━━━━━━━━\u001b[0m \u001b[32m0.0/116.3 kB\u001b[0m \u001b[31m?\u001b[0m eta \u001b[36m-:--:--\u001b[0m\r\u001b[2K     \u001b[90m━━━━━━━━━━━━━━━━━━━━━━━━━━━━━━━━━━━━━━━━\u001b[0m \u001b[32m116.3/116.3 kB\u001b[0m \u001b[31m4.4 MB/s\u001b[0m eta \u001b[36m0:00:00\u001b[0m\n",
            "\u001b[?25h  Building wheel for pandarallel (setup.py) ... \u001b[?25l\u001b[?25hdone\n"
          ]
        }
      ]
    },
    {
      "cell_type": "code",
      "source": [
        "import numpy as np\n",
        "import pandas as pd\n",
        "import annoy\n",
        "import mmap\n",
        "import string\n",
        "import pickle\n",
        "import os\n",
        "import re\n",
        "from telegram.ext import Updater, CommandHandler, MessageHandler, filters, CallbackContext\n",
        "from pymorphy2 import MorphAnalyzer\n",
        "from stop_words import get_stop_words\n",
        "from gensim.models import Word2Vec, FastText\n",
        "from tqdm.notebook import tqdm\n",
        "from pandarallel import pandarallel\n",
        "\n",
        "tqdm.pandas()\n",
        "pandarallel.initialize(progress_bar=True)"
      ],
      "metadata": {
        "id": "Kq_47JrnkGE1",
        "colab": {
          "base_uri": "https://localhost:8080/"
        },
        "outputId": "175636fe-ec54-4a07-bbbb-909bcdff3fe3"
      },
      "execution_count": null,
      "outputs": [
        {
          "output_type": "stream",
          "name": "stdout",
          "text": [
            "INFO: Pandarallel will run on 1 workers.\n",
            "INFO: Pandarallel will use Memory file system to transfer data between the main process and workers.\n"
          ]
        }
      ]
    },
    {
      "cell_type": "code",
      "source": [
        "!pip install -U -q PyDrive\n",
        "\n",
        "from pydrive.auth import GoogleAuth\n",
        "from pydrive.drive import GoogleDrive\n",
        "from google.colab import auth\n",
        "from oauth2client.client import GoogleCredentials\n",
        "\n",
        "# Authenticate and create the PyDrive client\n",
        "auth.authenticate_user()\n",
        "gauth = GoogleAuth()\n",
        "gauth.credentials = GoogleCredentials.get_application_default()\n",
        "drive = GoogleDrive(gauth)"
      ],
      "metadata": {
        "id": "Mh986dXGkLWC",
        "colab": {
          "base_uri": "https://localhost:8080/"
        },
        "outputId": "03e2c4f0-285b-4c92-d728-5095c1b5fc4e"
      },
      "execution_count": null,
      "outputs": [
        {
          "output_type": "stream",
          "name": "stderr",
          "text": [
            "WARNING:root:pydrive is deprecated and no longer maintained. We recommend that you migrate your projects to pydrive2, the maintained fork of pydrive\n"
          ]
        }
      ]
    },
    {
      "cell_type": "code",
      "source": [
        "link = 'https://drive.google.com/file/d/1t3ha_c-mkmWhfvtzc77GNUFOIXCH8ZOq/view?usp=drive_link'\n",
        "\n",
        "# to get the id part of the file\n",
        "id_test = link.split(\"/\")[-2]\n",
        "\n",
        "downloaded = drive.CreateFile({'id':id_test})\n",
        "downloaded.GetContentFile('Otvety.txt')"
      ],
      "metadata": {
        "id": "BFJU-yTXkciH"
      },
      "execution_count": null,
      "outputs": []
    },
    {
      "cell_type": "code",
      "source": [
        "def get_num_lines(file_path):\n",
        "    fp = open(file_path, \"r+\")\n",
        "    buf = mmap.mmap(fp.fileno(), 0)\n",
        "    lines = 0\n",
        "    while buf.readline():\n",
        "        lines += 1\n",
        "    return lines"
      ],
      "metadata": {
        "id": "3cmNJVQMk_M5"
      },
      "execution_count": null,
      "outputs": []
    },
    {
      "cell_type": "markdown",
      "source": [
        "### Преобразование файла вопросов-ответов в строчный вид"
      ],
      "metadata": {
        "id": "M_cJnGAOemod"
      }
    },
    {
      "cell_type": "code",
      "source": [
        "if not os.path.isfile('prepared_answers.txt'):\n",
        "\n",
        "    question = None\n",
        "    written = False\n",
        "\n",
        "    with open(\"prepared_answers.txt\", \"w\") as fout:\n",
        "        with open(\"Otvety.txt\", \"r\") as fin:\n",
        "            for line in tqdm(fin):\n",
        "                if line.startswith(\"---\"):\n",
        "                    written = False\n",
        "                    continue\n",
        "                if not written and question is not None:\n",
        "                    fout.write(question.replace(\"\\t\", \" \").strip() + \"\\t\" + line.replace(\"\\t\", \" \"))\n",
        "                    written = True\n",
        "                    question = None\n",
        "                    continue\n",
        "                if not written:\n",
        "                    question = line.strip()\n",
        "                    continue"
      ],
      "metadata": {
        "id": "KITakGcClCwn",
        "colab": {
          "base_uri": "https://localhost:8080/",
          "height": 49,
          "referenced_widgets": [
            "7ba7a52206d742a19e3babf4d6646827",
            "319d8df9fb4146d9bb1df9871ad4d78b",
            "c94182c7b152484d931989c485275862",
            "eeb6d96b4a254cff9370b2a5e4258cbb",
            "c2cd314669c94a54871fbbc7674896c3",
            "16ccaf3b364249528588f6f269a82632",
            "01f06e3da56f4030a960a88d0f5c761f",
            "29d85a9fff3e4919a0a4b3bf2d3aa64a",
            "7256516e7dad48e5b61ef9011f02fe63",
            "3bbb3e267e2e413fafba28d2a2e0be53",
            "bb7c92b5030e4c45b402f013e21797b8"
          ]
        },
        "outputId": "8b706e10-49a6-49bd-e90e-163ba1a5cc97"
      },
      "execution_count": null,
      "outputs": [
        {
          "output_type": "display_data",
          "data": {
            "text/plain": [
              "0it [00:00, ?it/s]"
            ],
            "application/vnd.jupyter.widget-view+json": {
              "version_major": 2,
              "version_minor": 0,
              "model_id": "7ba7a52206d742a19e3babf4d6646827"
            }
          },
          "metadata": {}
        }
      ]
    },
    {
      "cell_type": "markdown",
      "source": [
        "### Препроцессинг текста"
      ],
      "metadata": {
        "id": "GXgzIMP_k2DV"
      }
    },
    {
      "cell_type": "code",
      "source": [
        "morpher = MorphAnalyzer()\n",
        "sw = set(get_stop_words(\"ru\"))\n",
        "exclude = set(string.punctuation)"
      ],
      "metadata": {
        "id": "zqhpf8HplMWd"
      },
      "execution_count": null,
      "outputs": []
    },
    {
      "cell_type": "code",
      "source": [
        "def preprocess_txt(line):\n",
        "    spls = \"\".join(i for i in line.strip() if i not in exclude).split()\n",
        "    spls = [morpher.parse(i.lower())[0].normal_form for i in spls]\n",
        "    spls = [i for i in spls if i not in sw and i != \"\"]\n",
        "    return spls"
      ],
      "metadata": {
        "id": "VPI__9jMlP7I"
      },
      "execution_count": null,
      "outputs": []
    },
    {
      "cell_type": "markdown",
      "source": [
        "### Обработка текста"
      ],
      "metadata": {
        "id": "wa_XiAork-Zg"
      }
    },
    {
      "cell_type": "code",
      "source": [
        "sentences = []\n",
        "c = 0\n",
        "\n",
        "file_path_from = 'prepared_answers.txt'\n",
        "file_path_to = 'Otvety2.txt'\n",
        "\n",
        "if not os.path.isfile(file_path_to):\n",
        "\n",
        "    N = get_num_lines(file_path_from)\n",
        "    with open(file_path_to, mode = 'w') as fileto:\n",
        "        with open(file_path_from) as filefrom:\n",
        "            for k in tqdm(range(N)):\n",
        "                line = filefrom.readline()\n",
        "                if line == '': break\n",
        "                spls = preprocess_txt(line)\n",
        "                sentences.append(spls)\n",
        "                c += 1\n",
        "                if c > 500000000:\n",
        "                    break\n",
        "                fileto.write(' '.join(spls)+'\\n')\n",
        "    filefrom.close()\n",
        "    fileto.close()"
      ],
      "metadata": {
        "id": "YqWVMRlFlS6X",
        "colab": {
          "base_uri": "https://localhost:8080/",
          "height": 49,
          "referenced_widgets": [
            "c4891854b18b480bac8dd660c503239b",
            "beee6c02780c4665a5ba75530705640b",
            "47131682e8b74f41ae82f2f1b9327aab",
            "a15d2a237bd84b609380fa1aff62f17b",
            "ae40130813bd465f94651d126f969bc4",
            "b56462d30f4a4e0d97faf3d9045f2711",
            "06f8518502234f27ac286777debcd44d",
            "293af16005d84f468c30b2bc43ab2751",
            "3291201ab3cf4afd8c86b0899c5f5174",
            "88813c1b2d8e4dc4bea76fc0222dfeef",
            "3fd8e67b716a4bdeafd1d32b736c02b6"
          ]
        },
        "outputId": "9edc572f-1ebd-45fa-aabb-80418093267e"
      },
      "execution_count": null,
      "outputs": [
        {
          "output_type": "display_data",
          "data": {
            "text/plain": [
              "  0%|          | 0/1163342 [00:00<?, ?it/s]"
            ],
            "application/vnd.jupyter.widget-view+json": {
              "version_major": 2,
              "version_minor": 0,
              "model_id": "c4891854b18b480bac8dd660c503239b"
            }
          },
          "metadata": {}
        }
      ]
    },
    {
      "cell_type": "markdown",
      "source": [
        "### Загрузка результата"
      ],
      "metadata": {
        "id": "My8DMAFglE9z"
      }
    },
    {
      "cell_type": "code",
      "source": [
        "sentences = []\n",
        "\n",
        "file_path_from = 'Otvety2.txt'\n",
        "if os.path.isfile(file_path_from):\n",
        "    N = get_num_lines(file_path_from)\n",
        "    with open(file_path_to, mode = 'r') as filefrom:\n",
        "        for k in tqdm(range(N)):\n",
        "            line = filefrom.readline()\n",
        "            if line == '': break\n",
        "            sentences.append(line.split())\n",
        "    filefrom.close()"
      ],
      "metadata": {
        "colab": {
          "base_uri": "https://localhost:8080/",
          "height": 49,
          "referenced_widgets": [
            "4ee7b4daa7ea4e2caecf686f57844d21",
            "9ea2e06f8c95497591a127b15172e7e8",
            "bf10d46944054156a914d7bad03079ce",
            "442d08e31a844a7a80a943a8f2180cb8",
            "f53a614f687d403c98a3ebb1c63c5109",
            "b8b86495375b400996b2fcbaf7fe8dc9",
            "3ba3b32c955949a18c6771448ad10745",
            "bd823d0bf9cc4a318f952ad0d0636bc2",
            "e0c15522fe7b427884560d42d9d264b0",
            "b48593c8b8064d2ea49e6532cc2af0d2",
            "207342e82b4842e3a8512ac58ce5dc90"
          ]
        },
        "id": "S-3m4_uRT2K2",
        "outputId": "ca6fe553-27d7-4e3e-c100-63900b91f836"
      },
      "execution_count": null,
      "outputs": [
        {
          "output_type": "display_data",
          "data": {
            "text/plain": [
              "  0%|          | 0/1163342 [00:00<?, ?it/s]"
            ],
            "application/vnd.jupyter.widget-view+json": {
              "version_major": 2,
              "version_minor": 0,
              "model_id": "4ee7b4daa7ea4e2caecf686f57844d21"
            }
          },
          "metadata": {}
        }
      ]
    },
    {
      "cell_type": "code",
      "source": [
        "vec = []\n",
        "_ = [vec.extend(x)  for x in sentences[:100]]\n",
        "vec = list(set(vec))\n",
        "vec.sort()\n",
        "vec[20:30]"
      ],
      "metadata": {
        "colab": {
          "base_uri": "https://localhost:8080/"
        },
        "id": "jiELP7HJUMdw",
        "outputId": "8b17f1f2-3887-40b2-94f5-2bd87bbac17e"
      },
      "execution_count": null,
      "outputs": [
        {
          "output_type": "execute_result",
          "data": {
            "text/plain": [
              "['1542',\n",
              " '1548',\n",
              " '1588',\n",
              " '16ть',\n",
              " '1890—1907liul',\n",
              " '1898',\n",
              " '18мкака',\n",
              " '1914',\n",
              " '1мми',\n",
              " '2']"
            ]
          },
          "metadata": {},
          "execution_count": 14
        }
      ]
    },
    {
      "cell_type": "markdown",
      "source": [
        "### Обучение модели FastText"
      ],
      "metadata": {
        "id": "SKFirA4llOsX"
      }
    },
    {
      "cell_type": "code",
      "source": [
        "file_path_from = 'ft_model'\n",
        "if not os.path.isfile(file_path_from):\n",
        "\n",
        "    sentences = [i for i in tqdm(sentences) if len(i) > 2]\n",
        "    modelFT = FastText(sentences=sentences, vector_size=100, window=3, min_count=1, epochs=10)\n",
        "    modelFT.save(\"ft_model\")"
      ],
      "metadata": {
        "id": "S2LxVi8rURaO",
        "colab": {
          "base_uri": "https://localhost:8080/",
          "height": 49,
          "referenced_widgets": [
            "b7be222d13e84c45a1a4f0fd34ca9c7d",
            "198e11c3623f4cf199b6f167da3c6ea0",
            "1ba4516299634d25b85721261e47cc97",
            "8db6d3972a00487cba331ea5306a563c",
            "1fb096b3e8c4456d8b04e5be638498a2",
            "4b0b89b1bd6a42a18d262754c7a63a97",
            "91fdd7dd67fb41a48e83748ff4e0d257",
            "a8ca7a0c920f404094ac9814b913f084",
            "616e333183a247a6bfbb957f50fa5024",
            "764db0c7e6c34516983c2416d47378b3",
            "5e7d4551f4594d07a17943ba9551c1e4"
          ]
        },
        "outputId": "1f19d392-720d-49dd-9d45-57e4267b701c"
      },
      "execution_count": null,
      "outputs": [
        {
          "output_type": "display_data",
          "data": {
            "text/plain": [
              "  0%|          | 0/1163342 [00:00<?, ?it/s]"
            ],
            "application/vnd.jupyter.widget-view+json": {
              "version_major": 2,
              "version_minor": 0,
              "model_id": "b7be222d13e84c45a1a4f0fd34ca9c7d"
            }
          },
          "metadata": {}
        }
      ]
    },
    {
      "cell_type": "markdown",
      "source": [
        "### Загрузка модели"
      ],
      "metadata": {
        "id": "dpX40762laB3"
      }
    },
    {
      "cell_type": "code",
      "source": [
        "modelFT = FastText.load(\"ft_model\")\n",
        "ft_index = annoy.AnnoyIndex(100 ,'angular')"
      ],
      "metadata": {
        "id": "I8IXTj0PWOHz"
      },
      "execution_count": null,
      "outputs": []
    },
    {
      "cell_type": "markdown",
      "source": [
        "### Индексы \"вопрос-ответ\""
      ],
      "metadata": {
        "id": "3e8sy82_lqYP"
      }
    },
    {
      "cell_type": "code",
      "source": [
        "file_path_from = 'speaker.ann'\n",
        "if not os.path.isfile(file_path_from):\n",
        "    # morpher = MorphAnalyzer()\n",
        "    # sw = set(get_stop_words(\"ru\"))\n",
        "    # exclude = set(string.punctuation)\n",
        "    modelFT = FastText.load(\"ft_model\")\n",
        "    ft_index = annoy.AnnoyIndex(100 ,'angular')\n",
        "\n",
        "    index_map = {}\n",
        "    counter = 0\n",
        "    with open(\"Otvety2.txt\", \"r\") as f:\n",
        "        for line in tqdm(f):\n",
        "            n_ft = 0\n",
        "            spls = line.split(\"\\t\")\n",
        "            index_map[counter] = spls[1]\n",
        "            question = preprocess_txt(spls[0])\n",
        "            vector_ft = np.zeros(100)\n",
        "            for word in question:\n",
        "                if word in modelFT.wv:\n",
        "                    vector_ft += modelFT.wv[word]\n",
        "                    n_ft += 1\n",
        "            if n_ft > 0:\n",
        "                vector_ft = vector_ft / n_ft\n",
        "            ft_index.add_item(counter, vector_ft)\n",
        "\n",
        "            counter += 1\n",
        "\n",
        "            if counter > 50_000:\n",
        "                break\n",
        "\n",
        "    ft_index.build(10)\n",
        "    ft_index.save('speaker.ann')\n",
        "\n",
        "    with open(\"index_speaker.pkl\", \"wb\") as f:\n",
        "        pickle.dump(index_map, f)"
      ],
      "metadata": {
        "id": "cBXZ4gviWfHp"
      },
      "execution_count": null,
      "outputs": []
    },
    {
      "cell_type": "code",
      "source": [
        "#  Загрузка индексов\n",
        "ft_index = annoy.AnnoyIndex(100, 'angular')\n",
        "ft_index.load('speaker.ann')\n",
        "index_map = pd.read_pickle(\"index_speaker.pkl\")"
      ],
      "metadata": {
        "id": "TeHO9wa2WgNn"
      },
      "execution_count": null,
      "outputs": []
    },
    {
      "cell_type": "code",
      "source": [
        "np.random.permutation(100)"
      ],
      "metadata": {
        "id": "BCIxiBShWjsN"
      },
      "execution_count": null,
      "outputs": []
    },
    {
      "cell_type": "code",
      "source": [
        "#  Пример получения индексов\n",
        "a = ft_index.get_nns_by_vector(np.random.permutation(100), 5, include_distances=True)\n",
        "a"
      ],
      "metadata": {
        "id": "kRb5iIRPWr4L"
      },
      "execution_count": null,
      "outputs": []
    },
    {
      "cell_type": "code",
      "source": [
        "[index_map[x] for x in a[0]]"
      ],
      "metadata": {
        "id": "yGCkvwVnWu6m"
      },
      "execution_count": null,
      "outputs": []
    },
    {
      "cell_type": "markdown",
      "source": [
        "### Модель продуктовых данных"
      ],
      "metadata": {
        "id": "lPcR_QWil-iu"
      }
    },
    {
      "cell_type": "code",
      "source": [
        "shop_data = pd.read_csv(\"ProductsDataset.csv\")\n",
        "#shop_data = shop_data.iloc[:5000, :]\n",
        "\n",
        "shop_data['text'] = shop_data['title'] + \" \" + shop_data[\"descrirption\"]\n",
        "shop_data['text'] = shop_data['text'].progress_apply(lambda x: preprocess_txt(str(x)))\n",
        "shop_data.head()"
      ],
      "metadata": {
        "id": "cY-kDzh4WvnE"
      },
      "execution_count": null,
      "outputs": []
    },
    {
      "cell_type": "code",
      "source": [
        "from sklearn.feature_extraction.text import CountVectorizer\n",
        "from sklearn.linear_model import LogisticRegression\n",
        "\n",
        "vectorizer = CountVectorizer(ngram_range=(1, 2))"
      ],
      "metadata": {
        "id": "Tgtnhfk5W6Hx"
      },
      "execution_count": null,
      "outputs": []
    },
    {
      "cell_type": "code",
      "source": [
        "idxs = set(np.random.randint(0, len(index_map), len(shop_data)))\n",
        "# Вопрос-ответный домен\n",
        "negative_texts = [\" \".join(preprocess_txt(index_map[i])) for i in tqdm(idxs)]\n",
        "# Продуктовый домен\n",
        "positive_texts = [\" \".join(val) for val in tqdm(shop_data['text'].values)]"
      ],
      "metadata": {
        "id": "-X1pHVEaW8EI"
      },
      "execution_count": null,
      "outputs": []
    },
    {
      "cell_type": "code",
      "source": [
        "# ВО = 0, Прод = 1\n",
        "\n",
        "dataset = negative_texts + positive_texts\n",
        "labels = np.zeros(len(dataset))\n",
        "labels[len(negative_texts):] = np.ones(len(positive_texts))"
      ],
      "metadata": {
        "id": "qGldJiMOXEfN"
      },
      "execution_count": null,
      "outputs": []
    },
    {
      "cell_type": "code",
      "source": [
        "from sklearn.model_selection import train_test_split\n",
        "\n",
        "X_train, X_test, y_train, y_test = train_test_split(dataset, labels, test_size=0.2,\n",
        "                                                    stratify=labels, random_state=13)"
      ],
      "metadata": {
        "id": "_U3IiKa2XHDb"
      },
      "execution_count": null,
      "outputs": []
    },
    {
      "cell_type": "code",
      "source": [
        "# Модель\n",
        "\n",
        "x_train_vec = vectorizer.fit_transform(X_train)\n",
        "x_test_vec = vectorizer.transform(X_test)\n",
        "\n",
        "lr = LogisticRegression().fit(x_train_vec, y_train)"
      ],
      "metadata": {
        "id": "N02G2o2zXHyF"
      },
      "execution_count": null,
      "outputs": []
    },
    {
      "cell_type": "code",
      "source": [
        "# Качество\n",
        "\n",
        "from sklearn.metrics import accuracy_score\n",
        "accuracy_score(y_true=y_test, y_pred=lr.predict(x_test_vec))"
      ],
      "metadata": {
        "id": "CQFz2e7qXKqG"
      },
      "execution_count": null,
      "outputs": []
    },
    {
      "cell_type": "code",
      "source": [
        "# + IDF взвешивание (для каждого слова поиск IDF веса)\n",
        "from sklearn.feature_extraction.text import TfidfVectorizer\n",
        "\n",
        "tfidf_vect = TfidfVectorizer().fit(X_train)"
      ],
      "metadata": {
        "id": "e0GDabG-XPfE"
      },
      "execution_count": null,
      "outputs": []
    },
    {
      "cell_type": "code",
      "source": [
        "np.mean(tfidf_vect.idf_)"
      ],
      "metadata": {
        "id": "D_lUqD6zXQKI"
      },
      "execution_count": null,
      "outputs": []
    },
    {
      "cell_type": "code",
      "source": [
        "idfs = {v[0]: v[1] for v in zip(tfidf_vect.vocabulary_, tfidf_vect.idf_)}"
      ],
      "metadata": {
        "id": "Sr3HeofgXTJV"
      },
      "execution_count": null,
      "outputs": []
    },
    {
      "cell_type": "code",
      "source": [
        "len(idfs.keys())"
      ],
      "metadata": {
        "id": "A3YIdKNxXVJm"
      },
      "execution_count": null,
      "outputs": []
    },
    {
      "cell_type": "code",
      "source": [
        "list(idfs.keys())[:5]"
      ],
      "metadata": {
        "id": "JnkvbyUlXXb2"
      },
      "execution_count": null,
      "outputs": []
    },
    {
      "cell_type": "code",
      "source": [
        "list(idfs.values())[:5]"
      ],
      "metadata": {
        "id": "llvQ8tLRXZ4A"
      },
      "execution_count": null,
      "outputs": []
    },
    {
      "cell_type": "code",
      "source": [
        "# Индексы продуктовых данных\n",
        "\n",
        "file_path_from = 'shop.ann'\n",
        "if not os.path.isfile(file_path_from):\n",
        "\n",
        "\n",
        "    ft_index_shop = annoy.AnnoyIndex(100 ,'angular')\n",
        "\n",
        "    midf = np.mean(tfidf_vect.idf_)\n",
        "\n",
        "    index_map_shop = {}\n",
        "    counter = 0\n",
        "\n",
        "    for i in tqdm(range(len(shop_data))):\n",
        "        n_ft = 0\n",
        "        index_map_shop[counter] = (shop_data.loc[i, \"title\"], shop_data.loc[i, \"image_links\"])\n",
        "        vector_ft = np.zeros(100)\n",
        "        for word in shop_data.loc[i, \"text\"]:\n",
        "            if word in modelFT.wv:\n",
        "                vector_ft += modelFT.wv[word] * idfs.get(word, midf)\n",
        "                n_ft += idfs.get(word, midf)\n",
        "        if n_ft > 0:\n",
        "            vector_ft = vector_ft / n_ft\n",
        "        ft_index_shop.add_item(counter, vector_ft)\n",
        "        counter += 1\n",
        "\n",
        "    ft_index_shop.build(10)\n",
        "    ft_index_shop.save('shop.ann')\n",
        "\n",
        "    file_path_from = 'index_shop.pkl'\n",
        "    if not os.path.isfile(file_path_from):\n",
        "\n",
        "        with open(\"index_shop.pkl\", \"wb\") as f:\n",
        "            pickle.dump(index_map_shop, f)"
      ],
      "metadata": {
        "id": "f8Y7SronXeQb"
      },
      "execution_count": null,
      "outputs": []
    },
    {
      "cell_type": "code",
      "source": [
        "# Загрузка индексов\n",
        "\n",
        "midf = np.mean(tfidf_vect.idf_)\n",
        "\n",
        "ft_index_shop = annoy.AnnoyIndex(100, 'angular')\n",
        "ft_index_shop.load('shop.ann')\n",
        "\n",
        "index_map_shop = pd.read_pickle(\"index_shop.pkl\")"
      ],
      "metadata": {
        "id": "qFbLDyoIXfcr"
      },
      "execution_count": null,
      "outputs": []
    },
    {
      "cell_type": "code",
      "source": [
        "# Основная функция преобразования текста в вектор х100\n",
        "\n",
        "def embed_txt(txt, idfs, midf):\n",
        "    n_ft = 0\n",
        "    vector_ft = np.zeros(100)\n",
        "    for word in txt:\n",
        "        if word in modelFT.wv:\n",
        "            vector_ft += modelFT.wv[word] * idfs.get(word, midf)\n",
        "            n_ft += idfs.get(word, midf)\n",
        "    return vector_ft / n_ft"
      ],
      "metadata": {
        "id": "_cWp8O57Xjel"
      },
      "execution_count": null,
      "outputs": []
    },
    {
      "cell_type": "code",
      "source": [
        "# Пример получения индекса\n",
        "\n",
        "ft_index_shop.get_nns_by_vector(np.ones(100)*20, 5, include_distances=True)"
      ],
      "metadata": {
        "id": "yDMrPtWbXmNj"
      },
      "execution_count": null,
      "outputs": []
    },
    {
      "cell_type": "code",
      "source": [
        "# заменить на свой токен\n",
        "updater = Updater(\"6376866337:AAEM0fQRN4Jp0IzcY4d-zNaUp-kGMkZUecM\", use_context=True) # Токен API к Telegram\n",
        "dispatcher = updater.dispatcher\n",
        "\n",
        "def startCommand(update, context):\n",
        "    context.bot.send_message(chat_id=update.message.chat_id, text='Привет, пообщаемся?')\n",
        "\n",
        "def textMessage(update, context):\n",
        "\n",
        "    input_txt = preprocess_txt(update.message.text)\n",
        "    vect = vectorizer.transform([\" \".join(input_txt)])\n",
        "    prediction = lr.predict(vect)\n",
        "\n",
        "    # ПРОД\n",
        "    if prediction[0] == 1:\n",
        "        vect_ft = embed_txt(input_txt, idfs, midf)\n",
        "        ft_index_shop_val = ft_index_shop.get_nns_by_vector(vect_ft, 5)\n",
        "        for item in ft_index_shop_val:\n",
        "            title, image = index_map_shop[item]\n",
        "            context.bot.send_message(chat_id=update.message.chat_id, text=\"title: {} image: {}\".format(title, image))\n",
        "        return\n",
        "\n",
        "    # QA\n",
        "    vect_ft = embed_txt(input_txt, {}, 1)\n",
        "    ft_index_val, distances = ft_index.get_nns_by_vector(vect_ft, 1, include_distances=True)\n",
        "\n",
        "    #\n",
        "    if distances[0] > 100.5:\n",
        "        print(distances[0])\n",
        "        context.bot.send_message(chat_id=update.message.chat_id, text=\"Не понимаю ((\")\n",
        "        return\n",
        "\n",
        "    # Вопрос-Ответ\n",
        "    context.bot.send_message(chat_id=update.message.chat_id, text=index_map[ft_index_val[0]])\n",
        "\n",
        "start_command_handler = CommandHandler('start', startCommand)\n",
        "text_message_handler = MessageHandler(filters.text, textMessage)\n",
        "dispatcher.add_handler(start_command_handler)\n",
        "dispatcher.add_handler(text_message_handler)\n",
        "updater.start_polling(clean=True)\n",
        "updater.idle()"
      ],
      "metadata": {
        "id": "36zFBRQcXo_m"
      },
      "execution_count": null,
      "outputs": []
    },
    {
      "cell_type": "code",
      "source": [],
      "metadata": {
        "id": "cxsOb8mCoDmf"
      },
      "execution_count": null,
      "outputs": []
    }
  ]
}