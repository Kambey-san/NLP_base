{
 "cells": [
  {
   "cell_type": "markdown",
   "id": "a6225f70",
   "metadata": {},
   "source": [
    "## Урок 15. Консультация по курсовому проекту. Создание чат-бота в Telegram/ ДЗ"
   ]
  },
  {
   "cell_type": "markdown",
   "id": "621cb1eb",
   "metadata": {},
   "source": [
    "**Задание - ответы**\n",
    "\n",
    "*Продумать тему курсового проекта:* \n",
    "\n",
    "\"telegram chat-bot - продавец, синоптик, болтун\"\n",
    "### \n",
    "\n",
    "*Подготовить данные для обучения:* \n",
    "\n",
    "<a href='https://drive.google.com/file/d/1t3ha_c-mkmWhfvtzc77GNUFOIXCH8ZOq/view?usp=drive_link'>Otvety.txt</a>,\n",
    "\n",
    "<a href='https://drive.google.com/file/d/1eLD7icgzaZhaUP9K58A41VblxgSFH2rp/view?usp=drive_link'>ProductsDataset</a>,\n",
    "\n",
    "<a href='https://github.com/explosion/spacy-models/releases/download/ru_core_news_sm-3.1.0/ru_core_news_sm-3.1.0.tar.gz'>ru_core_news_sm</a>.\n",
    "### \n",
    "\n",
    "*Продумать интенты на которые вы будете обучаться:*\n",
    "\n",
    "* болталка\n",
    "* покупка товара\n",
    "* погода в городе\n"
   ]
  }
 ],
 "metadata": {
  "kernelspec": {
   "display_name": "Python 3 (ipykernel)",
   "language": "python",
   "name": "python3"
  },
  "language_info": {
   "codemirror_mode": {
    "name": "ipython",
    "version": 3
   },
   "file_extension": ".py",
   "mimetype": "text/x-python",
   "name": "python",
   "nbconvert_exporter": "python",
   "pygments_lexer": "ipython3",
   "version": "3.10.5"
  }
 },
 "nbformat": 4,
 "nbformat_minor": 5
}
