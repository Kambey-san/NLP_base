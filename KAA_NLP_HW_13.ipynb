{
 "cells": [
  {
   "cell_type": "markdown",
   "id": "d01f52d3",
   "metadata": {},
   "source": [
    "## Урок 13. Модель BERT и GPT/ ДЗ"
   ]
  },
  {
   "cell_type": "markdown",
   "id": "dc3a9c70",
   "metadata": {},
   "source": [
    "\n",
    "**Задание**\n",
    "\n",
    "Взять датасет https://huggingface.co/datasets/merionum/ru_paraphraser решить задачу парафраза"
   ]
  },
  {
   "cell_type": "code",
   "execution_count": 1,
   "id": "19b8291d",
   "metadata": {},
   "outputs": [],
   "source": [
    "import numpy as np\n",
    "import pandas as pd\n",
    "\n",
    "import torch\n",
    "import torch_directml\n",
    "from torch import argmax\n",
    "from torch.nn.functional import softmax\n",
    "from transformers import BertTokenizerFast, AutoModelForSequenceClassification"
   ]
  },
  {
   "cell_type": "code",
   "execution_count": 2,
   "id": "69676011",
   "metadata": {},
   "outputs": [],
   "source": [
    "from datasets import load_dataset\n",
    "from transformers import BertTokenizer"
   ]
  },
  {
   "cell_type": "code",
   "execution_count": 3,
   "id": "87172290",
   "metadata": {},
   "outputs": [],
   "source": [
    "corpus = load_dataset('merionum/ru_paraphraser', data_files='test.jsonl')"
   ]
  },
  {
   "cell_type": "code",
   "execution_count": 4,
   "id": "22722155",
   "metadata": {},
   "outputs": [],
   "source": [
    "model_name = 'cointegrated/rubert-base-cased-dp-paraphrase-detection'\n",
    "model = AutoModelForSequenceClassification.from_pretrained(model_name)\n",
    "tokenizer = BertTokenizer.from_pretrained(model_name)"
   ]
  },
  {
   "cell_type": "code",
   "execution_count": 5,
   "id": "04af21bc",
   "metadata": {},
   "outputs": [],
   "source": [
    "result_df = []\n",
    "\n",
    "def paraphrase_check(row_numb):\n",
    "    \n",
    "    text1 = corpus['train']['text_1'][row_numb]\n",
    "    text2 = corpus['train']['text_2'][row_numb]\n",
    "    \n",
    "    batch = tokenizer(text1, text2, return_tensors='pt').to(model.device)\n",
    "    with torch.inference_mode():\n",
    "        proba = torch.softmax(model(**batch).logits, -1).numpy()\n",
    "    \n",
    "    p = proba[0]\n",
    "    \n",
    "    result_df.append([text1, text2, p[1]])\n",
    "    \n",
    "    return pd.DataFrame(result_df, columns=['текст 1', 'текст 2', 'вероятность парафраза'])"
   ]
  },
  {
   "cell_type": "code",
   "execution_count": 6,
   "id": "20e450c9",
   "metadata": {},
   "outputs": [
    {
     "data": {
      "text/html": [
       "<div>\n",
       "<style scoped>\n",
       "    .dataframe tbody tr th:only-of-type {\n",
       "        vertical-align: middle;\n",
       "    }\n",
       "\n",
       "    .dataframe tbody tr th {\n",
       "        vertical-align: top;\n",
       "    }\n",
       "\n",
       "    .dataframe thead th {\n",
       "        text-align: right;\n",
       "    }\n",
       "</style>\n",
       "<table border=\"1\" class=\"dataframe\">\n",
       "  <thead>\n",
       "    <tr style=\"text-align: right;\">\n",
       "      <th></th>\n",
       "      <th>текст 1</th>\n",
       "      <th>текст 2</th>\n",
       "      <th>вероятность парафраза</th>\n",
       "    </tr>\n",
       "  </thead>\n",
       "  <tbody>\n",
       "    <tr>\n",
       "      <th>0</th>\n",
       "      <td>Цены на нефть восстанавливаются</td>\n",
       "      <td>Парламент Словакии поблагодарил народы бывшего...</td>\n",
       "      <td>0.054301</td>\n",
       "    </tr>\n",
       "  </tbody>\n",
       "</table>\n",
       "</div>"
      ],
      "text/plain": [
       "                           текст 1  \\\n",
       "0  Цены на нефть восстанавливаются   \n",
       "\n",
       "                                             текст 2  вероятность парафраза  \n",
       "0  Парламент Словакии поблагодарил народы бывшего...               0.054301  "
      ]
     },
     "execution_count": 6,
     "metadata": {},
     "output_type": "execute_result"
    }
   ],
   "source": [
    "paraphrase_check(0)"
   ]
  },
  {
   "cell_type": "code",
   "execution_count": 7,
   "id": "a27762f9",
   "metadata": {},
   "outputs": [
    {
     "data": {
      "text/html": [
       "<div>\n",
       "<style scoped>\n",
       "    .dataframe tbody tr th:only-of-type {\n",
       "        vertical-align: middle;\n",
       "    }\n",
       "\n",
       "    .dataframe tbody tr th {\n",
       "        vertical-align: top;\n",
       "    }\n",
       "\n",
       "    .dataframe thead th {\n",
       "        text-align: right;\n",
       "    }\n",
       "</style>\n",
       "<table border=\"1\" class=\"dataframe\">\n",
       "  <thead>\n",
       "    <tr style=\"text-align: right;\">\n",
       "      <th></th>\n",
       "      <th>текст 1</th>\n",
       "      <th>текст 2</th>\n",
       "      <th>вероятность парафраза</th>\n",
       "    </tr>\n",
       "  </thead>\n",
       "  <tbody>\n",
       "    <tr>\n",
       "      <th>0</th>\n",
       "      <td>Цены на нефть восстанавливаются</td>\n",
       "      <td>Парламент Словакии поблагодарил народы бывшего...</td>\n",
       "      <td>0.054301</td>\n",
       "    </tr>\n",
       "    <tr>\n",
       "      <th>1</th>\n",
       "      <td>Пушков: у Обамы не хватило духа лично поздрави...</td>\n",
       "      <td>Пушков: Обама не нашел в себе духа лично поздр...</td>\n",
       "      <td>0.972294</td>\n",
       "    </tr>\n",
       "  </tbody>\n",
       "</table>\n",
       "</div>"
      ],
      "text/plain": [
       "                                             текст 1  \\\n",
       "0                    Цены на нефть восстанавливаются   \n",
       "1  Пушков: у Обамы не хватило духа лично поздрави...   \n",
       "\n",
       "                                             текст 2  вероятность парафраза  \n",
       "0  Парламент Словакии поблагодарил народы бывшего...               0.054301  \n",
       "1  Пушков: Обама не нашел в себе духа лично поздр...               0.972294  "
      ]
     },
     "execution_count": 7,
     "metadata": {},
     "output_type": "execute_result"
    }
   ],
   "source": [
    "paraphrase_check(10)"
   ]
  },
  {
   "cell_type": "code",
   "execution_count": 8,
   "id": "051b2cea",
   "metadata": {},
   "outputs": [
    {
     "data": {
      "text/html": [
       "<div>\n",
       "<style scoped>\n",
       "    .dataframe tbody tr th:only-of-type {\n",
       "        vertical-align: middle;\n",
       "    }\n",
       "\n",
       "    .dataframe tbody tr th {\n",
       "        vertical-align: top;\n",
       "    }\n",
       "\n",
       "    .dataframe thead th {\n",
       "        text-align: right;\n",
       "    }\n",
       "</style>\n",
       "<table border=\"1\" class=\"dataframe\">\n",
       "  <thead>\n",
       "    <tr style=\"text-align: right;\">\n",
       "      <th></th>\n",
       "      <th>текст 1</th>\n",
       "      <th>текст 2</th>\n",
       "      <th>вероятность парафраза</th>\n",
       "    </tr>\n",
       "  </thead>\n",
       "  <tbody>\n",
       "    <tr>\n",
       "      <th>0</th>\n",
       "      <td>Цены на нефть восстанавливаются</td>\n",
       "      <td>Парламент Словакии поблагодарил народы бывшего...</td>\n",
       "      <td>0.054301</td>\n",
       "    </tr>\n",
       "    <tr>\n",
       "      <th>1</th>\n",
       "      <td>Пушков: у Обамы не хватило духа лично поздрави...</td>\n",
       "      <td>Пушков: Обама не нашел в себе духа лично поздр...</td>\n",
       "      <td>0.972294</td>\n",
       "    </tr>\n",
       "    <tr>\n",
       "      <th>2</th>\n",
       "      <td>Лидер либдемов Ник Клегг подал в отставку посл...</td>\n",
       "      <td>Лидер британских лейбористов подал в отставку ...</td>\n",
       "      <td>0.919144</td>\n",
       "    </tr>\n",
       "  </tbody>\n",
       "</table>\n",
       "</div>"
      ],
      "text/plain": [
       "                                             текст 1  \\\n",
       "0                    Цены на нефть восстанавливаются   \n",
       "1  Пушков: у Обамы не хватило духа лично поздрави...   \n",
       "2  Лидер либдемов Ник Клегг подал в отставку посл...   \n",
       "\n",
       "                                             текст 2  вероятность парафраза  \n",
       "0  Парламент Словакии поблагодарил народы бывшего...               0.054301  \n",
       "1  Пушков: Обама не нашел в себе духа лично поздр...               0.972294  \n",
       "2  Лидер британских лейбористов подал в отставку ...               0.919144  "
      ]
     },
     "execution_count": 8,
     "metadata": {},
     "output_type": "execute_result"
    }
   ],
   "source": [
    "paraphrase_check(20)"
   ]
  },
  {
   "cell_type": "code",
   "execution_count": 9,
   "id": "2ed1e861",
   "metadata": {},
   "outputs": [
    {
     "data": {
      "text/html": [
       "<div>\n",
       "<style scoped>\n",
       "    .dataframe tbody tr th:only-of-type {\n",
       "        vertical-align: middle;\n",
       "    }\n",
       "\n",
       "    .dataframe tbody tr th {\n",
       "        vertical-align: top;\n",
       "    }\n",
       "\n",
       "    .dataframe thead th {\n",
       "        text-align: right;\n",
       "    }\n",
       "</style>\n",
       "<table border=\"1\" class=\"dataframe\">\n",
       "  <thead>\n",
       "    <tr style=\"text-align: right;\">\n",
       "      <th></th>\n",
       "      <th>текст 1</th>\n",
       "      <th>текст 2</th>\n",
       "      <th>вероятность парафраза</th>\n",
       "    </tr>\n",
       "  </thead>\n",
       "  <tbody>\n",
       "    <tr>\n",
       "      <th>0</th>\n",
       "      <td>Цены на нефть восстанавливаются</td>\n",
       "      <td>Парламент Словакии поблагодарил народы бывшего...</td>\n",
       "      <td>0.054301</td>\n",
       "    </tr>\n",
       "    <tr>\n",
       "      <th>1</th>\n",
       "      <td>Пушков: у Обамы не хватило духа лично поздрави...</td>\n",
       "      <td>Пушков: Обама не нашел в себе духа лично поздр...</td>\n",
       "      <td>0.972294</td>\n",
       "    </tr>\n",
       "    <tr>\n",
       "      <th>2</th>\n",
       "      <td>Лидер либдемов Ник Клегг подал в отставку посл...</td>\n",
       "      <td>Лидер британских лейбористов подал в отставку ...</td>\n",
       "      <td>0.919144</td>\n",
       "    </tr>\n",
       "    <tr>\n",
       "      <th>3</th>\n",
       "      <td>Прокуратура пока не решила, обжаловать ли приг...</td>\n",
       "      <td>Защита Васильевой обжалует приговор суда</td>\n",
       "      <td>0.239415</td>\n",
       "    </tr>\n",
       "  </tbody>\n",
       "</table>\n",
       "</div>"
      ],
      "text/plain": [
       "                                             текст 1  \\\n",
       "0                    Цены на нефть восстанавливаются   \n",
       "1  Пушков: у Обамы не хватило духа лично поздрави...   \n",
       "2  Лидер либдемов Ник Клегг подал в отставку посл...   \n",
       "3  Прокуратура пока не решила, обжаловать ли приг...   \n",
       "\n",
       "                                             текст 2  вероятность парафраза  \n",
       "0  Парламент Словакии поблагодарил народы бывшего...               0.054301  \n",
       "1  Пушков: Обама не нашел в себе духа лично поздр...               0.972294  \n",
       "2  Лидер британских лейбористов подал в отставку ...               0.919144  \n",
       "3           Защита Васильевой обжалует приговор суда               0.239415  "
      ]
     },
     "execution_count": 9,
     "metadata": {},
     "output_type": "execute_result"
    }
   ],
   "source": [
    "paraphrase_check(30)"
   ]
  },
  {
   "cell_type": "code",
   "execution_count": 10,
   "id": "20bd1fd8",
   "metadata": {},
   "outputs": [
    {
     "data": {
      "text/html": [
       "<div>\n",
       "<style scoped>\n",
       "    .dataframe tbody tr th:only-of-type {\n",
       "        vertical-align: middle;\n",
       "    }\n",
       "\n",
       "    .dataframe tbody tr th {\n",
       "        vertical-align: top;\n",
       "    }\n",
       "\n",
       "    .dataframe thead th {\n",
       "        text-align: right;\n",
       "    }\n",
       "</style>\n",
       "<table border=\"1\" class=\"dataframe\">\n",
       "  <thead>\n",
       "    <tr style=\"text-align: right;\">\n",
       "      <th></th>\n",
       "      <th>текст 1</th>\n",
       "      <th>текст 2</th>\n",
       "      <th>вероятность парафраза</th>\n",
       "    </tr>\n",
       "  </thead>\n",
       "  <tbody>\n",
       "    <tr>\n",
       "      <th>0</th>\n",
       "      <td>Цены на нефть восстанавливаются</td>\n",
       "      <td>Парламент Словакии поблагодарил народы бывшего...</td>\n",
       "      <td>0.054301</td>\n",
       "    </tr>\n",
       "    <tr>\n",
       "      <th>1</th>\n",
       "      <td>Пушков: у Обамы не хватило духа лично поздрави...</td>\n",
       "      <td>Пушков: Обама не нашел в себе духа лично поздр...</td>\n",
       "      <td>0.972294</td>\n",
       "    </tr>\n",
       "    <tr>\n",
       "      <th>2</th>\n",
       "      <td>Лидер либдемов Ник Клегг подал в отставку посл...</td>\n",
       "      <td>Лидер британских лейбористов подал в отставку ...</td>\n",
       "      <td>0.919144</td>\n",
       "    </tr>\n",
       "    <tr>\n",
       "      <th>3</th>\n",
       "      <td>Прокуратура пока не решила, обжаловать ли приг...</td>\n",
       "      <td>Защита Васильевой обжалует приговор суда</td>\n",
       "      <td>0.239415</td>\n",
       "    </tr>\n",
       "    <tr>\n",
       "      <th>4</th>\n",
       "      <td>Владимир Путин освободил от должности почти 20...</td>\n",
       "      <td>Путин снял с должностей более 20 руководителей...</td>\n",
       "      <td>0.972911</td>\n",
       "    </tr>\n",
       "  </tbody>\n",
       "</table>\n",
       "</div>"
      ],
      "text/plain": [
       "                                             текст 1  \\\n",
       "0                    Цены на нефть восстанавливаются   \n",
       "1  Пушков: у Обамы не хватило духа лично поздрави...   \n",
       "2  Лидер либдемов Ник Клегг подал в отставку посл...   \n",
       "3  Прокуратура пока не решила, обжаловать ли приг...   \n",
       "4  Владимир Путин освободил от должности почти 20...   \n",
       "\n",
       "                                             текст 2  вероятность парафраза  \n",
       "0  Парламент Словакии поблагодарил народы бывшего...               0.054301  \n",
       "1  Пушков: Обама не нашел в себе духа лично поздр...               0.972294  \n",
       "2  Лидер британских лейбористов подал в отставку ...               0.919144  \n",
       "3           Защита Васильевой обжалует приговор суда               0.239415  \n",
       "4  Путин снял с должностей более 20 руководителей...               0.972911  "
      ]
     },
     "execution_count": 10,
     "metadata": {},
     "output_type": "execute_result"
    }
   ],
   "source": [
    "paraphrase_check(40)"
   ]
  },
  {
   "cell_type": "markdown",
   "id": "e635ebb2",
   "metadata": {},
   "source": [
    "**Вывод:** предобученная модель работает удовлетворительно"
   ]
  },
  {
   "cell_type": "markdown",
   "id": "5ee89677",
   "metadata": {},
   "source": [
    "## \n",
    "**Задание**\n",
    "\n",
    "С помощью бертов решить задачу классификации"
   ]
  },
  {
   "cell_type": "code",
   "execution_count": 11,
   "id": "24a353ee",
   "metadata": {},
   "outputs": [],
   "source": [
    "DEVICE = 0\n",
    "MODEL = 'blanchefort/rubert-base-cased-sentiment'\n",
    "\n",
    "device = 'cpu'\n",
    "if type(DEVICE) is int:\n",
    "    device = torch_directml.device(DEVICE)\n",
    "else:\n",
    "    device = DEVICE"
   ]
  },
  {
   "cell_type": "code",
   "execution_count": 12,
   "id": "c04a906e",
   "metadata": {},
   "outputs": [],
   "source": [
    "class SentimentClassifier:\n",
    "    CALSSES = ['Нейтральный', 'Позитивный', 'Негативный']\n",
    "    \n",
    "    def __init__(self, model, device='cpu'):\n",
    "        self._tokenizer = BertTokenizerFast.from_pretrained(model)\n",
    "        self._model = AutoModelForSequenceClassification.from_pretrained(model)\n",
    "        self.to(device)\n",
    "    \n",
    "    @torch.no_grad()\n",
    "    def predict(self, text, aggregate=True):\n",
    "        inputs = self._tokenizer(text,\n",
    "                                 max_length=512,\n",
    "                                 padding=True,\n",
    "                                 truncation=True,\n",
    "                                 return_tensors='pt')\n",
    "\n",
    "        inputs = inputs.to(self._device)\n",
    "        outputs = self._model(**inputs)\n",
    "        predicted = softmax(outputs.logits, dim=1)\n",
    "        predicted = argmax(predicted, dim=1).to('cpu').numpy()\n",
    "        \n",
    "        if aggregate:\n",
    "            try:\n",
    "                return self.CALSSES[predicted[0]]\n",
    "            except:\n",
    "                return 'Ошибка определения класса!'\n",
    "        \n",
    "        return predicted\n",
    "    \n",
    "    def to(self, device):\n",
    "        self._model = self._model.to(device)\n",
    "        self._device = device\n",
    "\n",
    "classifier = SentimentClassifier(MODEL, device=device)"
   ]
  },
  {
   "cell_type": "code",
   "execution_count": 13,
   "id": "2c8f6855",
   "metadata": {},
   "outputs": [
    {
     "name": "stdout",
     "output_type": "stream",
     "text": [
      "Позитивный\n"
     ]
    }
   ],
   "source": [
    "print(classifier.predict('Я обожаю тяжелую музыку!'))"
   ]
  },
  {
   "cell_type": "code",
   "execution_count": 14,
   "id": "6144e415",
   "metadata": {},
   "outputs": [
    {
     "name": "stdout",
     "output_type": "stream",
     "text": [
      "Негативный\n"
     ]
    }
   ],
   "source": [
    "print(classifier.predict('Прекрасный пример полного отсутствия мозга.'))"
   ]
  },
  {
   "cell_type": "code",
   "execution_count": 15,
   "id": "c95cb0e1",
   "metadata": {},
   "outputs": [
    {
     "name": "stdout",
     "output_type": "stream",
     "text": [
      "Нейтральный\n"
     ]
    }
   ],
   "source": [
    "print(classifier.predict('Скоро мы будем делать чат бота.'))"
   ]
  }
 ],
 "metadata": {
  "kernelspec": {
   "display_name": "Python 3 (ipykernel)",
   "language": "python",
   "name": "python3"
  },
  "language_info": {
   "codemirror_mode": {
    "name": "ipython",
    "version": 3
   },
   "file_extension": ".py",
   "mimetype": "text/x-python",
   "name": "python",
   "nbconvert_exporter": "python",
   "pygments_lexer": "ipython3",
   "version": "3.10.5"
  }
 },
 "nbformat": 4,
 "nbformat_minor": 5
}
