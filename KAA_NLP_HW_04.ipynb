{
  "nbformat": 4,
  "nbformat_minor": 0,
  "metadata": {
    "colab": {
      "provenance": []
    },
    "kernelspec": {
      "name": "python3",
      "display_name": "Python 3"
    },
    "language_info": {
      "name": "python"
    }
  },
  "cells": [
    {
      "cell_type": "markdown",
      "source": [
        "## Урок 4. Тематическое моделирование. EM-алгоритм/ ДЗ\n",
        "\n",
        "продолжаем исследование датасета с твитами\n",
        "\n",
        "Скачиваем датасет ([источник](http://study.mokoron.com/)): [положительные](https://www.dropbox.com/s/fnpq3z4bcnoktiv/positive.csv?dl=0), [отрицательные](https://www.dropbox.com/s/r6u59ljhhjdg6j0/negative.csv).\n",
        "\n",
        "или можно через ноутбук\n",
        "\n",
        "!wget https://www.dropbox.com/s/fnpq3z4bcnoktiv/positive.csv\n",
        "!wget https://www.dropbox.com/s/r6u59ljhhjdg6j0/negative.csv\n",
        "\n",
        "как альтернатива можно скачать данные из Роспотребнадзора\n",
        "https://zpp.rospotrebnadzor.ru/Forum/Appeals\n",
        "для этого берём ноутбук `parse_rospotrebnadzor.ipynb`\n",
        "устанавливаем количество скачанных страниц больше не 50-сят хотябы 500 и для анализа берём только вопросы так как ответы есть не всегда\n",
        "\n",
        "что надо сделать\n",
        "1. объединить в одну выборку (это только для твитов), для роспотребнадзора сформировать датасет из вопросов\n",
        "2. провести исследование и выявить тематики о которых говорят в твитах (для твитов), а для роспотребнадзора так же выявить тематики о которых люди пишут проанализировать\n",
        "3. сделать визуализацию кластеров тематик\n",
        "4. проинтерпритировать получившиеся тематики"
      ],
      "metadata": {
        "id": "wteclLgPIN6N"
      }
    },
    {
      "cell_type": "code",
      "execution_count": 7,
      "metadata": {
        "colab": {
          "base_uri": "https://localhost:8080/"
        },
        "id": "F1SF5Biv4581",
        "outputId": "28de6481-dd3d-498e-9e57-9e7f400457a6"
      },
      "outputs": [
        {
          "output_type": "stream",
          "name": "stdout",
          "text": [
            "--2023-12-23 14:02:10--  https://www.dropbox.com/s/fnpq3z4bcnoktiv/positive.csv\n",
            "Resolving www.dropbox.com (www.dropbox.com)... 162.125.3.18, 2620:100:6021:18::a27d:4112\n",
            "Connecting to www.dropbox.com (www.dropbox.com)|162.125.3.18|:443... connected.\n",
            "HTTP request sent, awaiting response... 302 Found\n",
            "Location: /s/raw/fnpq3z4bcnoktiv/positive.csv [following]\n",
            "--2023-12-23 14:02:10--  https://www.dropbox.com/s/raw/fnpq3z4bcnoktiv/positive.csv\n",
            "Reusing existing connection to www.dropbox.com:443.\n",
            "HTTP request sent, awaiting response... 302 Found\n",
            "Location: https://uc186828419590b8a5637563e279.dl.dropboxusercontent.com/cd/0/inline/CJ-Z4h2gtpRRpkSdwXqelxMFmFbNs_G0CntP-luhPrU-w3aKgq2AwotDD97_nN8CaVajmapF1W3XB3uNTAuZ9H3mHbavo_dg85o2L18MxLStPdaQJbHkpxUxL5TLspOY8JY/file# [following]\n",
            "--2023-12-23 14:02:11--  https://uc186828419590b8a5637563e279.dl.dropboxusercontent.com/cd/0/inline/CJ-Z4h2gtpRRpkSdwXqelxMFmFbNs_G0CntP-luhPrU-w3aKgq2AwotDD97_nN8CaVajmapF1W3XB3uNTAuZ9H3mHbavo_dg85o2L18MxLStPdaQJbHkpxUxL5TLspOY8JY/file\n",
            "Resolving uc186828419590b8a5637563e279.dl.dropboxusercontent.com (uc186828419590b8a5637563e279.dl.dropboxusercontent.com)... 162.125.3.15, 2620:100:6021:15::a27d:410f\n",
            "Connecting to uc186828419590b8a5637563e279.dl.dropboxusercontent.com (uc186828419590b8a5637563e279.dl.dropboxusercontent.com)|162.125.3.15|:443... connected.\n",
            "HTTP request sent, awaiting response... 200 OK\n",
            "Length: 26233379 (25M) [text/plain]\n",
            "Saving to: ‘positive.csv.4’\n",
            "\n",
            "positive.csv.4      100%[===================>]  25.02M   103MB/s    in 0.2s    \n",
            "\n",
            "2023-12-23 14:02:11 (103 MB/s) - ‘positive.csv.4’ saved [26233379/26233379]\n",
            "\n"
          ]
        }
      ],
      "source": [
        "!wget https://www.dropbox.com/s/fnpq3z4bcnoktiv/positive.csv"
      ]
    },
    {
      "cell_type": "code",
      "source": [
        "!wget https://www.dropbox.com/s/r6u59ljhhjdg6j0/negative.csv"
      ],
      "metadata": {
        "colab": {
          "base_uri": "https://localhost:8080/"
        },
        "id": "rnMcxsM55Ifl",
        "outputId": "ed1c99c3-4f35-4470-bd01-3fc73eec0c53"
      },
      "execution_count": 8,
      "outputs": [
        {
          "output_type": "stream",
          "name": "stdout",
          "text": [
            "--2023-12-23 14:02:11--  https://www.dropbox.com/s/r6u59ljhhjdg6j0/negative.csv\n",
            "Resolving www.dropbox.com (www.dropbox.com)... 162.125.3.18, 2620:100:6021:18::a27d:4112\n",
            "Connecting to www.dropbox.com (www.dropbox.com)|162.125.3.18|:443... connected.\n",
            "HTTP request sent, awaiting response... 302 Found\n",
            "Location: /s/raw/r6u59ljhhjdg6j0/negative.csv [following]\n",
            "--2023-12-23 14:02:11--  https://www.dropbox.com/s/raw/r6u59ljhhjdg6j0/negative.csv\n",
            "Reusing existing connection to www.dropbox.com:443.\n",
            "HTTP request sent, awaiting response... 302 Found\n",
            "Location: https://uc3b00255d0f6df1687d2a799674.dl.dropboxusercontent.com/cd/0/inline/CJ-0PmUd0LABIcwmb07bwz3Mkr1jVXS1-sQ4v-jYYLix1QmS0YSBwi2QiCwE0ZWhm_6YwylqkknEFq6dxrFLyw-2WPuNm2exhxUXn84_P7ag6Zz8jcN7mo-rUtIbJbn7bCY/file# [following]\n",
            "--2023-12-23 14:02:12--  https://uc3b00255d0f6df1687d2a799674.dl.dropboxusercontent.com/cd/0/inline/CJ-0PmUd0LABIcwmb07bwz3Mkr1jVXS1-sQ4v-jYYLix1QmS0YSBwi2QiCwE0ZWhm_6YwylqkknEFq6dxrFLyw-2WPuNm2exhxUXn84_P7ag6Zz8jcN7mo-rUtIbJbn7bCY/file\n",
            "Resolving uc3b00255d0f6df1687d2a799674.dl.dropboxusercontent.com (uc3b00255d0f6df1687d2a799674.dl.dropboxusercontent.com)... 162.125.4.15, 2620:100:6018:15::a27d:30f\n",
            "Connecting to uc3b00255d0f6df1687d2a799674.dl.dropboxusercontent.com (uc3b00255d0f6df1687d2a799674.dl.dropboxusercontent.com)|162.125.4.15|:443... connected.\n",
            "HTTP request sent, awaiting response... 200 OK\n",
            "Length: 24450101 (23M) [text/plain]\n",
            "Saving to: ‘negative.csv.4’\n",
            "\n",
            "negative.csv.4      100%[===================>]  23.32M  36.5MB/s    in 0.6s    \n",
            "\n",
            "2023-12-23 14:02:13 (36.5 MB/s) - ‘negative.csv.4’ saved [24450101/24450101]\n",
            "\n"
          ]
        }
      ]
    },
    {
      "cell_type": "code",
      "source": [
        "!pip install pymorphy2 pyLDAvis"
      ],
      "metadata": {
        "colab": {
          "base_uri": "https://localhost:8080/"
        },
        "id": "Ylmg1pMU-oBM",
        "outputId": "2c41b650-e097-4b4f-fd97-e1a349d78161"
      },
      "execution_count": 10,
      "outputs": [
        {
          "output_type": "stream",
          "name": "stdout",
          "text": [
            "Requirement already satisfied: pymorphy2 in /usr/local/lib/python3.10/dist-packages (0.9.1)\n",
            "Requirement already satisfied: pyLDAvis in /usr/local/lib/python3.10/dist-packages (3.4.1)\n",
            "Requirement already satisfied: dawg-python>=0.7.1 in /usr/local/lib/python3.10/dist-packages (from pymorphy2) (0.7.2)\n",
            "Requirement already satisfied: pymorphy2-dicts-ru<3.0,>=2.4 in /usr/local/lib/python3.10/dist-packages (from pymorphy2) (2.4.417127.4579844)\n",
            "Requirement already satisfied: docopt>=0.6 in /usr/local/lib/python3.10/dist-packages (from pymorphy2) (0.6.2)\n",
            "Requirement already satisfied: numpy>=1.24.2 in /usr/local/lib/python3.10/dist-packages (from pyLDAvis) (1.26.2)\n",
            "Requirement already satisfied: scipy in /usr/local/lib/python3.10/dist-packages (from pyLDAvis) (1.11.4)\n",
            "Requirement already satisfied: pandas>=2.0.0 in /usr/local/lib/python3.10/dist-packages (from pyLDAvis) (2.1.4)\n",
            "Requirement already satisfied: joblib>=1.2.0 in /usr/local/lib/python3.10/dist-packages (from pyLDAvis) (1.3.2)\n",
            "Requirement already satisfied: jinja2 in /usr/local/lib/python3.10/dist-packages (from pyLDAvis) (3.1.2)\n",
            "Requirement already satisfied: numexpr in /usr/local/lib/python3.10/dist-packages (from pyLDAvis) (2.8.8)\n",
            "Requirement already satisfied: funcy in /usr/local/lib/python3.10/dist-packages (from pyLDAvis) (2.0)\n",
            "Requirement already satisfied: scikit-learn>=1.0.0 in /usr/local/lib/python3.10/dist-packages (from pyLDAvis) (1.2.2)\n",
            "Requirement already satisfied: gensim in /usr/local/lib/python3.10/dist-packages (from pyLDAvis) (4.3.2)\n",
            "Requirement already satisfied: setuptools in /usr/local/lib/python3.10/dist-packages (from pyLDAvis) (69.0.2)\n",
            "Requirement already satisfied: python-dateutil>=2.8.2 in /usr/local/lib/python3.10/dist-packages (from pandas>=2.0.0->pyLDAvis) (2.8.2)\n",
            "Requirement already satisfied: pytz>=2020.1 in /usr/local/lib/python3.10/dist-packages (from pandas>=2.0.0->pyLDAvis) (2023.3.post1)\n",
            "Requirement already satisfied: tzdata>=2022.1 in /usr/local/lib/python3.10/dist-packages (from pandas>=2.0.0->pyLDAvis) (2023.3)\n",
            "Requirement already satisfied: threadpoolctl>=2.0.0 in /usr/local/lib/python3.10/dist-packages (from scikit-learn>=1.0.0->pyLDAvis) (3.2.0)\n",
            "Requirement already satisfied: smart-open>=1.8.1 in /usr/local/lib/python3.10/dist-packages (from gensim->pyLDAvis) (6.4.0)\n",
            "Requirement already satisfied: MarkupSafe>=2.0 in /usr/local/lib/python3.10/dist-packages (from jinja2->pyLDAvis) (2.1.3)\n",
            "Requirement already satisfied: six>=1.5 in /usr/local/lib/python3.10/dist-packages (from python-dateutil>=2.8.2->pandas>=2.0.0->pyLDAvis) (1.16.0)\n"
          ]
        }
      ]
    },
    {
      "cell_type": "code",
      "source": [
        "!pip install -U gensim"
      ],
      "metadata": {
        "colab": {
          "base_uri": "https://localhost:8080/"
        },
        "id": "i3bUD-dy_HMG",
        "outputId": "30784c87-6a5d-4145-a7ce-c7d04efdd480"
      },
      "execution_count": 11,
      "outputs": [
        {
          "output_type": "stream",
          "name": "stdout",
          "text": [
            "Requirement already satisfied: gensim in /usr/local/lib/python3.10/dist-packages (4.3.2)\n",
            "Requirement already satisfied: numpy>=1.18.5 in /usr/local/lib/python3.10/dist-packages (from gensim) (1.26.2)\n",
            "Requirement already satisfied: scipy>=1.7.0 in /usr/local/lib/python3.10/dist-packages (from gensim) (1.11.4)\n",
            "Requirement already satisfied: smart-open>=1.8.1 in /usr/local/lib/python3.10/dist-packages (from gensim) (6.4.0)\n"
          ]
        }
      ]
    },
    {
      "cell_type": "code",
      "source": [
        "!pip install stop_words"
      ],
      "metadata": {
        "colab": {
          "base_uri": "https://localhost:8080/"
        },
        "id": "gbArl7IE_J8_",
        "outputId": "d608577a-3eeb-42bc-c543-a4eabae3cf66"
      },
      "execution_count": 12,
      "outputs": [
        {
          "output_type": "stream",
          "name": "stdout",
          "text": [
            "Collecting stop_words\n",
            "  Downloading stop-words-2018.7.23.tar.gz (31 kB)\n",
            "  Preparing metadata (setup.py) ... \u001b[?25l\u001b[?25hdone\n",
            "Building wheels for collected packages: stop_words\n",
            "  Building wheel for stop_words (setup.py) ... \u001b[?25l\u001b[?25hdone\n",
            "  Created wheel for stop_words: filename=stop_words-2018.7.23-py3-none-any.whl size=32895 sha256=1c5f3a92de5a3c186fb2aa0d2ca462e97e4c5260e061ab4515d8808bb513192a\n",
            "  Stored in directory: /root/.cache/pip/wheels/d0/1a/23/f12552a50cb09bcc1694a5ebb6c2cd5f2a0311de2b8c3d9a89\n",
            "Successfully built stop_words\n",
            "Installing collected packages: stop_words\n",
            "Successfully installed stop_words-2018.7.23\n"
          ]
        }
      ]
    },
    {
      "cell_type": "code",
      "source": [
        "import warnings\n",
        "\n",
        "def fxn():\n",
        "    warnings.warn(\"deprecated\", DeprecationWarning)\n",
        "\n",
        "with warnings.catch_warnings():\n",
        "    warnings.simplefilter(\"ignore\")\n",
        "    fxn()"
      ],
      "metadata": {
        "id": "-v8qT9VP_QmB"
      },
      "execution_count": 13,
      "outputs": []
    },
    {
      "cell_type": "code",
      "source": [
        "import pandas as pd\n",
        "import numpy as np\n",
        "import re\n",
        "\n",
        "from nltk.corpus import stopwords\n",
        "import nltk\n",
        "\n",
        "import pymorphy2\n",
        "from gensim.models import *\n",
        "from gensim import corpora\n",
        "\n",
        "import pyLDAvis\n",
        "import pyLDAvis.gensim_models as gensimvis"
      ],
      "metadata": {
        "id": "zmC1j6j1_YxC"
      },
      "execution_count": 14,
      "outputs": []
    },
    {
      "cell_type": "code",
      "source": [
        "nltk.download('stopwords')"
      ],
      "metadata": {
        "colab": {
          "base_uri": "https://localhost:8080/"
        },
        "id": "L6CsGwMq_htv",
        "outputId": "628df382-b4d9-4eae-a018-e14b22b63b85"
      },
      "execution_count": 15,
      "outputs": [
        {
          "output_type": "stream",
          "name": "stderr",
          "text": [
            "/usr/local/lib/python3.10/dist-packages/ipykernel/ipkernel.py:283: DeprecationWarning: `should_run_async` will not call `transform_cell` automatically in the future. Please pass the result to `transformed_cell` argument and any exception that happen during thetransform in `preprocessing_exc_tuple` in IPython 7.17 and above.\n",
            "  and should_run_async(code)\n",
            "[nltk_data] Downloading package stopwords to /root/nltk_data...\n",
            "[nltk_data]   Unzipping corpora/stopwords.zip.\n"
          ]
        },
        {
          "output_type": "execute_result",
          "data": {
            "text/plain": [
              "True"
            ]
          },
          "metadata": {},
          "execution_count": 15
        }
      ]
    },
    {
      "cell_type": "code",
      "source": [
        "from pymorphy2 import MorphAnalyzer\n",
        "from stop_words import get_stop_words"
      ],
      "metadata": {
        "id": "-oyaLO4q_82f"
      },
      "execution_count": null,
      "outputs": []
    },
    {
      "cell_type": "code",
      "source": [
        "morpher = MorphAnalyzer()"
      ],
      "metadata": {
        "id": "vq_ApYlh_yhi"
      },
      "execution_count": null,
      "outputs": []
    },
    {
      "cell_type": "code",
      "source": [
        "stopwords_list = set(get_stop_words(\"ru\"))"
      ],
      "metadata": {
        "id": "m0uBWXx_ADsA"
      },
      "execution_count": null,
      "outputs": []
    },
    {
      "cell_type": "code",
      "source": [
        "positive = pd.read_csv('positive.csv', sep = ';', usecols = [3], names = ['text'])\n",
        "positive['label'] = ['positive'] * len(positive)\n",
        "\n",
        "negative = pd.read_csv('negative.csv', sep = ';', usecols = [3], names = ['text'])\n",
        "negative['label'] = ['negative'] * len(negative)"
      ],
      "metadata": {
        "id": "6TFs6rHgAO-o"
      },
      "execution_count": null,
      "outputs": []
    },
    {
      "cell_type": "code",
      "source": [
        "df = pd.concat([positive, negative], ignore_index = True)\n",
        "df.head()"
      ],
      "metadata": {
        "colab": {
          "base_uri": "https://localhost:8080/",
          "height": 261
        },
        "id": "0K6NYFoRAXZP",
        "outputId": "271879a5-238a-4bcd-aa9c-0dae897de6ee"
      },
      "execution_count": 24,
      "outputs": [
        {
          "output_type": "stream",
          "name": "stderr",
          "text": [
            "/usr/local/lib/python3.10/dist-packages/ipykernel/ipkernel.py:283: DeprecationWarning: `should_run_async` will not call `transform_cell` automatically in the future. Please pass the result to `transformed_cell` argument and any exception that happen during thetransform in `preprocessing_exc_tuple` in IPython 7.17 and above.\n",
            "  and should_run_async(code)\n"
          ]
        },
        {
          "output_type": "execute_result",
          "data": {
            "text/plain": [
              "                                                text     label\n",
              "0  @first_timee хоть я и школота, но поверь, у на...  positive\n",
              "1  Да, все-таки он немного похож на него. Но мой ...  positive\n",
              "2  RT @KatiaCheh: Ну ты идиотка) я испугалась за ...  positive\n",
              "3  RT @digger2912: \"Кто то в углу сидит и погибае...  positive\n",
              "4  @irina_dyshkant Вот что значит страшилка :D\\nН...  positive"
            ],
            "text/html": [
              "\n",
              "  <div id=\"df-25a772a5-0d8a-4a63-a136-1dc5c734c3bf\" class=\"colab-df-container\">\n",
              "    <div>\n",
              "<style scoped>\n",
              "    .dataframe tbody tr th:only-of-type {\n",
              "        vertical-align: middle;\n",
              "    }\n",
              "\n",
              "    .dataframe tbody tr th {\n",
              "        vertical-align: top;\n",
              "    }\n",
              "\n",
              "    .dataframe thead th {\n",
              "        text-align: right;\n",
              "    }\n",
              "</style>\n",
              "<table border=\"1\" class=\"dataframe\">\n",
              "  <thead>\n",
              "    <tr style=\"text-align: right;\">\n",
              "      <th></th>\n",
              "      <th>text</th>\n",
              "      <th>label</th>\n",
              "    </tr>\n",
              "  </thead>\n",
              "  <tbody>\n",
              "    <tr>\n",
              "      <th>0</th>\n",
              "      <td>@first_timee хоть я и школота, но поверь, у на...</td>\n",
              "      <td>positive</td>\n",
              "    </tr>\n",
              "    <tr>\n",
              "      <th>1</th>\n",
              "      <td>Да, все-таки он немного похож на него. Но мой ...</td>\n",
              "      <td>positive</td>\n",
              "    </tr>\n",
              "    <tr>\n",
              "      <th>2</th>\n",
              "      <td>RT @KatiaCheh: Ну ты идиотка) я испугалась за ...</td>\n",
              "      <td>positive</td>\n",
              "    </tr>\n",
              "    <tr>\n",
              "      <th>3</th>\n",
              "      <td>RT @digger2912: \"Кто то в углу сидит и погибае...</td>\n",
              "      <td>positive</td>\n",
              "    </tr>\n",
              "    <tr>\n",
              "      <th>4</th>\n",
              "      <td>@irina_dyshkant Вот что значит страшилка :D\\nН...</td>\n",
              "      <td>positive</td>\n",
              "    </tr>\n",
              "  </tbody>\n",
              "</table>\n",
              "</div>\n",
              "    <div class=\"colab-df-buttons\">\n",
              "\n",
              "  <div class=\"colab-df-container\">\n",
              "    <button class=\"colab-df-convert\" onclick=\"convertToInteractive('df-25a772a5-0d8a-4a63-a136-1dc5c734c3bf')\"\n",
              "            title=\"Convert this dataframe to an interactive table.\"\n",
              "            style=\"display:none;\">\n",
              "\n",
              "  <svg xmlns=\"http://www.w3.org/2000/svg\" height=\"24px\" viewBox=\"0 -960 960 960\">\n",
              "    <path d=\"M120-120v-720h720v720H120Zm60-500h600v-160H180v160Zm220 220h160v-160H400v160Zm0 220h160v-160H400v160ZM180-400h160v-160H180v160Zm440 0h160v-160H620v160ZM180-180h160v-160H180v160Zm440 0h160v-160H620v160Z\"/>\n",
              "  </svg>\n",
              "    </button>\n",
              "\n",
              "  <style>\n",
              "    .colab-df-container {\n",
              "      display:flex;\n",
              "      gap: 12px;\n",
              "    }\n",
              "\n",
              "    .colab-df-convert {\n",
              "      background-color: #E8F0FE;\n",
              "      border: none;\n",
              "      border-radius: 50%;\n",
              "      cursor: pointer;\n",
              "      display: none;\n",
              "      fill: #1967D2;\n",
              "      height: 32px;\n",
              "      padding: 0 0 0 0;\n",
              "      width: 32px;\n",
              "    }\n",
              "\n",
              "    .colab-df-convert:hover {\n",
              "      background-color: #E2EBFA;\n",
              "      box-shadow: 0px 1px 2px rgba(60, 64, 67, 0.3), 0px 1px 3px 1px rgba(60, 64, 67, 0.15);\n",
              "      fill: #174EA6;\n",
              "    }\n",
              "\n",
              "    .colab-df-buttons div {\n",
              "      margin-bottom: 4px;\n",
              "    }\n",
              "\n",
              "    [theme=dark] .colab-df-convert {\n",
              "      background-color: #3B4455;\n",
              "      fill: #D2E3FC;\n",
              "    }\n",
              "\n",
              "    [theme=dark] .colab-df-convert:hover {\n",
              "      background-color: #434B5C;\n",
              "      box-shadow: 0px 1px 3px 1px rgba(0, 0, 0, 0.15);\n",
              "      filter: drop-shadow(0px 1px 2px rgba(0, 0, 0, 0.3));\n",
              "      fill: #FFFFFF;\n",
              "    }\n",
              "  </style>\n",
              "\n",
              "    <script>\n",
              "      const buttonEl =\n",
              "        document.querySelector('#df-25a772a5-0d8a-4a63-a136-1dc5c734c3bf button.colab-df-convert');\n",
              "      buttonEl.style.display =\n",
              "        google.colab.kernel.accessAllowed ? 'block' : 'none';\n",
              "\n",
              "      async function convertToInteractive(key) {\n",
              "        const element = document.querySelector('#df-25a772a5-0d8a-4a63-a136-1dc5c734c3bf');\n",
              "        const dataTable =\n",
              "          await google.colab.kernel.invokeFunction('convertToInteractive',\n",
              "                                                    [key], {});\n",
              "        if (!dataTable) return;\n",
              "\n",
              "        const docLinkHtml = 'Like what you see? Visit the ' +\n",
              "          '<a target=\"_blank\" href=https://colab.research.google.com/notebooks/data_table.ipynb>data table notebook</a>'\n",
              "          + ' to learn more about interactive tables.';\n",
              "        element.innerHTML = '';\n",
              "        dataTable['output_type'] = 'display_data';\n",
              "        await google.colab.output.renderOutput(dataTable, element);\n",
              "        const docLink = document.createElement('div');\n",
              "        docLink.innerHTML = docLinkHtml;\n",
              "        element.appendChild(docLink);\n",
              "      }\n",
              "    </script>\n",
              "  </div>\n",
              "\n",
              "\n",
              "<div id=\"df-61b06c6d-eeaf-4d76-9208-194b01d4a6ef\">\n",
              "  <button class=\"colab-df-quickchart\" onclick=\"quickchart('df-61b06c6d-eeaf-4d76-9208-194b01d4a6ef')\"\n",
              "            title=\"Suggest charts\"\n",
              "            style=\"display:none;\">\n",
              "\n",
              "<svg xmlns=\"http://www.w3.org/2000/svg\" height=\"24px\"viewBox=\"0 0 24 24\"\n",
              "     width=\"24px\">\n",
              "    <g>\n",
              "        <path d=\"M19 3H5c-1.1 0-2 .9-2 2v14c0 1.1.9 2 2 2h14c1.1 0 2-.9 2-2V5c0-1.1-.9-2-2-2zM9 17H7v-7h2v7zm4 0h-2V7h2v10zm4 0h-2v-4h2v4z\"/>\n",
              "    </g>\n",
              "</svg>\n",
              "  </button>\n",
              "\n",
              "<style>\n",
              "  .colab-df-quickchart {\n",
              "      --bg-color: #E8F0FE;\n",
              "      --fill-color: #1967D2;\n",
              "      --hover-bg-color: #E2EBFA;\n",
              "      --hover-fill-color: #174EA6;\n",
              "      --disabled-fill-color: #AAA;\n",
              "      --disabled-bg-color: #DDD;\n",
              "  }\n",
              "\n",
              "  [theme=dark] .colab-df-quickchart {\n",
              "      --bg-color: #3B4455;\n",
              "      --fill-color: #D2E3FC;\n",
              "      --hover-bg-color: #434B5C;\n",
              "      --hover-fill-color: #FFFFFF;\n",
              "      --disabled-bg-color: #3B4455;\n",
              "      --disabled-fill-color: #666;\n",
              "  }\n",
              "\n",
              "  .colab-df-quickchart {\n",
              "    background-color: var(--bg-color);\n",
              "    border: none;\n",
              "    border-radius: 50%;\n",
              "    cursor: pointer;\n",
              "    display: none;\n",
              "    fill: var(--fill-color);\n",
              "    height: 32px;\n",
              "    padding: 0;\n",
              "    width: 32px;\n",
              "  }\n",
              "\n",
              "  .colab-df-quickchart:hover {\n",
              "    background-color: var(--hover-bg-color);\n",
              "    box-shadow: 0 1px 2px rgba(60, 64, 67, 0.3), 0 1px 3px 1px rgba(60, 64, 67, 0.15);\n",
              "    fill: var(--button-hover-fill-color);\n",
              "  }\n",
              "\n",
              "  .colab-df-quickchart-complete:disabled,\n",
              "  .colab-df-quickchart-complete:disabled:hover {\n",
              "    background-color: var(--disabled-bg-color);\n",
              "    fill: var(--disabled-fill-color);\n",
              "    box-shadow: none;\n",
              "  }\n",
              "\n",
              "  .colab-df-spinner {\n",
              "    border: 2px solid var(--fill-color);\n",
              "    border-color: transparent;\n",
              "    border-bottom-color: var(--fill-color);\n",
              "    animation:\n",
              "      spin 1s steps(1) infinite;\n",
              "  }\n",
              "\n",
              "  @keyframes spin {\n",
              "    0% {\n",
              "      border-color: transparent;\n",
              "      border-bottom-color: var(--fill-color);\n",
              "      border-left-color: var(--fill-color);\n",
              "    }\n",
              "    20% {\n",
              "      border-color: transparent;\n",
              "      border-left-color: var(--fill-color);\n",
              "      border-top-color: var(--fill-color);\n",
              "    }\n",
              "    30% {\n",
              "      border-color: transparent;\n",
              "      border-left-color: var(--fill-color);\n",
              "      border-top-color: var(--fill-color);\n",
              "      border-right-color: var(--fill-color);\n",
              "    }\n",
              "    40% {\n",
              "      border-color: transparent;\n",
              "      border-right-color: var(--fill-color);\n",
              "      border-top-color: var(--fill-color);\n",
              "    }\n",
              "    60% {\n",
              "      border-color: transparent;\n",
              "      border-right-color: var(--fill-color);\n",
              "    }\n",
              "    80% {\n",
              "      border-color: transparent;\n",
              "      border-right-color: var(--fill-color);\n",
              "      border-bottom-color: var(--fill-color);\n",
              "    }\n",
              "    90% {\n",
              "      border-color: transparent;\n",
              "      border-bottom-color: var(--fill-color);\n",
              "    }\n",
              "  }\n",
              "</style>\n",
              "\n",
              "  <script>\n",
              "    async function quickchart(key) {\n",
              "      const quickchartButtonEl =\n",
              "        document.querySelector('#' + key + ' button');\n",
              "      quickchartButtonEl.disabled = true;  // To prevent multiple clicks.\n",
              "      quickchartButtonEl.classList.add('colab-df-spinner');\n",
              "      try {\n",
              "        const charts = await google.colab.kernel.invokeFunction(\n",
              "            'suggestCharts', [key], {});\n",
              "      } catch (error) {\n",
              "        console.error('Error during call to suggestCharts:', error);\n",
              "      }\n",
              "      quickchartButtonEl.classList.remove('colab-df-spinner');\n",
              "      quickchartButtonEl.classList.add('colab-df-quickchart-complete');\n",
              "    }\n",
              "    (() => {\n",
              "      let quickchartButtonEl =\n",
              "        document.querySelector('#df-61b06c6d-eeaf-4d76-9208-194b01d4a6ef button');\n",
              "      quickchartButtonEl.style.display =\n",
              "        google.colab.kernel.accessAllowed ? 'block' : 'none';\n",
              "    })();\n",
              "  </script>\n",
              "</div>\n",
              "    </div>\n",
              "  </div>\n"
            ]
          },
          "metadata": {},
          "execution_count": 24
        }
      ]
    },
    {
      "cell_type": "code",
      "source": [
        "df.info()"
      ],
      "metadata": {
        "colab": {
          "base_uri": "https://localhost:8080/"
        },
        "id": "fUwnJNrCAe4O",
        "outputId": "7f798ded-778b-4125-e816-34095993f667"
      },
      "execution_count": 25,
      "outputs": [
        {
          "output_type": "stream",
          "name": "stdout",
          "text": [
            "<class 'pandas.core.frame.DataFrame'>\n",
            "RangeIndex: 226834 entries, 0 to 226833\n",
            "Data columns (total 2 columns):\n",
            " #   Column  Non-Null Count   Dtype \n",
            "---  ------  --------------   ----- \n",
            " 0   text    226834 non-null  object\n",
            " 1   label   226834 non-null  object\n",
            "dtypes: object(2)\n",
            "memory usage: 3.5+ MB\n"
          ]
        },
        {
          "output_type": "stream",
          "name": "stderr",
          "text": [
            "/usr/local/lib/python3.10/dist-packages/ipykernel/ipkernel.py:283: DeprecationWarning: `should_run_async` will not call `transform_cell` automatically in the future. Please pass the result to `transformed_cell` argument and any exception that happen during thetransform in `preprocessing_exc_tuple` in IPython 7.17 and above.\n",
            "  and should_run_async(code)\n"
          ]
        }
      ]
    },
    {
      "cell_type": "code",
      "source": [
        "words_regex = re.compile(r'\\w+')\n",
        "\n",
        "# Формирование токенов длиной более 3 букв\n",
        "def find_words(text, regex = words_regex):\n",
        "    tokens = regex.findall(text)\n",
        "    return [w for w in tokens if w.isalpha() and len(w)>= 4]\n"
      ],
      "metadata": {
        "id": "XC762TMdAmdW"
      },
      "execution_count": null,
      "outputs": []
    },
    {
      "cell_type": "code",
      "source": [
        "# Удаляем стоп слова и другие символы, не являющимися буквами\n",
        "def lemmatize(words, lemmer = morpher, stopwords = stopwords_list):\n",
        "    lemmas = [lemmer.parse(w)[0].normal_form for w in words]\n",
        "    return [w for w in lemmas if not w in stopwords and w.isalpha()]\n",
        "\n",
        "#Чистим от нецензурных слов и слов, не несущих особой смысловой нагрузки\n",
        "def clear_tokens(tokens):\n",
        "    string_tokens = ' '.join(tokens)\n",
        "    string_tokens = re.sub(r'[A-za-z]', ' ',  string_tokens)\n",
        "    string_tokens = re.sub(r'\\w+ще\\b', ' ',  string_tokens)\n",
        "    string_tokens = re.sub(r'\\bбл\\w+', ' ',  string_tokens)\n",
        "    string_tokens = re.sub(r'значит', ' ',  string_tokens)\n",
        "    string_tokens = re.sub(r'почему', ' ',  string_tokens)\n",
        "    string_tokens = re.sub(r'свой', ' ',  string_tokens)\n",
        "    string_tokens = re.sub(r'капец', ' ',  string_tokens)\n",
        "    string_tokens = re.sub(r'который', ' ',  string_tokens)\n",
        "    string_tokens = re.sub(r'это', ' ',  string_tokens)\n",
        "    string_tokens = re.sub(r'весь', ' ',  string_tokens)\n",
        "    string_tokens = re.sub(r'\\bидио\\w+', ' ',  string_tokens)\n",
        "    string_tokens = re.sub(r'\\bпид\\w+', ' ',  string_tokens)\n",
        "    string_tokens = re.sub(r'\\bхуй\\w+', ' ', string_tokens)\n",
        "    string_tokens = re.sub(r'\\w+xу.\\b', ' ',  string_tokens)\n",
        "    string_tokens = re.sub(r'\\w+xу\\w+', ' ',  string_tokens)\n",
        "    string_tokens = re.sub(r'\\w+но\\b', ' ',  string_tokens)\n",
        "    string_tokens = re.sub(r'\\bпоп\\w+', ' ',  string_tokens)\n",
        "    string_tokens = re.sub(r'\\bпиз\\w+', ' ',  string_tokens)\n",
        "    string_tokens = re.sub(r'\\bгов\\w+', ' ',  string_tokens)\n",
        "    string_tokens = re.sub(r'\\bфиг\\w+', ' ',  string_tokens)\n",
        "    string_tokens = re.sub(r'сука', ' ',  string_tokens)\n",
        "    string_tokens = re.sub(r'очень', ' ',  string_tokens)\n",
        "    string_tokens = re.sub(r'лох', ' ',  string_tokens)\n",
        "    string_tokens = re.sub(r'\\bпи.де\\w+', ' ',  string_tokens)\n",
        "    string_tokens = re.sub(r'нету', ' ',  string_tokens)\n",
        "    string_tokens = re.sub(r'ой', ' ',  string_tokens)\n",
        "    string_tokens = re.sub(r'\\bхот\\w+', ' ',  string_tokens)\n",
        "    string_tokens = re.sub(r'\\bпрост\\w+', ' ',  string_tokens)\n",
        "    string_tokens = re.sub(r'\\bника\\w+', ' ',  string_tokens)\n",
        "    string_tokens = re.sub(r'\\w+ть\\b', ' ',  string_tokens)\n",
        "    string_tokens = re.sub(r'мочь', ' ',  string_tokens)\n",
        "    clear_tokens = string_tokens.split()\n",
        "    clear_tokens = [w for w in clear_tokens if len(w)>2]\n",
        "    return clear_tokens\n",
        "\n",
        "def preprocess(text):\n",
        "    return (clear_tokens(lemmatize(find_words(text))))"
      ],
      "metadata": {
        "id": "04JC0r5YAqY_"
      },
      "execution_count": null,
      "outputs": []
    },
    {
      "cell_type": "code",
      "source": [
        "df['text'] = df['text'].apply(preprocess)\n",
        "df.head()"
      ],
      "metadata": {
        "colab": {
          "base_uri": "https://localhost:8080/",
          "height": 206
        },
        "id": "0U0M6-64AvIT",
        "outputId": "dfd7059b-ed6c-4167-e26d-7e212e9773ef"
      },
      "execution_count": 28,
      "outputs": [
        {
          "output_type": "execute_result",
          "data": {
            "text/plain": [
              "                                                text     label\n",
              "0  [школотый, поверь, самый, общество, предмет, тип]  positive\n",
              "1                  [таки, похожий, мальчик, хороший]  positive\n",
              "2                                       [испугаться]  positive\n",
              "3                              [угол, голод, порция]  positive\n",
              "4            [страшилка, создаться, ощущение, автор]  positive"
            ],
            "text/html": [
              "\n",
              "  <div id=\"df-f3af3a30-1e87-4848-8e23-02165727ba23\" class=\"colab-df-container\">\n",
              "    <div>\n",
              "<style scoped>\n",
              "    .dataframe tbody tr th:only-of-type {\n",
              "        vertical-align: middle;\n",
              "    }\n",
              "\n",
              "    .dataframe tbody tr th {\n",
              "        vertical-align: top;\n",
              "    }\n",
              "\n",
              "    .dataframe thead th {\n",
              "        text-align: right;\n",
              "    }\n",
              "</style>\n",
              "<table border=\"1\" class=\"dataframe\">\n",
              "  <thead>\n",
              "    <tr style=\"text-align: right;\">\n",
              "      <th></th>\n",
              "      <th>text</th>\n",
              "      <th>label</th>\n",
              "    </tr>\n",
              "  </thead>\n",
              "  <tbody>\n",
              "    <tr>\n",
              "      <th>0</th>\n",
              "      <td>[школотый, поверь, самый, общество, предмет, тип]</td>\n",
              "      <td>positive</td>\n",
              "    </tr>\n",
              "    <tr>\n",
              "      <th>1</th>\n",
              "      <td>[таки, похожий, мальчик, хороший]</td>\n",
              "      <td>positive</td>\n",
              "    </tr>\n",
              "    <tr>\n",
              "      <th>2</th>\n",
              "      <td>[испугаться]</td>\n",
              "      <td>positive</td>\n",
              "    </tr>\n",
              "    <tr>\n",
              "      <th>3</th>\n",
              "      <td>[угол, голод, порция]</td>\n",
              "      <td>positive</td>\n",
              "    </tr>\n",
              "    <tr>\n",
              "      <th>4</th>\n",
              "      <td>[страшилка, создаться, ощущение, автор]</td>\n",
              "      <td>positive</td>\n",
              "    </tr>\n",
              "  </tbody>\n",
              "</table>\n",
              "</div>\n",
              "    <div class=\"colab-df-buttons\">\n",
              "\n",
              "  <div class=\"colab-df-container\">\n",
              "    <button class=\"colab-df-convert\" onclick=\"convertToInteractive('df-f3af3a30-1e87-4848-8e23-02165727ba23')\"\n",
              "            title=\"Convert this dataframe to an interactive table.\"\n",
              "            style=\"display:none;\">\n",
              "\n",
              "  <svg xmlns=\"http://www.w3.org/2000/svg\" height=\"24px\" viewBox=\"0 -960 960 960\">\n",
              "    <path d=\"M120-120v-720h720v720H120Zm60-500h600v-160H180v160Zm220 220h160v-160H400v160Zm0 220h160v-160H400v160ZM180-400h160v-160H180v160Zm440 0h160v-160H620v160ZM180-180h160v-160H180v160Zm440 0h160v-160H620v160Z\"/>\n",
              "  </svg>\n",
              "    </button>\n",
              "\n",
              "  <style>\n",
              "    .colab-df-container {\n",
              "      display:flex;\n",
              "      gap: 12px;\n",
              "    }\n",
              "\n",
              "    .colab-df-convert {\n",
              "      background-color: #E8F0FE;\n",
              "      border: none;\n",
              "      border-radius: 50%;\n",
              "      cursor: pointer;\n",
              "      display: none;\n",
              "      fill: #1967D2;\n",
              "      height: 32px;\n",
              "      padding: 0 0 0 0;\n",
              "      width: 32px;\n",
              "    }\n",
              "\n",
              "    .colab-df-convert:hover {\n",
              "      background-color: #E2EBFA;\n",
              "      box-shadow: 0px 1px 2px rgba(60, 64, 67, 0.3), 0px 1px 3px 1px rgba(60, 64, 67, 0.15);\n",
              "      fill: #174EA6;\n",
              "    }\n",
              "\n",
              "    .colab-df-buttons div {\n",
              "      margin-bottom: 4px;\n",
              "    }\n",
              "\n",
              "    [theme=dark] .colab-df-convert {\n",
              "      background-color: #3B4455;\n",
              "      fill: #D2E3FC;\n",
              "    }\n",
              "\n",
              "    [theme=dark] .colab-df-convert:hover {\n",
              "      background-color: #434B5C;\n",
              "      box-shadow: 0px 1px 3px 1px rgba(0, 0, 0, 0.15);\n",
              "      filter: drop-shadow(0px 1px 2px rgba(0, 0, 0, 0.3));\n",
              "      fill: #FFFFFF;\n",
              "    }\n",
              "  </style>\n",
              "\n",
              "    <script>\n",
              "      const buttonEl =\n",
              "        document.querySelector('#df-f3af3a30-1e87-4848-8e23-02165727ba23 button.colab-df-convert');\n",
              "      buttonEl.style.display =\n",
              "        google.colab.kernel.accessAllowed ? 'block' : 'none';\n",
              "\n",
              "      async function convertToInteractive(key) {\n",
              "        const element = document.querySelector('#df-f3af3a30-1e87-4848-8e23-02165727ba23');\n",
              "        const dataTable =\n",
              "          await google.colab.kernel.invokeFunction('convertToInteractive',\n",
              "                                                    [key], {});\n",
              "        if (!dataTable) return;\n",
              "\n",
              "        const docLinkHtml = 'Like what you see? Visit the ' +\n",
              "          '<a target=\"_blank\" href=https://colab.research.google.com/notebooks/data_table.ipynb>data table notebook</a>'\n",
              "          + ' to learn more about interactive tables.';\n",
              "        element.innerHTML = '';\n",
              "        dataTable['output_type'] = 'display_data';\n",
              "        await google.colab.output.renderOutput(dataTable, element);\n",
              "        const docLink = document.createElement('div');\n",
              "        docLink.innerHTML = docLinkHtml;\n",
              "        element.appendChild(docLink);\n",
              "      }\n",
              "    </script>\n",
              "  </div>\n",
              "\n",
              "\n",
              "<div id=\"df-556932ae-9d3d-4777-87eb-f5f40842a560\">\n",
              "  <button class=\"colab-df-quickchart\" onclick=\"quickchart('df-556932ae-9d3d-4777-87eb-f5f40842a560')\"\n",
              "            title=\"Suggest charts\"\n",
              "            style=\"display:none;\">\n",
              "\n",
              "<svg xmlns=\"http://www.w3.org/2000/svg\" height=\"24px\"viewBox=\"0 0 24 24\"\n",
              "     width=\"24px\">\n",
              "    <g>\n",
              "        <path d=\"M19 3H5c-1.1 0-2 .9-2 2v14c0 1.1.9 2 2 2h14c1.1 0 2-.9 2-2V5c0-1.1-.9-2-2-2zM9 17H7v-7h2v7zm4 0h-2V7h2v10zm4 0h-2v-4h2v4z\"/>\n",
              "    </g>\n",
              "</svg>\n",
              "  </button>\n",
              "\n",
              "<style>\n",
              "  .colab-df-quickchart {\n",
              "      --bg-color: #E8F0FE;\n",
              "      --fill-color: #1967D2;\n",
              "      --hover-bg-color: #E2EBFA;\n",
              "      --hover-fill-color: #174EA6;\n",
              "      --disabled-fill-color: #AAA;\n",
              "      --disabled-bg-color: #DDD;\n",
              "  }\n",
              "\n",
              "  [theme=dark] .colab-df-quickchart {\n",
              "      --bg-color: #3B4455;\n",
              "      --fill-color: #D2E3FC;\n",
              "      --hover-bg-color: #434B5C;\n",
              "      --hover-fill-color: #FFFFFF;\n",
              "      --disabled-bg-color: #3B4455;\n",
              "      --disabled-fill-color: #666;\n",
              "  }\n",
              "\n",
              "  .colab-df-quickchart {\n",
              "    background-color: var(--bg-color);\n",
              "    border: none;\n",
              "    border-radius: 50%;\n",
              "    cursor: pointer;\n",
              "    display: none;\n",
              "    fill: var(--fill-color);\n",
              "    height: 32px;\n",
              "    padding: 0;\n",
              "    width: 32px;\n",
              "  }\n",
              "\n",
              "  .colab-df-quickchart:hover {\n",
              "    background-color: var(--hover-bg-color);\n",
              "    box-shadow: 0 1px 2px rgba(60, 64, 67, 0.3), 0 1px 3px 1px rgba(60, 64, 67, 0.15);\n",
              "    fill: var(--button-hover-fill-color);\n",
              "  }\n",
              "\n",
              "  .colab-df-quickchart-complete:disabled,\n",
              "  .colab-df-quickchart-complete:disabled:hover {\n",
              "    background-color: var(--disabled-bg-color);\n",
              "    fill: var(--disabled-fill-color);\n",
              "    box-shadow: none;\n",
              "  }\n",
              "\n",
              "  .colab-df-spinner {\n",
              "    border: 2px solid var(--fill-color);\n",
              "    border-color: transparent;\n",
              "    border-bottom-color: var(--fill-color);\n",
              "    animation:\n",
              "      spin 1s steps(1) infinite;\n",
              "  }\n",
              "\n",
              "  @keyframes spin {\n",
              "    0% {\n",
              "      border-color: transparent;\n",
              "      border-bottom-color: var(--fill-color);\n",
              "      border-left-color: var(--fill-color);\n",
              "    }\n",
              "    20% {\n",
              "      border-color: transparent;\n",
              "      border-left-color: var(--fill-color);\n",
              "      border-top-color: var(--fill-color);\n",
              "    }\n",
              "    30% {\n",
              "      border-color: transparent;\n",
              "      border-left-color: var(--fill-color);\n",
              "      border-top-color: var(--fill-color);\n",
              "      border-right-color: var(--fill-color);\n",
              "    }\n",
              "    40% {\n",
              "      border-color: transparent;\n",
              "      border-right-color: var(--fill-color);\n",
              "      border-top-color: var(--fill-color);\n",
              "    }\n",
              "    60% {\n",
              "      border-color: transparent;\n",
              "      border-right-color: var(--fill-color);\n",
              "    }\n",
              "    80% {\n",
              "      border-color: transparent;\n",
              "      border-right-color: var(--fill-color);\n",
              "      border-bottom-color: var(--fill-color);\n",
              "    }\n",
              "    90% {\n",
              "      border-color: transparent;\n",
              "      border-bottom-color: var(--fill-color);\n",
              "    }\n",
              "  }\n",
              "</style>\n",
              "\n",
              "  <script>\n",
              "    async function quickchart(key) {\n",
              "      const quickchartButtonEl =\n",
              "        document.querySelector('#' + key + ' button');\n",
              "      quickchartButtonEl.disabled = true;  // To prevent multiple clicks.\n",
              "      quickchartButtonEl.classList.add('colab-df-spinner');\n",
              "      try {\n",
              "        const charts = await google.colab.kernel.invokeFunction(\n",
              "            'suggestCharts', [key], {});\n",
              "      } catch (error) {\n",
              "        console.error('Error during call to suggestCharts:', error);\n",
              "      }\n",
              "      quickchartButtonEl.classList.remove('colab-df-spinner');\n",
              "      quickchartButtonEl.classList.add('colab-df-quickchart-complete');\n",
              "    }\n",
              "    (() => {\n",
              "      let quickchartButtonEl =\n",
              "        document.querySelector('#df-556932ae-9d3d-4777-87eb-f5f40842a560 button');\n",
              "      quickchartButtonEl.style.display =\n",
              "        google.colab.kernel.accessAllowed ? 'block' : 'none';\n",
              "    })();\n",
              "  </script>\n",
              "</div>\n",
              "    </div>\n",
              "  </div>\n"
            ]
          },
          "metadata": {},
          "execution_count": 28
        }
      ]
    },
    {
      "cell_type": "code",
      "source": [
        "# Словарь уникальных токенов\n",
        "dictionary = corpora.Dictionary(df['text'])"
      ],
      "metadata": {
        "id": "GZwTbn1SBimo"
      },
      "execution_count": null,
      "outputs": []
    },
    {
      "cell_type": "code",
      "source": [
        "# Удаление редких слов\n",
        "dictionary.filter_extremes(no_below = 10, no_above = 0.9, keep_n=None)\n",
        "dictionary.save('tweet.dict')\n",
        "len(dictionary.keys())"
      ],
      "metadata": {
        "colab": {
          "base_uri": "https://localhost:8080/"
        },
        "id": "juWgaVadBqvM",
        "outputId": "805149cc-5e45-4f80-80d2-b1499e0bd30b"
      },
      "execution_count": 31,
      "outputs": [
        {
          "output_type": "stream",
          "name": "stderr",
          "text": [
            "/usr/local/lib/python3.10/dist-packages/ipykernel/ipkernel.py:283: DeprecationWarning: `should_run_async` will not call `transform_cell` automatically in the future. Please pass the result to `transformed_cell` argument and any exception that happen during thetransform in `preprocessing_exc_tuple` in IPython 7.17 and above.\n",
            "  and should_run_async(code)\n"
          ]
        },
        {
          "output_type": "execute_result",
          "data": {
            "text/plain": [
              "8100"
            ]
          },
          "metadata": {},
          "execution_count": 31
        }
      ]
    },
    {
      "cell_type": "code",
      "source": [
        "# Векторизация твитов\n",
        "corpus = [dictionary.doc2bow(text) for text in df['text']]\n",
        "corpora.MmCorpus.serialize('tweet.model', corpus)"
      ],
      "metadata": {
        "id": "r3APnrR3Bx6h"
      },
      "execution_count": null,
      "outputs": []
    },
    {
      "cell_type": "code",
      "source": [
        "# Обработка словаря\n",
        "mm = corpora.MmCorpus('tweet.model')\n",
        "print(df['text'].values[0])\n",
        "print(mm[0])"
      ],
      "metadata": {
        "colab": {
          "base_uri": "https://localhost:8080/"
        },
        "id": "NDR8HlKrB4Ox",
        "outputId": "4a36bd08-6d94-46d3-de17-5f0fbc8c21bd"
      },
      "execution_count": 38,
      "outputs": [
        {
          "output_type": "stream",
          "name": "stdout",
          "text": [
            "['школотый', 'поверь', 'самый', 'общество', 'предмет', 'тип']\n",
            "[(0, 1.0), (1, 1.0), (2, 1.0), (3, 1.0), (4, 1.0), (5, 1.0)]\n"
          ]
        },
        {
          "output_type": "stream",
          "name": "stderr",
          "text": [
            "/usr/local/lib/python3.10/dist-packages/ipykernel/ipkernel.py:283: DeprecationWarning: `should_run_async` will not call `transform_cell` automatically in the future. Please pass the result to `transformed_cell` argument and any exception that happen during thetransform in `preprocessing_exc_tuple` in IPython 7.17 and above.\n",
            "  and should_run_async(code)\n"
          ]
        }
      ]
    },
    {
      "cell_type": "code",
      "source": [
        "# Обучение модели\n",
        "lda = ldamodel.LdaModel(corpus, id2word=dictionary, num_topics=3)"
      ],
      "metadata": {
        "id": "urSi6WNxB5-8"
      },
      "execution_count": 39,
      "outputs": []
    },
    {
      "cell_type": "code",
      "source": [
        "# Определение тематики\n",
        "lda.show_topics(num_topics=3, num_words=20, formatted=True)"
      ],
      "metadata": {
        "colab": {
          "base_uri": "https://localhost:8080/"
        },
        "id": "_qEurIQLCFeE",
        "outputId": "1bb71142-2ef2-4c18-ca84-a38664997635"
      },
      "execution_count": 40,
      "outputs": [
        {
          "output_type": "stream",
          "name": "stderr",
          "text": [
            "/usr/local/lib/python3.10/dist-packages/ipykernel/ipkernel.py:283: DeprecationWarning: `should_run_async` will not call `transform_cell` automatically in the future. Please pass the result to `transformed_cell` argument and any exception that happen during thetransform in `preprocessing_exc_tuple` in IPython 7.17 and above.\n",
            "  and should_run_async(code)\n"
          ]
        },
        {
          "output_type": "execute_result",
          "data": {
            "text/plain": [
              "[(0,\n",
              "  '0.020*\"дом\" + 0.018*\"новый\" + 0.015*\"никто\" + 0.014*\"жаль\" + 0.014*\"мама\" + 0.013*\"школа\" + 0.012*\"настроение\" + 0.011*\"урок\" + 0.011*\"работа\" + 0.010*\"идти\" + 0.010*\"прийти\" + 0.009*\"экзамен\" + 0.009*\"скоро\" + 0.008*\"бояться\" + 0.007*\"неделя\" + 0.007*\"улица\" + 0.006*\"чувство\" + 0.006*\"парень\" + 0.006*\"хороший\" + 0.006*\"твит\"'),\n",
              " (1,\n",
              "  '0.033*\"завтра\" + 0.019*\"больш\" + 0.014*\"хороший\" + 0.014*\"утро\" + 0.012*\"друг\" + 0.009*\"школа\" + 0.008*\"вчера\" + 0.007*\"прийтись\" + 0.007*\"нравиться\" + 0.007*\"фильм\" + 0.007*\"закончиться\" + 0.007*\"вроде\" + 0.007*\"боль\" + 0.006*\"голова\" + 0.006*\"снег\" + 0.006*\"вечер\" + 0.006*\"ужасный\" + 0.006*\"фотка\" + 0.006*\"дом\" + 0.006*\"учёба\"'),\n",
              " (2,\n",
              "  '0.014*\"час\" + 0.012*\"любимый\" + 0.012*\"ночь\" + 0.010*\"остаться\" + 0.010*\"последний\" + 0.009*\"каникулы\" + 0.009*\"дело\" + 0.009*\"казаться\" + 0.009*\"жалко\" + 0.008*\"самый\" + 0.008*\"телефон\" + 0.008*\"правда\" + 0.007*\"слово\" + 0.006*\"месяц\" + 0.006*\"конец\" + 0.006*\"пара\" + 0.006*\"момент\" + 0.006*\"выйти\" + 0.006*\"ужас\" + 0.005*\"прям\"')]"
            ]
          },
          "metadata": {},
          "execution_count": 40
        }
      ]
    },
    {
      "cell_type": "code",
      "source": [
        "# Оценка качества модели\n",
        "print(lda.log_perplexity(corpus))"
      ],
      "metadata": {
        "colab": {
          "base_uri": "https://localhost:8080/"
        },
        "id": "PTdgSXxHCJbK",
        "outputId": "02e89959-b5e6-4f95-c1f9-8e898960dd1c"
      },
      "execution_count": 41,
      "outputs": [
        {
          "output_type": "stream",
          "name": "stdout",
          "text": [
            "-8.13572294610012\n"
          ]
        }
      ]
    },
    {
      "cell_type": "code",
      "source": [
        "print('Персплексия: ', np.exp(lda.log_perplexity(corpus)))"
      ],
      "metadata": {
        "colab": {
          "base_uri": "https://localhost:8080/"
        },
        "id": "oNNGhu85CR-z",
        "outputId": "ce0dd6c5-44b0-486b-ac20-1ebc43f32972"
      },
      "execution_count": 42,
      "outputs": [
        {
          "output_type": "stream",
          "name": "stdout",
          "text": [
            "Персплексия:  0.00029288719523534317\n"
          ]
        }
      ]
    },
    {
      "cell_type": "code",
      "source": [
        "coherence_model_lda = CoherenceModel(model=lda, texts=df['text'], dictionary=dictionary, coherence='c_v')\n",
        "coherence_lda = coherence_model_lda.get_coherence()\n",
        "print('Средняя когерентность: ', coherence_lda)"
      ],
      "metadata": {
        "colab": {
          "base_uri": "https://localhost:8080/"
        },
        "id": "xkxxkflKC0pa",
        "outputId": "8cbb1e41-d6e2-40c1-d28f-deb0c6752f1a"
      },
      "execution_count": 43,
      "outputs": [
        {
          "output_type": "stream",
          "name": "stdout",
          "text": [
            "Средняя когерентность:  0.2508417445135038\n"
          ]
        }
      ]
    },
    {
      "cell_type": "code",
      "source": [
        "visual_data = gensimvis.prepare(lda, corpus, dictionary)\n",
        "pyLDAvis.display(visual_data)"
      ],
      "metadata": {
        "colab": {
          "base_uri": "https://localhost:8080/",
          "height": 861
        },
        "id": "roWAOLRnDASK",
        "outputId": "57f3900e-5e28-4c74-a6bd-859b82ebb6e0"
      },
      "execution_count": 44,
      "outputs": [
        {
          "output_type": "execute_result",
          "data": {
            "text/plain": [
              "<IPython.core.display.HTML object>"
            ],
            "text/html": [
              "\n",
              "<link rel=\"stylesheet\" type=\"text/css\" href=\"https://cdn.jsdelivr.net/gh/bmabey/pyLDAvis@3.4.0/pyLDAvis/js/ldavis.v1.0.0.css\">\n",
              "\n",
              "\n",
              "<div id=\"ldavis_el102471376799594648008124456318\" style=\"background-color:white;\"></div>\n",
              "<script type=\"text/javascript\">\n",
              "\n",
              "var ldavis_el102471376799594648008124456318_data = {\"mdsDat\": {\"x\": [-0.1448801297681416, -0.21777730861499947, 0.3626574383831409], \"y\": [-0.3127310065989715, 0.27345491529516014, 0.03927609130381147], \"topics\": [1, 2, 3], \"cluster\": [1, 1, 1], \"Freq\": [34.745285612762636, 33.71032268012165, 31.544391707115714]}, \"tinfo\": {\"Term\": [\"\\u0437\\u0430\\u0432\\u0442\\u0440\\u0430\", \"\\u0431\\u043e\\u043b\\u044c\\u0448\", \"\\u043d\\u043e\\u0432\\u044b\\u0439\", \"\\u0436\\u0430\\u043b\\u044c\", \"\\u043d\\u0438\\u043a\\u0442\\u043e\", \"\\u0447\\u0430\\u0441\", \"\\u0443\\u0442\\u0440\\u043e\", \"\\u043c\\u0430\\u043c\\u0430\", \"\\u0434\\u0440\\u0443\\u0433\", \"\\u043d\\u0430\\u0441\\u0442\\u0440\\u043e\\u0435\\u043d\\u0438\\u0435\", \"\\u043b\\u044e\\u0431\\u0438\\u043c\\u044b\\u0439\", \"\\u043d\\u043e\\u0447\\u044c\", \"\\u0434\\u043e\\u043c\", \"\\u0443\\u0440\\u043e\\u043a\", \"\\u0440\\u0430\\u0431\\u043e\\u0442\\u0430\", \"\\u043e\\u0441\\u0442\\u0430\\u0442\\u044c\\u0441\\u044f\", \"\\u043a\\u0430\\u043d\\u0438\\u043a\\u0443\\u043b\\u044b\", \"\\u043f\\u0440\\u0438\\u0439\\u0442\\u0438\", \"\\u044d\\u043a\\u0437\\u0430\\u043c\\u0435\\u043d\", \"\\u0434\\u0435\\u043b\\u043e\", \"\\u043a\\u0430\\u0437\\u0430\\u0442\\u044c\\u0441\\u044f\", \"\\u0436\\u0430\\u043b\\u043a\\u043e\", \"\\u0448\\u043a\\u043e\\u043b\\u0430\", \"\\u0432\\u0447\\u0435\\u0440\\u0430\", \"\\u043f\\u0440\\u0430\\u0432\\u0434\\u0430\", \"\\u0431\\u043e\\u044f\\u0442\\u044c\\u0441\\u044f\", \"\\u043f\\u0440\\u0438\\u0439\\u0442\\u0438\\u0441\\u044c\", \"\\u043d\\u0440\\u0430\\u0432\\u0438\\u0442\\u044c\\u0441\\u044f\", \"\\u0441\\u043b\\u043e\\u0432\\u043e\", \"\\u0441\\u043a\\u043e\\u0440\\u043e\", \"\\u0437\\u0430\\u0432\\u0442\\u0440\\u0430\", \"\\u0443\\u0442\\u0440\\u043e\", \"\\u0434\\u0440\\u0443\\u0433\", \"\\u043f\\u0440\\u0438\\u0439\\u0442\\u0438\\u0441\\u044c\", \"\\u0432\\u0440\\u043e\\u0434\\u0435\", \"\\u0431\\u043e\\u043b\\u044c\", \"\\u0432\\u0435\\u0447\\u0435\\u0440\", \"\\u0443\\u0436\\u0430\\u0441\\u043d\\u044b\\u0439\", \"\\u0437\\u0430\\u043a\\u043e\\u043d\\u0447\\u0438\\u0442\\u044c\\u0441\\u044f\", \"\\u043f\\u0440\\u043e\\u0441\\u043d\\u0443\\u0442\\u044c\\u0441\\u044f\", \"\\u0444\\u043e\\u0442\\u043a\\u0430\", \"\\u0431\\u043e\\u043b\\u044c\\u0448\", \"\\u043d\\u043e\\u0433\\u0430\", \"\\u0431\\u043e\\u0433\", \"\\u0432\\u044b\\u0445\\u043e\\u0434\\u043d\", \"\\u0432\\u0447\\u0435\\u0440\\u0430\", \"\\u0434\\u043e\\u043b\\u0436\\u043d\\u044b\\u0439\", \"\\u043f\\u043e\\u043b\\u0443\\u0447\\u0438\\u0442\\u044c\\u0441\\u044f\", \"\\u043c\\u0435\\u0441\\u0442\\u043e\", \"\\u0434\\u043e\\u0431\\u0440\\u044b\\u0439\", \"\\u043f\\u0430\\u043f\\u0430\", \"\\u0443\\u0447\\u0438\\u0442\\u044c\\u0441\\u044f\", \"\\u0431\\u044b\\u0441\\u0442\\u0440\\u043e\", \"\\u043f\\u043e\\u043b\\u0443\\u0447\\u0430\\u0442\\u044c\\u0441\\u044f\", \"\\u0440\\u043e\\u0434\\u0438\\u0442\\u0435\\u043b\\u044c\", \"\\u0433\\u043b\\u0430\\u0437\", \"\\u0442\\u0435\\u043c\\u043f\\u0435\\u0440\\u0430\\u0442\\u0443\\u0440\\u0430\", \"\\u0441\\u043e\\u0441\\u043a\\u0443\\u0447\\u0438\\u0442\\u044c\\u0441\\u044f\", \"\\u0443\\u0442\\u0440\\u043e\\u043c\", \"\\u0447\\u0451\\u0440\\u043d\\u044b\\u0439\", \"\\u043d\\u0440\\u0430\\u0432\\u0438\\u0442\\u044c\\u0441\\u044f\", \"\\u0441\\u0442\\u043e\\u043b\\u044c\\u043a\\u043e\", \"\\u0443\\u0447\\u0451\\u0431\\u0430\", \"\\u0444\\u0438\\u043b\\u044c\\u043c\", \"\\u0440\\u0430\\u043d\\u043d\\u0438\\u0439\", \"\\u0441\\u043d\\u0435\\u0433\", \"\\u0445\\u043e\\u0440\\u043e\\u0448\\u0438\\u0439\", \"\\u0448\\u043a\\u043e\\u043b\\u0430\", \"\\u0433\\u043e\\u043b\\u043e\\u0432\\u0430\", \"\\u043d\\u0430\\u0439\\u0442\\u0438\", \"\\u0434\\u043e\\u043c\", \"\\u0436\\u0430\\u043b\\u044c\", \"\\u0443\\u0440\\u043e\\u043a\", \"\\u0431\\u043e\\u044f\\u0442\\u044c\\u0441\\u044f\", \"\\u0447\\u0443\\u0432\\u0441\\u0442\\u0432\\u043e\", \"\\u0442\\u0432\\u0438\\u0442\", \"\\u043b\\u0435\\u043d\\u0442\\u0430\", \"\\u0441\\u043b\\u0435\\u0437\\u0430\", \"\\u043b\\u044e\\u0431\\u043e\\u0432\\u044c\", \"\\u043f\\u0435\\u0447\\u0430\\u043b\\u044c\", \"\\u043d\\u0435\\u0447\\u0435\\u0433\\u043e\", \"\\u0446\\u0435\\u043b\\u044b\\u0439\", \"\\u0441\\u0440\\u0430\\u0437\\u0443\", \"\\u043f\\u044b\\u0442\\u0430\\u0442\\u044c\\u0441\\u044f\", \"\\u0432\\u044b\\u0441\\u043f\\u0430\\u0442\\u044c\\u0441\\u044f\", \"\\u0431\\u043e\\u043b\\u044c\\u043d\\u0438\\u0446\\u0430\", \"\\u0441\\u0435\\u0440\\u0434\\u0446\\u0435\", \"\\u043c\\u044b\\u0441\\u043b\\u044c\", \"\\u043f\\u043e\\u0434\\u0440\\u0443\\u0433\\u0430\", \"\\u043d\\u043e\\u0432\\u043e\\u0433\\u043e\\u0434\\u043d\\u0438\\u0439\", \"\\u043d\\u043e\\u0440\\u043c\\u0430\", \"\\u044f\\u043d\\u0432\\u0430\\u0440\\u044c\", \"\\u0434\\u043e\\u0436\\u0434\\u044c\", \"\\u043f\\u0440\\u0430\\u0437\\u0434\\u043d\\u0438\\u043a\", \"\\u044d\\u043a\\u0437\\u0430\\u043c\\u0435\\u043d\", \"\\u0437\\u0430\\u0439\\u0442\\u0438\", \"\\u043a\\u0430\\u0442\\u043e\\u043a\", \"\\u0430\\u0445\\u0438\", \"\\u0431\\u0440\\u0430\\u0442\", \"\\u0448\\u0435\\u0440\\u043b\\u043e\\u043a\", \"\\u0442\\u0443\\u043f\", \"\\u043c\\u0430\\u043c\\u0430\", \"\\u043d\\u043e\\u0432\\u044b\\u0439\", \"\\u043d\\u0430\\u0441\\u0442\\u0440\\u043e\\u0435\\u043d\\u0438\\u0435\", \"\\u043d\\u0438\\u043a\\u0442\\u043e\", \"\\u0440\\u0430\\u0431\\u043e\\u0442\\u0430\", \"\\u043b\\u0435\\u0442\\u043e\", \"\\u043d\\u0430\\u0432\\u0435\\u0440\\u043d\\u043e\\u0435\", \"\\u043b\\u0435\\u043d\\u044c\", \"\\u043f\\u0440\\u0438\\u0439\\u0442\\u0438\", \"\\u0437\\u0438\\u043c\\u0430\", \"\\u043f\\u043e\\u043d\\u0435\\u0434\\u0435\\u043b\\u044c\\u043d\\u0438\\u043a\", \"\\u043f\\u0430\\u0440\\u0435\\u043d\\u044c\", \"\\u0441\\u043a\\u043e\\u0440\\u043e\", \"\\u0434\\u043e\\u043c\", \"\\u0438\\u0434\\u0442\\u0438\", \"\\u0443\\u043b\\u0438\\u0446\\u0430\", \"\\u0448\\u043a\\u043e\\u043b\\u0430\", \"\\u043d\\u0435\\u0434\\u0435\\u043b\\u044f\", \"\\u043f\\u043e\\u0433\\u043e\\u0434\\u0430\", \"\\u0442\\u0432\\u0438\\u0442\\u0442\\u0435\\u0440\", \"\\u0445\\u043e\\u0440\\u043e\\u0448\\u0438\\u0439\", \"\\u043b\\u044e\\u0431\\u0438\\u043c\\u044b\\u0439\", \"\\u043d\\u043e\\u0447\\u044c\", \"\\u0447\\u0430\\u0441\", \"\\u043a\\u0430\\u043d\\u0438\\u043a\\u0443\\u043b\\u044b\", \"\\u0434\\u0435\\u043b\\u043e\", \"\\u0436\\u0430\\u043b\\u043a\\u043e\", \"\\u0441\\u043b\\u043e\\u0432\\u043e\", \"\\u043f\\u0440\\u0430\\u0432\\u0434\\u0430\", \"\\u043c\\u0435\\u0441\\u044f\\u0446\", \"\\u043f\\u0430\\u0440\\u0430\", \"\\u043c\\u043e\\u043c\\u0435\\u043d\\u0442\", \"\\u043a\\u043e\\u043d\\u0435\\u0446\", \"\\u043a\\u0430\\u0437\\u0430\\u0442\\u044c\\u0441\\u044f\", \"\\u0441\\u0435\\u0440\\u0438\\u044f\", \"\\u043f\\u043e\\u0445\\u043e\\u0434\", \"\\u0441\\u0435\\u0440\\u0438\\u0430\\u043b\", \"\\u0443\\u0436\\u0430\\u0441\", \"\\u0432\\u044b\\u0439\\u0442\\u0438\", \"\\u0447\\u0435\\u0440\\u0442\\u0430\", \"\\u0441\\u0435\\u0441\\u0441\\u0438\\u044f\", \"\\u0441\\u043e\\u0436\\u0430\\u043b\\u0435\\u043d\\u0438\\u0435\", \"\\u043d\\u043e\\u0440\\u043c\\u0430\\u043b\\u044c\\u043d\\u044b\\u0439\", \"\\u0432\\u043c\\u0435\\u0441\\u0442\\u0435\", \"\\u0431\\u0438\\u043b\\u0435\\u0442\", \"\\u043b\\u0435\\u0447\\u044c\", \"\\u0431\\u0435\\u0434\\u043d\\u044b\\u0439\", \"\\u043b\\u0438\\u0431\\u043e\", \"\\u043c\\u0430\\u0433\\u0430\\u0437\\u0438\\u043d\", \"\\u0441\\u043d\\u0438\\u0442\\u044c\\u0441\\u044f\", \"\\u0444\\u043e\\u0442\\u043e\", \"\\u043e\\u0441\\u0442\\u0430\\u0442\\u044c\\u0441\\u044f\", \"\\u043f\\u0440\\u044f\\u043c\", \"\\u043a\\u0440\\u0430\\u0441\\u0438\\u0432\\u044b\\u0439\", \"\\u0440\\u043e\\u0434\\u043d\\u044b\\u0439\", \"\\u043c\\u0443\\u0437\\u044b\\u043a\\u0430\", \"\\u0438\\u043d\\u0442\\u0435\\u0440\\u043d\\u0435\\u0442\", \"\\u0432\\u043e\\u043f\\u0440\\u043e\\u0441\", \"\\u0442\\u0435\\u043b\\u0435\\u0444\\u043e\\u043d\", \"\\u043f\\u043e\\u0441\\u043b\\u0435\\u0434\\u043d\\u0438\\u0439\", \"\\u0441\\u0430\\u043c\\u044b\\u0439\", \"\\u043d\\u0443\\u0436\\u043d\\u044b\\u0439\", \"\\u043c\\u0438\\u043d\\u0443\\u0442\\u0430\"], \"Freq\": [7578.0, 4493.0, 4002.0, 3198.0, 3328.0, 2958.0, 3166.0, 3074.0, 2890.0, 2813.0, 2518.0, 2511.0, 5886.0, 2591.0, 2612.0, 2133.0, 2002.0, 2245.0, 2084.0, 1891.0, 1857.0, 1832.0, 5093.0, 1902.0, 1624.0, 1706.0, 1723.0, 1721.0, 1501.0, 2158.0, 7577.192573603313, 3165.596800518586, 2889.0029383125757, 1722.5098587601042, 1588.4297941243165, 1543.1034820403404, 1417.895093559183, 1412.6714660414395, 1594.4757684692138, 1285.66263230383, 1407.956194447361, 4491.087064385695, 1213.2411658101869, 1225.0593594270465, 1229.690590052468, 1900.9344595821858, 1157.7801835033606, 1128.923738059447, 1184.419223672582, 1030.0940466180937, 1092.8783827290688, 1026.8760454604603, 979.9490611819489, 960.4047228120621, 961.6447867832999, 1283.3658369763782, 928.1006507581876, 831.3552186038601, 807.2211833691234, 827.8744947784434, 1716.9850033173805, 1242.9408331223751, 1350.93964301412, 1640.5401700900172, 1347.9529978821718, 1470.0801005009112, 3218.3708513667566, 2075.5017205519994, 1471.3494760583858, 1328.601077637434, 1403.3265862344617, 3197.4969262550626, 2590.727269563716, 1705.3264330592226, 1398.6921675837086, 1288.70367910786, 1197.167565102352, 1048.6787297023166, 965.376027218533, 951.5870383969245, 959.0596419357214, 936.0310861523463, 1085.6230406581105, 971.1738038045683, 905.8391821578552, 876.0158240441975, 888.6157486927644, 935.8303377838856, 820.2231511803278, 766.4059031267502, 815.5092898571418, 814.0102882527106, 789.4584374789665, 861.906036601374, 2082.074348643587, 881.7536804428878, 830.9213706886727, 770.1756279778814, 753.7463731079346, 917.9320414031802, 749.6922634797368, 3070.5347592105873, 3983.0629651543404, 2808.751960761706, 3302.0040293267416, 2584.4451993444104, 998.4487175229996, 1166.0008824384247, 968.5117104375472, 2213.672092493281, 1046.7327402905364, 953.050098382852, 1386.0767119583866, 1966.0082111830181, 4428.01033796251, 2361.26947081539, 1504.0343754730616, 3017.2133480838143, 1534.4366822269692, 1048.8830459978694, 1073.0777892452822, 1339.4287936407563, 2517.7627084894234, 2510.299769453429, 2957.358491106858, 2001.647644397743, 1890.8836851911728, 1831.9307874557305, 1501.1954236078564, 1623.2053445657066, 1352.464744021326, 1340.8027234187891, 1268.1688836784408, 1350.6878771547954, 1856.4322054902987, 1034.6634390953604, 955.4016257219527, 958.837523575498, 1234.4645816502625, 1267.6015039185727, 914.2638436276585, 915.0154401458361, 770.7933086044261, 786.050845578969, 742.3944197565929, 755.9885559969223, 755.9402923846039, 699.7054265050408, 699.5343680866105, 753.5740988256455, 644.5742409319917, 634.2124410633444, 2127.2695296524485, 1114.3041930179775, 857.0666023004339, 811.1827837655123, 1047.3578983955874, 1006.848574325377, 975.9804837205754, 1634.9678202555306, 2038.5992086756755, 1687.5910655262203, 971.5922755674105, 962.5857847063264], \"Total\": [7578.0, 4493.0, 4002.0, 3198.0, 3328.0, 2958.0, 3166.0, 3074.0, 2890.0, 2813.0, 2518.0, 2511.0, 5886.0, 2591.0, 2612.0, 2133.0, 2002.0, 2245.0, 2084.0, 1891.0, 1857.0, 1832.0, 5093.0, 1902.0, 1624.0, 1706.0, 1723.0, 1721.0, 1501.0, 2158.0, 7578.105451835951, 3166.4290890032053, 2890.0322649787713, 1723.3262798115761, 1589.2420109426657, 1543.9146738291493, 1418.6991690490881, 1413.4736039604136, 1595.3813804003705, 1286.4482684387478, 1408.8171860558818, 4493.952751283105, 1214.0251521246578, 1225.8895452478064, 1230.528185925908, 1902.2779939066631, 1158.6004031691295, 1129.7238489407603, 1185.2982839525002, 1030.876967173114, 1093.7146945043983, 1027.6744260222702, 980.7235136358222, 961.1923665531084, 962.4521106168677, 1284.4529934362786, 928.9040963226437, 832.1451753199101, 808.0081786346367, 828.6844926262597, 1721.1988129013655, 1246.5514528592194, 1357.9120431636109, 1771.8259251565487, 1426.4186256224277, 1673.5586029547471, 4729.326203292901, 5093.852885770311, 2390.514291124727, 2063.7675608248655, 5886.073611202344, 3198.293589414705, 2591.723555275457, 1706.123263638866, 1399.4723968399383, 1289.4754433514345, 1197.968465737254, 1049.4886557148147, 966.1486840671666, 952.3543164120127, 959.8482416299563, 936.8210807210983, 1086.540739522482, 972.0392330109145, 906.6516150026309, 876.8229229825928, 889.439417389736, 936.7000053028473, 820.999341164408, 767.133094208634, 816.3002058152349, 814.8060196360168, 790.2318195320224, 862.7529289623202, 2084.148629973262, 882.6350766634863, 831.7914946078264, 770.9836299231332, 754.5486578209559, 918.913030223412, 750.4942234299107, 3074.2482872396663, 4002.5498958236817, 2813.678105435818, 3328.904026163074, 2612.696340885666, 999.8925423914895, 1169.9339525354408, 970.6351113058, 2245.65243181862, 1050.734320749167, 955.3739146965087, 1422.7715893305435, 2158.31664971488, 5886.073611202344, 3325.6527960564117, 1847.7310843110497, 5093.852885770311, 2298.2917560878386, 1137.2991241254826, 1514.6768330677214, 4729.326203292901, 2518.550524578292, 2511.10588911387, 2958.343193969711, 2002.4666908008228, 1891.6620593861542, 1832.6916904430427, 1501.957749015381, 1624.0364854683976, 1353.2548922431151, 1341.6104460103936, 1268.9431000368106, 1351.5211620356508, 1857.5804546245777, 1035.42962095447, 956.1695136030332, 959.6157791685071, 1235.5112953633432, 1268.6962349045934, 915.0576005059015, 915.8256968760762, 771.5640274253003, 786.8509997666773, 743.1709691693674, 756.7804937686208, 756.7461642108871, 700.4663029245492, 700.298638470598, 754.4633958344535, 645.3379183836943, 634.9735881407186, 2133.7172871009434, 1115.804571596073, 858.3039935360595, 812.816784998675, 1052.65092774968, 1028.068689888646, 1001.4821318668165, 1956.7308239427293, 2807.9584420780884, 3379.0373801342994, 1506.8468972563091, 1481.825714343478], \"Category\": [\"Default\", \"Default\", \"Default\", \"Default\", \"Default\", \"Default\", \"Default\", \"Default\", \"Default\", \"Default\", \"Default\", \"Default\", \"Default\", \"Default\", \"Default\", \"Default\", \"Default\", \"Default\", \"Default\", \"Default\", \"Default\", \"Default\", \"Default\", \"Default\", \"Default\", \"Default\", \"Default\", \"Default\", \"Default\", \"Default\", \"Topic1\", \"Topic1\", \"Topic1\", \"Topic1\", \"Topic1\", \"Topic1\", \"Topic1\", \"Topic1\", \"Topic1\", \"Topic1\", \"Topic1\", \"Topic1\", \"Topic1\", \"Topic1\", \"Topic1\", \"Topic1\", \"Topic1\", \"Topic1\", \"Topic1\", \"Topic1\", \"Topic1\", \"Topic1\", \"Topic1\", \"Topic1\", \"Topic1\", \"Topic1\", \"Topic1\", \"Topic1\", \"Topic1\", \"Topic1\", \"Topic1\", \"Topic1\", \"Topic1\", \"Topic1\", \"Topic1\", \"Topic1\", \"Topic1\", \"Topic1\", \"Topic1\", \"Topic1\", \"Topic1\", \"Topic2\", \"Topic2\", \"Topic2\", \"Topic2\", \"Topic2\", \"Topic2\", \"Topic2\", \"Topic2\", \"Topic2\", \"Topic2\", \"Topic2\", \"Topic2\", \"Topic2\", \"Topic2\", \"Topic2\", \"Topic2\", \"Topic2\", \"Topic2\", \"Topic2\", \"Topic2\", \"Topic2\", \"Topic2\", \"Topic2\", \"Topic2\", \"Topic2\", \"Topic2\", \"Topic2\", \"Topic2\", \"Topic2\", \"Topic2\", \"Topic2\", \"Topic2\", \"Topic2\", \"Topic2\", \"Topic2\", \"Topic2\", \"Topic2\", \"Topic2\", \"Topic2\", \"Topic2\", \"Topic2\", \"Topic2\", \"Topic2\", \"Topic2\", \"Topic2\", \"Topic2\", \"Topic2\", \"Topic2\", \"Topic2\", \"Topic2\", \"Topic2\", \"Topic3\", \"Topic3\", \"Topic3\", \"Topic3\", \"Topic3\", \"Topic3\", \"Topic3\", \"Topic3\", \"Topic3\", \"Topic3\", \"Topic3\", \"Topic3\", \"Topic3\", \"Topic3\", \"Topic3\", \"Topic3\", \"Topic3\", \"Topic3\", \"Topic3\", \"Topic3\", \"Topic3\", \"Topic3\", \"Topic3\", \"Topic3\", \"Topic3\", \"Topic3\", \"Topic3\", \"Topic3\", \"Topic3\", \"Topic3\", \"Topic3\", \"Topic3\", \"Topic3\", \"Topic3\", \"Topic3\", \"Topic3\", \"Topic3\", \"Topic3\", \"Topic3\", \"Topic3\", \"Topic3\", \"Topic3\"], \"logprob\": [30.0, 29.0, 28.0, 27.0, 26.0, 25.0, 24.0, 23.0, 22.0, 21.0, 20.0, 19.0, 18.0, 17.0, 16.0, 15.0, 14.0, 13.0, 12.0, 11.0, 10.0, 9.0, 8.0, 7.0, 6.0, 5.0, 4.0, 3.0, 2.0, 1.0, -3.4228, -4.2956, -4.387, -4.9041, -4.9852, -5.0141, -5.0987, -5.1024, -4.9814, -5.1966, -5.1058, -3.9458, -5.2546, -5.2449, -5.2412, -4.8056, -5.3014, -5.3267, -5.2787, -5.4183, -5.3591, -5.4214, -5.4682, -5.4883, -5.487, -5.1984, -5.5225, -5.6326, -5.6621, -5.6368, -4.9073, -5.2304, -5.1471, -4.9529, -5.1493, -5.0626, -4.279, -4.7177, -5.0617, -5.1638, -5.1091, -4.2553, -4.4657, -4.8839, -5.0821, -5.164, -5.2377, -5.3701, -5.4529, -5.4673, -5.4595, -5.4838, -5.3355, -5.4469, -5.5166, -5.55, -5.5358, -5.484, -5.6159, -5.6837, -5.6216, -5.6235, -5.6541, -5.5663, -4.6843, -5.5435, -5.6029, -5.6788, -5.7004, -5.5033, -5.7058, -4.2958, -4.0356, -4.3849, -4.2231, -4.4682, -5.4192, -5.2641, -5.4497, -4.623, -5.372, -5.4658, -5.0912, -4.7417, -3.9297, -4.5585, -5.0095, -4.3133, -4.9895, -5.37, -5.3471, -5.1254, -4.4279, -4.4309, -4.267, -4.6573, -4.7142, -4.7459, -4.945, -4.8669, -5.0493, -5.058, -5.1137, -5.0507, -4.7326, -5.3172, -5.3969, -5.3933, -5.1406, -5.1141, -5.4409, -5.4401, -5.6116, -5.592, -5.6491, -5.631, -5.6311, -5.7084, -5.7086, -5.6342, -5.7904, -5.8066, -4.5964, -5.243, -5.5055, -5.5605, -5.305, -5.3444, -5.3756, -4.8596, -4.639, -4.828, -5.3801, -5.3894], \"loglift\": [30.0, 29.0, 28.0, 27.0, 26.0, 25.0, 24.0, 23.0, 22.0, 21.0, 20.0, 19.0, 18.0, 17.0, 16.0, 15.0, 14.0, 13.0, 12.0, 11.0, 10.0, 9.0, 8.0, 7.0, 6.0, 5.0, 4.0, 3.0, 2.0, 1.0, 1.057, 1.0569, 1.0568, 1.0567, 1.0566, 1.0566, 1.0566, 1.0566, 1.0566, 1.0565, 1.0565, 1.0565, 1.0565, 1.0564, 1.0564, 1.0564, 1.0564, 1.0564, 1.0564, 1.0564, 1.0564, 1.0563, 1.0563, 1.0563, 1.0563, 1.0563, 1.0563, 1.0562, 1.0562, 1.0561, 1.0547, 1.0542, 1.052, 0.9801, 1.0005, 0.9275, 0.6722, 0.1593, 0.5718, 0.6167, -0.3766, 1.0871, 1.087, 1.0869, 1.0868, 1.0868, 1.0867, 1.0866, 1.0866, 1.0866, 1.0865, 1.0865, 1.0865, 1.0865, 1.0865, 1.0864, 1.0864, 1.0864, 1.0864, 1.0864, 1.0864, 1.0864, 1.0864, 1.0864, 1.0864, 1.0864, 1.0863, 1.0863, 1.0863, 1.0863, 1.0863, 1.0862, 1.0825, 1.0856, 1.0793, 1.0765, 1.0859, 1.084, 1.0852, 1.073, 1.0836, 1.0849, 1.0612, 0.994, 0.8027, 0.7449, 0.8816, 0.5637, 0.6834, 1.0064, 0.7427, -0.1742, 1.1535, 1.1535, 1.1534, 1.1534, 1.1534, 1.1534, 1.1533, 1.1533, 1.1532, 1.1532, 1.1532, 1.1532, 1.1532, 1.153, 1.153, 1.153, 1.1529, 1.1529, 1.1529, 1.1529, 1.1528, 1.1528, 1.1527, 1.1527, 1.1527, 1.1527, 1.1527, 1.1526, 1.1526, 1.1526, 1.1507, 1.1524, 1.1523, 1.1518, 1.1487, 1.1329, 1.128, 0.9741, 0.8336, 0.4595, 0.7149, 0.7224]}, \"token.table\": {\"Topic\": [2, 3, 3, 1, 1, 2, 1, 2, 3, 2, 2, 1, 1, 3, 1, 3, 1, 1, 2, 3, 2, 3, 2, 1, 1, 3, 1, 2, 3, 3, 1, 2, 1, 1, 2, 3, 1, 3, 3, 2, 1, 2, 3, 1, 1, 2, 1, 2, 3, 1, 2, 3, 1, 3, 3, 2, 3, 2, 3, 2, 2, 3, 2, 3, 3, 3, 3, 2, 3, 1, 2, 3, 1, 3, 1, 2, 3, 3, 2, 3, 2, 1, 2, 3, 1, 2, 3, 1, 2, 1, 2, 3, 2, 1, 2, 3, 2, 1, 2, 3, 1, 2, 3, 3, 1, 2, 3, 1, 2, 3, 1, 2, 3, 1, 3, 1, 2, 2, 1, 2, 3, 2, 1, 1, 1, 2, 1, 2, 3, 3, 3, 2, 1, 2, 3, 1, 1, 2, 3, 2, 1, 2, 1, 3, 1, 2, 3, 1, 2, 3, 2, 3, 3, 3, 1, 2, 3, 2, 3, 1, 2, 3, 3, 3, 1, 2, 1, 3, 2, 1, 2, 3, 1, 3, 1, 2, 2, 3, 1, 1, 2, 3, 1, 2, 1, 1, 1, 1, 2, 3, 1, 2, 3, 1, 3, 1, 2, 3, 2, 1, 3, 3, 2, 1, 2, 1, 2, 3, 2, 3, 2], \"Freq\": [0.9987241883161239, 0.9993342964213949, 0.9989686655839475, 0.999274367538858, 0.9994075619302971, 0.9990614718650448, 0.9993429500828059, 0.000222521253636786, 0.000445042507273572, 0.9993416280858451, 0.9992728662157583, 0.9992622654338735, 0.9995071759648969, 0.9984243609910165, 0.024963001539926286, 0.9745555801187221, 0.9992184884780834, 0.999328177106208, 0.000525685521886485, 0.000525685521886485, 0.0007882107414586917, 0.999451220169621, 0.9992812950510996, 0.9995707648699566, 0.9988687842655951, 0.0007785415309942285, 0.6153487579896042, 0.3806712235013867, 0.004183200258256996, 0.9996500118068822, 0.9991492998669678, 0.9984411921899679, 0.9994817858102869, 0.23835923446995597, 0.752284169802541, 0.009344089733319728, 0.9996428188739344, 0.0003460168981910468, 0.9996225822124639, 0.9995955376270064, 0.9998541255670066, 0.9992804765182378, 0.001132971061812061, 0.9991341378197457, 0.0038068614691752194, 0.9964459895566137, 0.28866513098973423, 0.7099358065278777, 0.0012027713791238927, 0.019453953025421165, 0.0019453953025421165, 0.9795065348299556, 0.0005383346909741807, 0.9991491864480793, 0.9997669420405509, 0.9990484458990536, 0.9996143885495171, 0.0011650883690755979, 0.9984807322977873, 0.9991915766024292, 0.998315421226005, 0.0020605065453581112, 0.9981072542185753, 0.001000107469156889, 0.9990139834911946, 0.9995735555458879, 0.999781412136497, 0.9988110690558196, 0.999385794145863, 0.0009758483114236902, 0.9989433881273841, 0.0003252827704745634, 0.998904677438517, 0.9990726859734199, 0.3502436183798731, 0.0006748431953369424, 0.6498739971094756, 0.9992567830371722, 0.004749912690134443, 0.9946317173141525, 0.9992526899766366, 0.0008547491059925513, 0.9966374575873149, 0.002564247317977654, 0.6439678698451937, 0.34257733933826334, 0.013567419379733202, 0.0017770334105882155, 0.9983373700684595, 0.3319857011099329, 0.6674522483651862, 0.00043510576816504967, 0.9991162752681446, 0.004806386688907265, 0.9919180529232368, 0.0033043908486237446, 0.9985229496456506, 0.004746973927751625, 0.9951156396965644, 0.0002498407330395592, 0.9991555758767735, 0.9996322360167298, 0.9989184740606167, 0.9995596007644821, 0.997560529980678, 0.0011619808153531485, 0.0017429712230297228, 0.007963649141694349, 0.3470823750921787, 0.6450555804772423, 0.000468665650339595, 0.00281199390203757, 0.9968518382723186, 0.999346543931439, 0.9995449901182502, 0.025302726221106984, 0.9741549595126189, 0.9996279573621847, 0.07385919695013494, 0.9223606857225186, 0.0043963807708413665, 0.998782774706018, 0.9987594922779253, 0.9993592691333913, 0.0020934211927225743, 0.9975151983323066, 0.23290942992589078, 0.040955022081769786, 0.7261503480411182, 0.9987768762898261, 0.9993617843701962, 0.9991272948059118, 0.013804451463976084, 0.9859050174594532, 0.0004453048859347124, 0.9998106685800603, 0.9996515456938724, 0.0008962142882866814, 0.9983827171513632, 0.9989308733890345, 0.010716897927184454, 0.9890165801373082, 0.9450241154918955, 0.054682404308878226, 0.9995302513113323, 0.0012302895541233567, 0.9977648283940421, 0.2444483168064778, 0.25599006542082725, 0.4995505554108166, 0.9995059614166577, 0.9993583065411444, 0.9995850795208331, 0.9990984126358403, 0.088958216592252, 0.9108950719810804, 0.00046332404475131256, 0.9995343868538704, 0.9993623329178142, 0.8783678070219024, 0.11711570760292032, 0.004780232963384503, 0.9994763698613269, 0.9992689816978865, 0.9986238274836241, 0.9995023292704887, 0.9971509777225213, 0.0024066395278902366, 0.9996312893325066, 0.019806205089464582, 0.7084019353665165, 0.2720052165619803, 0.164049135462178, 0.8355773722138974, 0.9990267064961573, 0.9993414693751379, 0.0008093815117294551, 0.9987767854741476, 0.9996649361126472, 0.18455066481015892, 0.8139712606289706, 0.0016236128868928935, 0.0003858436205375757, 0.9997208208128586, 0.9998644880427938, 0.9987522667946996, 0.9993437357151325, 0.9949098005291216, 0.001472849445638966, 0.003682123614097415, 0.9261632176733221, 0.07111308069886568, 0.0028219476467803845, 0.999419948830856, 0.9984667265553999, 0.6804351955590195, 0.2831270126953161, 0.036368817164745604, 0.9991235458531033, 0.0003380270423115211, 0.9995459641151678, 0.998844225210176, 0.9996624464755397, 0.999174000922727, 0.999006401919026, 0.40755005033602565, 0.5922825153486462, 0.0001963150531483746, 0.9989690610629389, 0.0009596244582737166, 0.9990107834053842], \"Term\": [\"\\u0430\\u0445\\u0438\", \"\\u0431\\u0435\\u0434\\u043d\\u044b\\u0439\", \"\\u0431\\u0438\\u043b\\u0435\\u0442\", \"\\u0431\\u043e\\u0433\", \"\\u0431\\u043e\\u043b\\u044c\", \"\\u0431\\u043e\\u043b\\u044c\\u043d\\u0438\\u0446\\u0430\", \"\\u0431\\u043e\\u043b\\u044c\\u0448\", \"\\u0431\\u043e\\u043b\\u044c\\u0448\", \"\\u0431\\u043e\\u043b\\u044c\\u0448\", \"\\u0431\\u043e\\u044f\\u0442\\u044c\\u0441\\u044f\", \"\\u0431\\u0440\\u0430\\u0442\", \"\\u0431\\u044b\\u0441\\u0442\\u0440\\u043e\", \"\\u0432\\u0435\\u0447\\u0435\\u0440\", \"\\u0432\\u043c\\u0435\\u0441\\u0442\\u0435\", \"\\u0432\\u043e\\u043f\\u0440\\u043e\\u0441\", \"\\u0432\\u043e\\u043f\\u0440\\u043e\\u0441\", \"\\u0432\\u0440\\u043e\\u0434\\u0435\", \"\\u0432\\u0447\\u0435\\u0440\\u0430\", \"\\u0432\\u0447\\u0435\\u0440\\u0430\", \"\\u0432\\u0447\\u0435\\u0440\\u0430\", \"\\u0432\\u044b\\u0439\\u0442\\u0438\", \"\\u0432\\u044b\\u0439\\u0442\\u0438\", \"\\u0432\\u044b\\u0441\\u043f\\u0430\\u0442\\u044c\\u0441\\u044f\", \"\\u0432\\u044b\\u0445\\u043e\\u0434\\u043d\", \"\\u0433\\u043b\\u0430\\u0437\", \"\\u0433\\u043b\\u0430\\u0437\", \"\\u0433\\u043e\\u043b\\u043e\\u0432\\u0430\", \"\\u0433\\u043e\\u043b\\u043e\\u0432\\u0430\", \"\\u0433\\u043e\\u043b\\u043e\\u0432\\u0430\", \"\\u0434\\u0435\\u043b\\u043e\", \"\\u0434\\u043e\\u0431\\u0440\\u044b\\u0439\", \"\\u0434\\u043e\\u0436\\u0434\\u044c\", \"\\u0434\\u043e\\u043b\\u0436\\u043d\\u044b\\u0439\", \"\\u0434\\u043e\\u043c\", \"\\u0434\\u043e\\u043c\", \"\\u0434\\u043e\\u043c\", \"\\u0434\\u0440\\u0443\\u0433\", \"\\u0434\\u0440\\u0443\\u0433\", \"\\u0436\\u0430\\u043b\\u043a\\u043e\", \"\\u0436\\u0430\\u043b\\u044c\", \"\\u0437\\u0430\\u0432\\u0442\\u0440\\u0430\", \"\\u0437\\u0430\\u0439\\u0442\\u0438\", \"\\u0437\\u0430\\u0439\\u0442\\u0438\", \"\\u0437\\u0430\\u043a\\u043e\\u043d\\u0447\\u0438\\u0442\\u044c\\u0441\\u044f\", \"\\u0437\\u0438\\u043c\\u0430\", \"\\u0437\\u0438\\u043c\\u0430\", \"\\u0438\\u0434\\u0442\\u0438\", \"\\u0438\\u0434\\u0442\\u0438\", \"\\u0438\\u0434\\u0442\\u0438\", \"\\u0438\\u043d\\u0442\\u0435\\u0440\\u043d\\u0435\\u0442\", \"\\u0438\\u043d\\u0442\\u0435\\u0440\\u043d\\u0435\\u0442\", \"\\u0438\\u043d\\u0442\\u0435\\u0440\\u043d\\u0435\\u0442\", \"\\u043a\\u0430\\u0437\\u0430\\u0442\\u044c\\u0441\\u044f\", \"\\u043a\\u0430\\u0437\\u0430\\u0442\\u044c\\u0441\\u044f\", \"\\u043a\\u0430\\u043d\\u0438\\u043a\\u0443\\u043b\\u044b\", \"\\u043a\\u0430\\u0442\\u043e\\u043a\", \"\\u043a\\u043e\\u043d\\u0435\\u0446\", \"\\u043a\\u0440\\u0430\\u0441\\u0438\\u0432\\u044b\\u0439\", \"\\u043a\\u0440\\u0430\\u0441\\u0438\\u0432\\u044b\\u0439\", \"\\u043b\\u0435\\u043d\\u0442\\u0430\", \"\\u043b\\u0435\\u043d\\u044c\", \"\\u043b\\u0435\\u043d\\u044c\", \"\\u043b\\u0435\\u0442\\u043e\", \"\\u043b\\u0435\\u0442\\u043e\", \"\\u043b\\u0435\\u0447\\u044c\", \"\\u043b\\u0438\\u0431\\u043e\", \"\\u043b\\u044e\\u0431\\u0438\\u043c\\u044b\\u0439\", \"\\u043b\\u044e\\u0431\\u043e\\u0432\\u044c\", \"\\u043c\\u0430\\u0433\\u0430\\u0437\\u0438\\u043d\", \"\\u043c\\u0430\\u043c\\u0430\", \"\\u043c\\u0430\\u043c\\u0430\", \"\\u043c\\u0430\\u043c\\u0430\", \"\\u043c\\u0435\\u0441\\u0442\\u043e\", \"\\u043c\\u0435\\u0441\\u044f\\u0446\", \"\\u043c\\u0438\\u043d\\u0443\\u0442\\u0430\", \"\\u043c\\u0438\\u043d\\u0443\\u0442\\u0430\", \"\\u043c\\u0438\\u043d\\u0443\\u0442\\u0430\", \"\\u043c\\u043e\\u043c\\u0435\\u043d\\u0442\", \"\\u043c\\u0443\\u0437\\u044b\\u043a\\u0430\", \"\\u043c\\u0443\\u0437\\u044b\\u043a\\u0430\", \"\\u043c\\u044b\\u0441\\u043b\\u044c\", \"\\u043d\\u0430\\u0432\\u0435\\u0440\\u043d\\u043e\\u0435\", \"\\u043d\\u0430\\u0432\\u0435\\u0440\\u043d\\u043e\\u0435\", \"\\u043d\\u0430\\u0432\\u0435\\u0440\\u043d\\u043e\\u0435\", \"\\u043d\\u0430\\u0439\\u0442\\u0438\", \"\\u043d\\u0430\\u0439\\u0442\\u0438\", \"\\u043d\\u0430\\u0439\\u0442\\u0438\", \"\\u043d\\u0430\\u0441\\u0442\\u0440\\u043e\\u0435\\u043d\\u0438\\u0435\", \"\\u043d\\u0430\\u0441\\u0442\\u0440\\u043e\\u0435\\u043d\\u0438\\u0435\", \"\\u043d\\u0435\\u0434\\u0435\\u043b\\u044f\", \"\\u043d\\u0435\\u0434\\u0435\\u043b\\u044f\", \"\\u043d\\u0435\\u0434\\u0435\\u043b\\u044f\", \"\\u043d\\u0435\\u0447\\u0435\\u0433\\u043e\", \"\\u043d\\u0438\\u043a\\u0442\\u043e\", \"\\u043d\\u0438\\u043a\\u0442\\u043e\", \"\\u043d\\u0438\\u043a\\u0442\\u043e\", \"\\u043d\\u043e\\u0432\\u043e\\u0433\\u043e\\u0434\\u043d\\u0438\\u0439\", \"\\u043d\\u043e\\u0432\\u044b\\u0439\", \"\\u043d\\u043e\\u0432\\u044b\\u0439\", \"\\u043d\\u043e\\u0432\\u044b\\u0439\", \"\\u043d\\u043e\\u0433\\u0430\", \"\\u043d\\u043e\\u0440\\u043c\\u0430\", \"\\u043d\\u043e\\u0440\\u043c\\u0430\\u043b\\u044c\\u043d\\u044b\\u0439\", \"\\u043d\\u043e\\u0447\\u044c\", \"\\u043d\\u0440\\u0430\\u0432\\u0438\\u0442\\u044c\\u0441\\u044f\", \"\\u043d\\u0440\\u0430\\u0432\\u0438\\u0442\\u044c\\u0441\\u044f\", \"\\u043d\\u0440\\u0430\\u0432\\u0438\\u0442\\u044c\\u0441\\u044f\", \"\\u043d\\u0443\\u0436\\u043d\\u044b\\u0439\", \"\\u043d\\u0443\\u0436\\u043d\\u044b\\u0439\", \"\\u043d\\u0443\\u0436\\u043d\\u044b\\u0439\", \"\\u043e\\u0441\\u0442\\u0430\\u0442\\u044c\\u0441\\u044f\", \"\\u043e\\u0441\\u0442\\u0430\\u0442\\u044c\\u0441\\u044f\", \"\\u043e\\u0441\\u0442\\u0430\\u0442\\u044c\\u0441\\u044f\", \"\\u043f\\u0430\\u043f\\u0430\", \"\\u043f\\u0430\\u0440\\u0430\", \"\\u043f\\u0430\\u0440\\u0435\\u043d\\u044c\", \"\\u043f\\u0430\\u0440\\u0435\\u043d\\u044c\", \"\\u043f\\u0435\\u0447\\u0430\\u043b\\u044c\", \"\\u043f\\u043e\\u0433\\u043e\\u0434\\u0430\", \"\\u043f\\u043e\\u0433\\u043e\\u0434\\u0430\", \"\\u043f\\u043e\\u0433\\u043e\\u0434\\u0430\", \"\\u043f\\u043e\\u0434\\u0440\\u0443\\u0433\\u0430\", \"\\u043f\\u043e\\u043b\\u0443\\u0447\\u0430\\u0442\\u044c\\u0441\\u044f\", \"\\u043f\\u043e\\u043b\\u0443\\u0447\\u0438\\u0442\\u044c\\u0441\\u044f\", \"\\u043f\\u043e\\u043d\\u0435\\u0434\\u0435\\u043b\\u044c\\u043d\\u0438\\u043a\", \"\\u043f\\u043e\\u043d\\u0435\\u0434\\u0435\\u043b\\u044c\\u043d\\u0438\\u043a\", \"\\u043f\\u043e\\u0441\\u043b\\u0435\\u0434\\u043d\\u0438\\u0439\", \"\\u043f\\u043e\\u0441\\u043b\\u0435\\u0434\\u043d\\u0438\\u0439\", \"\\u043f\\u043e\\u0441\\u043b\\u0435\\u0434\\u043d\\u0438\\u0439\", \"\\u043f\\u043e\\u0445\\u043e\\u0434\", \"\\u043f\\u0440\\u0430\\u0432\\u0434\\u0430\", \"\\u043f\\u0440\\u0430\\u0437\\u0434\\u043d\\u0438\\u043a\", \"\\u043f\\u0440\\u0438\\u0439\\u0442\\u0438\", \"\\u043f\\u0440\\u0438\\u0439\\u0442\\u0438\", \"\\u043f\\u0440\\u0438\\u0439\\u0442\\u0438\", \"\\u043f\\u0440\\u0438\\u0439\\u0442\\u0438\\u0441\\u044c\", \"\\u043f\\u0440\\u043e\\u0441\\u043d\\u0443\\u0442\\u044c\\u0441\\u044f\", \"\\u043f\\u0440\\u044f\\u043c\", \"\\u043f\\u0440\\u044f\\u043c\", \"\\u043f\\u044b\\u0442\\u0430\\u0442\\u044c\\u0441\\u044f\", \"\\u0440\\u0430\\u0431\\u043e\\u0442\\u0430\", \"\\u0440\\u0430\\u0431\\u043e\\u0442\\u0430\", \"\\u0440\\u0430\\u043d\\u043d\\u0438\\u0439\", \"\\u0440\\u0430\\u043d\\u043d\\u0438\\u0439\", \"\\u0440\\u043e\\u0434\\u0438\\u0442\\u0435\\u043b\\u044c\", \"\\u0440\\u043e\\u0434\\u043d\\u044b\\u0439\", \"\\u0440\\u043e\\u0434\\u043d\\u044b\\u0439\", \"\\u0441\\u0430\\u043c\\u044b\\u0439\", \"\\u0441\\u0430\\u043c\\u044b\\u0439\", \"\\u0441\\u0430\\u043c\\u044b\\u0439\", \"\\u0441\\u0435\\u0440\\u0434\\u0446\\u0435\", \"\\u0441\\u0435\\u0440\\u0438\\u0430\\u043b\", \"\\u0441\\u0435\\u0440\\u0438\\u044f\", \"\\u0441\\u0435\\u0441\\u0441\\u0438\\u044f\", \"\\u0441\\u043a\\u043e\\u0440\\u043e\", \"\\u0441\\u043a\\u043e\\u0440\\u043e\", \"\\u0441\\u043a\\u043e\\u0440\\u043e\", \"\\u0441\\u043b\\u0435\\u0437\\u0430\", \"\\u0441\\u043b\\u043e\\u0432\\u043e\", \"\\u0441\\u043d\\u0435\\u0433\", \"\\u0441\\u043d\\u0435\\u0433\", \"\\u0441\\u043d\\u0435\\u0433\", \"\\u0441\\u043d\\u0438\\u0442\\u044c\\u0441\\u044f\", \"\\u0441\\u043e\\u0436\\u0430\\u043b\\u0435\\u043d\\u0438\\u0435\", \"\\u0441\\u043e\\u0441\\u043a\\u0443\\u0447\\u0438\\u0442\\u044c\\u0441\\u044f\", \"\\u0441\\u0440\\u0430\\u0437\\u0443\", \"\\u0441\\u0442\\u043e\\u043b\\u044c\\u043a\\u043e\", \"\\u0441\\u0442\\u043e\\u043b\\u044c\\u043a\\u043e\", \"\\u0442\\u0432\\u0438\\u0442\", \"\\u0442\\u0432\\u0438\\u0442\\u0442\\u0435\\u0440\", \"\\u0442\\u0432\\u0438\\u0442\\u0442\\u0435\\u0440\", \"\\u0442\\u0432\\u0438\\u0442\\u0442\\u0435\\u0440\", \"\\u0442\\u0435\\u043b\\u0435\\u0444\\u043e\\u043d\", \"\\u0442\\u0435\\u043b\\u0435\\u0444\\u043e\\u043d\", \"\\u0442\\u0435\\u043c\\u043f\\u0435\\u0440\\u0430\\u0442\\u0443\\u0440\\u0430\", \"\\u0442\\u0443\\u043f\", \"\\u0443\\u0436\\u0430\\u0441\", \"\\u0443\\u0436\\u0430\\u0441\", \"\\u0443\\u0436\\u0430\\u0441\\u043d\\u044b\\u0439\", \"\\u0443\\u043b\\u0438\\u0446\\u0430\", \"\\u0443\\u043b\\u0438\\u0446\\u0430\", \"\\u0443\\u043b\\u0438\\u0446\\u0430\", \"\\u0443\\u0440\\u043e\\u043a\", \"\\u0443\\u0440\\u043e\\u043a\", \"\\u0443\\u0442\\u0440\\u043e\", \"\\u0443\\u0442\\u0440\\u043e\\u043c\", \"\\u0443\\u0447\\u0438\\u0442\\u044c\\u0441\\u044f\", \"\\u0443\\u0447\\u0451\\u0431\\u0430\", \"\\u0443\\u0447\\u0451\\u0431\\u0430\", \"\\u0443\\u0447\\u0451\\u0431\\u0430\", \"\\u0444\\u0438\\u043b\\u044c\\u043c\", \"\\u0444\\u0438\\u043b\\u044c\\u043c\", \"\\u0444\\u0438\\u043b\\u044c\\u043c\", \"\\u0444\\u043e\\u0442\\u043a\\u0430\", \"\\u0444\\u043e\\u0442\\u043e\", \"\\u0445\\u043e\\u0440\\u043e\\u0448\\u0438\\u0439\", \"\\u0445\\u043e\\u0440\\u043e\\u0448\\u0438\\u0439\", \"\\u0445\\u043e\\u0440\\u043e\\u0448\\u0438\\u0439\", \"\\u0446\\u0435\\u043b\\u044b\\u0439\", \"\\u0447\\u0430\\u0441\", \"\\u0447\\u0430\\u0441\", \"\\u0447\\u0435\\u0440\\u0442\\u0430\", \"\\u0447\\u0443\\u0432\\u0441\\u0442\\u0432\\u043e\", \"\\u0447\\u0451\\u0440\\u043d\\u044b\\u0439\", \"\\u0448\\u0435\\u0440\\u043b\\u043e\\u043a\", \"\\u0448\\u043a\\u043e\\u043b\\u0430\", \"\\u0448\\u043a\\u043e\\u043b\\u0430\", \"\\u0448\\u043a\\u043e\\u043b\\u0430\", \"\\u044d\\u043a\\u0437\\u0430\\u043c\\u0435\\u043d\", \"\\u044d\\u043a\\u0437\\u0430\\u043c\\u0435\\u043d\", \"\\u044f\\u043d\\u0432\\u0430\\u0440\\u044c\"]}, \"R\": 30, \"lambda.step\": 0.01, \"plot.opts\": {\"xlab\": \"PC1\", \"ylab\": \"PC2\"}, \"topic.order\": [2, 1, 3]};\n",
              "\n",
              "function LDAvis_load_lib(url, callback){\n",
              "  var s = document.createElement('script');\n",
              "  s.src = url;\n",
              "  s.async = true;\n",
              "  s.onreadystatechange = s.onload = callback;\n",
              "  s.onerror = function(){console.warn(\"failed to load library \" + url);};\n",
              "  document.getElementsByTagName(\"head\")[0].appendChild(s);\n",
              "}\n",
              "\n",
              "if(typeof(LDAvis) !== \"undefined\"){\n",
              "   // already loaded: just create the visualization\n",
              "   !function(LDAvis){\n",
              "       new LDAvis(\"#\" + \"ldavis_el102471376799594648008124456318\", ldavis_el102471376799594648008124456318_data);\n",
              "   }(LDAvis);\n",
              "}else if(typeof define === \"function\" && define.amd){\n",
              "   // require.js is available: use it to load d3/LDAvis\n",
              "   require.config({paths: {d3: \"https://d3js.org/d3.v5\"}});\n",
              "   require([\"d3\"], function(d3){\n",
              "      window.d3 = d3;\n",
              "      LDAvis_load_lib(\"https://cdn.jsdelivr.net/gh/bmabey/pyLDAvis@3.4.0/pyLDAvis/js/ldavis.v3.0.0.js\", function(){\n",
              "        new LDAvis(\"#\" + \"ldavis_el102471376799594648008124456318\", ldavis_el102471376799594648008124456318_data);\n",
              "      });\n",
              "    });\n",
              "}else{\n",
              "    // require.js not available: dynamically load d3 & LDAvis\n",
              "    LDAvis_load_lib(\"https://d3js.org/d3.v5.js\", function(){\n",
              "         LDAvis_load_lib(\"https://cdn.jsdelivr.net/gh/bmabey/pyLDAvis@3.4.0/pyLDAvis/js/ldavis.v3.0.0.js\", function(){\n",
              "                 new LDAvis(\"#\" + \"ldavis_el102471376799594648008124456318\", ldavis_el102471376799594648008124456318_data);\n",
              "            })\n",
              "         });\n",
              "}\n",
              "</script>"
            ]
          },
          "metadata": {},
          "execution_count": 44
        }
      ]
    },
    {
      "cell_type": "code",
      "source": [
        "pyLDAvis.save_html(visual_data, 'HW_04_visual.html')"
      ],
      "metadata": {
        "id": "0gnCeJkNDfS8"
      },
      "execution_count": null,
      "outputs": []
    },
    {
      "cell_type": "markdown",
      "source": [
        "[ссылка на файл визуализации](https://drive.google.com/file/d/1o6sdmS07sDn8oX9nXC4Sk8bjCrCJ-Te-/view?usp=drive_link)"
      ],
      "metadata": {
        "id": "O0P1b9B4G2o6"
      }
    },
    {
      "cell_type": "markdown",
      "source": [
        "### Основные темы:\n",
        "* учёба\n",
        "* работа\n",
        "* отдых\n",
        "* взаимотношения  "
      ],
      "metadata": {
        "id": "XNIOSQJfHf-q"
      }
    }
  ]
}